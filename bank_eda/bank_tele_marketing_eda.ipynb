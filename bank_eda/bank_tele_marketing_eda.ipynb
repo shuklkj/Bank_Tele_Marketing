{
 "cells": [
  {
   "cell_type": "code",
   "execution_count": 1,
   "id": "30b9d411",
   "metadata": {},
   "outputs": [],
   "source": [
    "import pandas as pd\n",
    "from pandas.api.types import is_numeric_dtype\n",
    "import matplotlib.pyplot as plt\n",
    "from matplotlib.colors import ListedColormap\n",
    "import seaborn as sns\n",
    "import math"
   ]
  },
  {
   "cell_type": "code",
   "execution_count": 2,
   "id": "bc7fd0cf",
   "metadata": {},
   "outputs": [],
   "source": [
    "bank_data = pd.read_csv('bank-full.csv', index_col=None, delimiter=';')\n"
   ]
  },
  {
   "cell_type": "code",
   "execution_count": 3,
   "id": "d7a68f14",
   "metadata": {},
   "outputs": [],
   "source": [
    "bank_data['target'] = bank_data['y'].map({'yes': 0, 'no':1})\n",
    "bank_data.drop(['y'], axis=1, inplace=True)"
   ]
  },
  {
   "cell_type": "code",
   "execution_count": 4,
   "id": "fea220c2",
   "metadata": {},
   "outputs": [
    {
     "data": {
      "text/html": [
       "<div>\n",
       "<style scoped>\n",
       "    .dataframe tbody tr th:only-of-type {\n",
       "        vertical-align: middle;\n",
       "    }\n",
       "\n",
       "    .dataframe tbody tr th {\n",
       "        vertical-align: top;\n",
       "    }\n",
       "\n",
       "    .dataframe thead th {\n",
       "        text-align: right;\n",
       "    }\n",
       "</style>\n",
       "<table border=\"1\" class=\"dataframe\">\n",
       "  <thead>\n",
       "    <tr style=\"text-align: right;\">\n",
       "      <th></th>\n",
       "      <th>age</th>\n",
       "      <th>job</th>\n",
       "      <th>marital</th>\n",
       "      <th>education</th>\n",
       "      <th>default</th>\n",
       "      <th>balance</th>\n",
       "      <th>housing</th>\n",
       "      <th>loan</th>\n",
       "      <th>contact</th>\n",
       "      <th>day</th>\n",
       "      <th>month</th>\n",
       "      <th>duration</th>\n",
       "      <th>campaign</th>\n",
       "      <th>pdays</th>\n",
       "      <th>previous</th>\n",
       "      <th>poutcome</th>\n",
       "      <th>target</th>\n",
       "    </tr>\n",
       "  </thead>\n",
       "  <tbody>\n",
       "    <tr>\n",
       "      <th>0</th>\n",
       "      <td>58</td>\n",
       "      <td>management</td>\n",
       "      <td>married</td>\n",
       "      <td>tertiary</td>\n",
       "      <td>no</td>\n",
       "      <td>2143</td>\n",
       "      <td>yes</td>\n",
       "      <td>no</td>\n",
       "      <td>unknown</td>\n",
       "      <td>5</td>\n",
       "      <td>may</td>\n",
       "      <td>261</td>\n",
       "      <td>1</td>\n",
       "      <td>-1</td>\n",
       "      <td>0</td>\n",
       "      <td>unknown</td>\n",
       "      <td>1</td>\n",
       "    </tr>\n",
       "    <tr>\n",
       "      <th>1</th>\n",
       "      <td>44</td>\n",
       "      <td>technician</td>\n",
       "      <td>single</td>\n",
       "      <td>secondary</td>\n",
       "      <td>no</td>\n",
       "      <td>29</td>\n",
       "      <td>yes</td>\n",
       "      <td>no</td>\n",
       "      <td>unknown</td>\n",
       "      <td>5</td>\n",
       "      <td>may</td>\n",
       "      <td>151</td>\n",
       "      <td>1</td>\n",
       "      <td>-1</td>\n",
       "      <td>0</td>\n",
       "      <td>unknown</td>\n",
       "      <td>1</td>\n",
       "    </tr>\n",
       "    <tr>\n",
       "      <th>2</th>\n",
       "      <td>33</td>\n",
       "      <td>entrepreneur</td>\n",
       "      <td>married</td>\n",
       "      <td>secondary</td>\n",
       "      <td>no</td>\n",
       "      <td>2</td>\n",
       "      <td>yes</td>\n",
       "      <td>yes</td>\n",
       "      <td>unknown</td>\n",
       "      <td>5</td>\n",
       "      <td>may</td>\n",
       "      <td>76</td>\n",
       "      <td>1</td>\n",
       "      <td>-1</td>\n",
       "      <td>0</td>\n",
       "      <td>unknown</td>\n",
       "      <td>1</td>\n",
       "    </tr>\n",
       "    <tr>\n",
       "      <th>3</th>\n",
       "      <td>47</td>\n",
       "      <td>blue-collar</td>\n",
       "      <td>married</td>\n",
       "      <td>unknown</td>\n",
       "      <td>no</td>\n",
       "      <td>1506</td>\n",
       "      <td>yes</td>\n",
       "      <td>no</td>\n",
       "      <td>unknown</td>\n",
       "      <td>5</td>\n",
       "      <td>may</td>\n",
       "      <td>92</td>\n",
       "      <td>1</td>\n",
       "      <td>-1</td>\n",
       "      <td>0</td>\n",
       "      <td>unknown</td>\n",
       "      <td>1</td>\n",
       "    </tr>\n",
       "    <tr>\n",
       "      <th>4</th>\n",
       "      <td>33</td>\n",
       "      <td>unknown</td>\n",
       "      <td>single</td>\n",
       "      <td>unknown</td>\n",
       "      <td>no</td>\n",
       "      <td>1</td>\n",
       "      <td>no</td>\n",
       "      <td>no</td>\n",
       "      <td>unknown</td>\n",
       "      <td>5</td>\n",
       "      <td>may</td>\n",
       "      <td>198</td>\n",
       "      <td>1</td>\n",
       "      <td>-1</td>\n",
       "      <td>0</td>\n",
       "      <td>unknown</td>\n",
       "      <td>1</td>\n",
       "    </tr>\n",
       "  </tbody>\n",
       "</table>\n",
       "</div>"
      ],
      "text/plain": [
       "   age           job  marital  education default  balance housing loan  \\\n",
       "0   58    management  married   tertiary      no     2143     yes   no   \n",
       "1   44    technician   single  secondary      no       29     yes   no   \n",
       "2   33  entrepreneur  married  secondary      no        2     yes  yes   \n",
       "3   47   blue-collar  married    unknown      no     1506     yes   no   \n",
       "4   33       unknown   single    unknown      no        1      no   no   \n",
       "\n",
       "   contact  day month  duration  campaign  pdays  previous poutcome  target  \n",
       "0  unknown    5   may       261         1     -1         0  unknown       1  \n",
       "1  unknown    5   may       151         1     -1         0  unknown       1  \n",
       "2  unknown    5   may        76         1     -1         0  unknown       1  \n",
       "3  unknown    5   may        92         1     -1         0  unknown       1  \n",
       "4  unknown    5   may       198         1     -1         0  unknown       1  "
      ]
     },
     "execution_count": 4,
     "metadata": {},
     "output_type": "execute_result"
    }
   ],
   "source": [
    "bank_data.head()"
   ]
  },
  {
   "cell_type": "code",
   "execution_count": 5,
   "id": "61224b48",
   "metadata": {},
   "outputs": [
    {
     "name": "stdout",
     "output_type": "stream",
     "text": [
      "<class 'pandas.core.frame.DataFrame'>\n",
      "RangeIndex: 45211 entries, 0 to 45210\n",
      "Data columns (total 17 columns):\n",
      " #   Column     Non-Null Count  Dtype \n",
      "---  ------     --------------  ----- \n",
      " 0   age        45211 non-null  int64 \n",
      " 1   job        45211 non-null  object\n",
      " 2   marital    45211 non-null  object\n",
      " 3   education  45211 non-null  object\n",
      " 4   default    45211 non-null  object\n",
      " 5   balance    45211 non-null  int64 \n",
      " 6   housing    45211 non-null  object\n",
      " 7   loan       45211 non-null  object\n",
      " 8   contact    45211 non-null  object\n",
      " 9   day        45211 non-null  int64 \n",
      " 10  month      45211 non-null  object\n",
      " 11  duration   45211 non-null  int64 \n",
      " 12  campaign   45211 non-null  int64 \n",
      " 13  pdays      45211 non-null  int64 \n",
      " 14  previous   45211 non-null  int64 \n",
      " 15  poutcome   45211 non-null  object\n",
      " 16  target     45211 non-null  int64 \n",
      "dtypes: int64(8), object(9)\n",
      "memory usage: 5.9+ MB\n"
     ]
    }
   ],
   "source": [
    "bank_data.info()"
   ]
  },
  {
   "cell_type": "code",
   "execution_count": 6,
   "id": "01139e2d",
   "metadata": {},
   "outputs": [
    {
     "data": {
      "text/plain": [
       "age          0\n",
       "job          0\n",
       "marital      0\n",
       "education    0\n",
       "default      0\n",
       "balance      0\n",
       "housing      0\n",
       "loan         0\n",
       "contact      0\n",
       "day          0\n",
       "month        0\n",
       "duration     0\n",
       "campaign     0\n",
       "pdays        0\n",
       "previous     0\n",
       "poutcome     0\n",
       "target       0\n",
       "dtype: int64"
      ]
     },
     "execution_count": 6,
     "metadata": {},
     "output_type": "execute_result"
    }
   ],
   "source": [
    "bank_data.isna().sum()"
   ]
  },
  {
   "cell_type": "code",
   "execution_count": 7,
   "id": "aa9ba715",
   "metadata": {},
   "outputs": [
    {
     "data": {
      "text/plain": [
       "age           int64\n",
       "job          object\n",
       "marital      object\n",
       "education    object\n",
       "default      object\n",
       "balance       int64\n",
       "housing      object\n",
       "loan         object\n",
       "contact      object\n",
       "day           int64\n",
       "month        object\n",
       "duration      int64\n",
       "campaign      int64\n",
       "pdays         int64\n",
       "previous      int64\n",
       "poutcome     object\n",
       "target        int64\n",
       "dtype: object"
      ]
     },
     "execution_count": 7,
     "metadata": {},
     "output_type": "execute_result"
    }
   ],
   "source": [
    "bank_data.dtypes"
   ]
  },
  {
   "cell_type": "code",
   "execution_count": 8,
   "id": "054610f6",
   "metadata": {},
   "outputs": [
    {
     "data": {
      "text/plain": [
       "0"
      ]
     },
     "execution_count": 8,
     "metadata": {},
     "output_type": "execute_result"
    }
   ],
   "source": [
    "bank_data.duplicated().sum()"
   ]
  },
  {
   "cell_type": "code",
   "execution_count": 9,
   "id": "63a49ab0",
   "metadata": {},
   "outputs": [],
   "source": [
    "def eda_categorical(data, variable, ax=None):\n",
    "    variable_df = data[variable].value_counts(normalize=True).reset_index()\n",
    "    n_colors = len(variable_df)\n",
    "    variable_df.set_index('index').T.plot(kind='barh',\n",
    "                                        stacked=True,\n",
    "                                        colormap=ListedColormap(sns.color_palette(\"Set2\", n_colors)),\n",
    "                                        width=0.15, ax=ax)\n",
    "\n",
    "def multiple_eda_categorical(data, list_categorical):\n",
    "    n_rows = math.ceil(len(list_categorical)/2)\n",
    "    fig = plt.figure(figsize=(12,n_rows*3))\n",
    "\n",
    "    for i, variable in enumerate(list_categorical):\n",
    "        ax = fig.add_subplot(n_rows,2,i+1)\n",
    "        eda_categorical(data, variable, ax=ax)\n",
    "    \n",
    "    plt.tight_layout()\n",
    "    plt.show()\n",
    "\n",
    "def multiple_eda_continuous(data, list_continuous):\n",
    "    n_rows = math.ceil(len(list_continuous)/3)\n",
    "    fig = plt.figure(figsize=(12,n_rows*5))\n",
    "    palette = sns.color_palette('Set2', 7)\n",
    "\n",
    "    for i, variable in enumerate(list_continuous):\n",
    "        ax = fig.add_subplot(n_rows,3,i+1)\n",
    "        sns.boxplot(x=variable, data=data, orient='v', palette=[palette[i]], ax=ax)\n",
    "        ax.set_ylabel('')\n",
    "        ax.set_title(variable)\n",
    "\n",
    "    plt.tight_layout()\n",
    "    plt.show()"
   ]
  },
  {
   "cell_type": "code",
   "execution_count": 10,
   "id": "6f8c812f",
   "metadata": {},
   "outputs": [],
   "source": [
    "continuous, categorical = [], []\n",
    "\n",
    "for col in [c for c in bank_data.columns if c != 'target']:\n",
    "    if is_numeric_dtype(bank_data[col]):\n",
    "        continuous.append(col)\n",
    "    else:\n",
    "        categorical.append(col)"
   ]
  },
  {
   "cell_type": "code",
   "execution_count": 11,
   "id": "1d4d336e",
   "metadata": {},
   "outputs": [
    {
     "data": {
      "text/plain": [
       "['job',\n",
       " 'marital',\n",
       " 'education',\n",
       " 'default',\n",
       " 'housing',\n",
       " 'loan',\n",
       " 'contact',\n",
       " 'month',\n",
       " 'poutcome']"
      ]
     },
     "execution_count": 11,
     "metadata": {},
     "output_type": "execute_result"
    }
   ],
   "source": [
    "categorical"
   ]
  },
  {
   "cell_type": "code",
   "execution_count": 12,
   "id": "b4a66c56",
   "metadata": {},
   "outputs": [
    {
     "data": {
      "text/plain": [
       "['age', 'balance', 'day', 'duration', 'campaign', 'pdays', 'previous']"
      ]
     },
     "execution_count": 12,
     "metadata": {},
     "output_type": "execute_result"
    }
   ],
   "source": [
    "continuous"
   ]
  },
  {
   "cell_type": "markdown",
   "id": "482ca287",
   "metadata": {},
   "source": [
    "## Visualize the Target column"
   ]
  },
  {
   "cell_type": "code",
   "execution_count": 13,
   "id": "ea90ded8",
   "metadata": {},
   "outputs": [
    {
     "name": "stdout",
     "output_type": "stream",
     "text": [
      "Dataset contains 45211 records\n",
      "Number of customers who subscribed: 5289 (11.70%)\n",
      "Number of customers who have not subscribed: 39922 (88.30%)\n"
     ]
    }
   ],
   "source": [
    "n = len(bank_data)\n",
    "n_not_subscribed = sum(bank_data['target'])\n",
    "n_subscribe = n - n_not_subscribed\n",
    "\n",
    "print('Dataset contains %d records' % (n))\n",
    "print('Number of customers who subscribed: %d (%0.2f%%)' % (n_subscribe, n_subscribe*100/n))\n",
    "print('Number of customers who have not subscribed: %d (%0.2f%%)' % (n_not_subscribed, n_not_subscribed*100/n))\n"
   ]
  },
  {
   "cell_type": "code",
   "execution_count": 14,
   "id": "8323a976",
   "metadata": {
    "scrolled": true
   },
   "outputs": [
    {
     "data": {
      "text/plain": [
       "<AxesSubplot:xlabel='target', ylabel='count'>"
      ]
     },
     "execution_count": 14,
     "metadata": {},
     "output_type": "execute_result"
    },
    {
     "data": {
      "image/png": "[encoded data removed]",
      "text/plain": [
       "<Figure size 432x288 with 1 Axes>"
      ]
     },
     "metadata": {
      "needs_background": "light"
     },
     "output_type": "display_data"
    }
   ],
   "source": [
    "sns.countplot(x='target', data=bank_data)"
   ]
  },
  {
   "cell_type": "markdown",
   "id": "25887b71",
   "metadata": {},
   "source": [
    "There are 5289 which is 11.7% of customers have subscribed to the term deposit and around 39,922 which is 88.3% have not subscribed to the term deposit."
   ]
  },
  {
   "cell_type": "markdown",
   "id": "0f70d225",
   "metadata": {},
   "source": [
    "## Visualize the categorical values"
   ]
  },
  {
   "cell_type": "code",
   "execution_count": 15,
   "id": "cbff90b7",
   "metadata": {},
   "outputs": [
    {
     "data": {
      "image/png": "[encoded data removed]",
      "text/plain": [
       "<Figure size 864x1080 with 9 Axes>"
      ]
     },
     "metadata": {
      "needs_background": "light"
     },
     "output_type": "display_data"
    }
   ],
   "source": [
    "multiple_eda_categorical(bank_data, categorical)"
   ]
  },
  {
   "cell_type": "markdown",
   "id": "1c3db117",
   "metadata": {},
   "source": [
    "### Interpretation"
   ]
  },
  {
   "cell_type": "markdown",
   "id": "04b4c838",
   "metadata": {},
   "source": [
    "## Visualize the continuous variables"
   ]
  },
  {
   "cell_type": "code",
   "execution_count": 16,
   "id": "405cc9d1",
   "metadata": {},
   "outputs": [
    {
     "name": "stderr",
     "output_type": "stream",
     "text": [
      "/Users/kajalshukla/opt/anaconda3/lib/python3.9/site-packages/seaborn/_oldcore.py:1599: UserWarning: Vertical orientation ignored with only `x` specified.\n",
      "  warnings.warn(single_var_warning.format(\"Vertical\", \"x\"))\n",
      "/Users/kajalshukla/opt/anaconda3/lib/python3.9/site-packages/seaborn/_oldcore.py:1599: UserWarning: Vertical orientation ignored with only `x` specified.\n",
      "  warnings.warn(single_var_warning.format(\"Vertical\", \"x\"))\n",
      "/Users/kajalshukla/opt/anaconda3/lib/python3.9/site-packages/seaborn/_oldcore.py:1599: UserWarning: Vertical orientation ignored with only `x` specified.\n",
      "  warnings.warn(single_var_warning.format(\"Vertical\", \"x\"))\n",
      "/Users/kajalshukla/opt/anaconda3/lib/python3.9/site-packages/seaborn/_oldcore.py:1599: UserWarning: Vertical orientation ignored with only `x` specified.\n",
      "  warnings.warn(single_var_warning.format(\"Vertical\", \"x\"))\n",
      "/Users/kajalshukla/opt/anaconda3/lib/python3.9/site-packages/seaborn/_oldcore.py:1599: UserWarning: Vertical orientation ignored with only `x` specified.\n",
      "  warnings.warn(single_var_warning.format(\"Vertical\", \"x\"))\n",
      "/Users/kajalshukla/opt/anaconda3/lib/python3.9/site-packages/seaborn/_oldcore.py:1599: UserWarning: Vertical orientation ignored with only `x` specified.\n",
      "  warnings.warn(single_var_warning.format(\"Vertical\", \"x\"))\n",
      "/Users/kajalshukla/opt/anaconda3/lib/python3.9/site-packages/seaborn/_oldcore.py:1599: UserWarning: Vertical orientation ignored with only `x` specified.\n",
      "  warnings.warn(single_var_warning.format(\"Vertical\", \"x\"))\n"
     ]
    },
    {
     "data": {
      "image/png": "[encoded data removed]",
      "text/plain": [
       "<Figure size 864x1080 with 7 Axes>"
      ]
     },
     "metadata": {
      "needs_background": "light"
     },
     "output_type": "display_data"
    }
   ],
   "source": [
    "multiple_eda_continuous(bank_data, continuous)\n"
   ]
  },
  {
   "cell_type": "markdown",
   "id": "faf2b91d",
   "metadata": {},
   "source": [
    "### Interpretation"
   ]
  },
  {
   "cell_type": "code",
   "execution_count": 25,
   "id": "4734e206",
   "metadata": {},
   "outputs": [
    {
     "data": {
      "image/png": "[encoded data removed]",
      "text/plain": [
       "<Figure size 432x288 with 1 Axes>"
      ]
     },
     "metadata": {
      "needs_background": "light"
     },
     "output_type": "display_data"
    },
    {
     "data": {
      "image/png": "[encoded data removed]",
      "text/plain": [
       "<Figure size 432x288 with 1 Axes>"
      ]
     },
     "metadata": {
      "needs_background": "light"
     },
     "output_type": "display_data"
    },
    {
     "data": {
      "image/png": "[encoded data removed]",
      "text/plain": [
       "<Figure size 432x288 with 1 Axes>"
      ]
     },
     "metadata": {
      "needs_background": "light"
     },
     "output_type": "display_data"
    },
    {
     "data": {
      "image/png": "[encoded data removed]",
      "text/plain": [
       "<Figure size 432x288 with 1 Axes>"
      ]
     },
     "metadata": {
      "needs_background": "light"
     },
     "output_type": "display_data"
    },
    {
     "data": {
      "image/png": "[encoded data removed]",
      "text/plain": [
       "<Figure size 432x288 with 1 Axes>"
      ]
     },
     "metadata": {
      "needs_background": "light"
     },
     "output_type": "display_data"
    },
    {
     "data": {
      "image/png": "[encoded data removed]",
      "text/plain": [
       "<Figure size 432x288 with 1 Axes>"
      ]
     },
     "metadata": {
      "needs_background": "light"
     },
     "output_type": "display_data"
    },
    {
     "data": {
      "image/png": "[encoded data removed]",
      "text/plain": [
       "<Figure size 432x288 with 1 Axes>"
      ]
     },
     "metadata": {
      "needs_background": "light"
     },
     "output_type": "display_data"
    }
   ],
   "source": [
    "for col in continuous:\n",
    "    sns.histplot(data=bank_data, x=col, kde=True)\n",
    "    plt.show()"
   ]
  },
  {
   "cell_type": "code",
   "execution_count": null,
   "id": "b6def02b",
   "metadata": {},
   "outputs": [],
   "source": []
  },
  {
   "cell_type": "code",
   "execution_count": null,
   "id": "4d8708f2",
   "metadata": {},
   "outputs": [],
   "source": []
  },
  {
   "cell_type": "code",
   "execution_count": null,
   "id": "385f71c5",
   "metadata": {},
   "outputs": [],
   "source": []
  },
  {
   "cell_type": "code",
   "execution_count": null,
   "id": "4137436c",
   "metadata": {},
   "outputs": [],
   "source": []
  },
  {
   "cell_type": "code",
   "execution_count": 17,
   "id": "0bb7d1e6",
   "metadata": {},
   "outputs": [],
   "source": [
    "import pandas as pd\n",
    "import scipy.stats as stats\n",
    "\n",
    "class CategoricalFeature():\n",
    "    def __init__(self, df, feature):\n",
    "        self.df = df\n",
    "        self.feature = feature\n",
    "\n",
    "    @property\n",
    "    def df_lite(self):\n",
    "        df_lite = self.df\n",
    "        df_lite['bin'] = df_lite[self.feature].fillna('MISSING')\n",
    "        return df_lite[['bin', 'target']]\n",
    "\n",
    "\n",
    "class ContinuousFeature():\n",
    "    def __init__(self, df, feature):\n",
    "        self.df = df\n",
    "        self.feature = feature\n",
    "        self.bin_min_size = int(len(self.df) * 0.05)\n",
    "\n",
    "    def __generate_bins(self, bins_num):\n",
    "        df = self.df[[self.feature, 'target']]\n",
    "        df['bin'] = pd.qcut(df[self.feature], bins_num, duplicates='drop') \\\n",
    "                    .apply(lambda x: x.left) \\\n",
    "                    .astype(float)\n",
    "        return df\n",
    "\n",
    "    def __generate_correct_bins(self, bins_max=20):\n",
    "        for bins_num in range(bins_max, 1, -1):\n",
    "            df = self.__generate_bins(bins_num)\n",
    "            df_grouped = pd.DataFrame(df.groupby('bin') \\\n",
    "                                      .agg({self.feature: 'count',\n",
    "                                            'target': 'sum'})) \\\n",
    "                                      .reset_index()\n",
    "            r, p = stats.stats.spearmanr(df_grouped['bin'], df_grouped['target'])\n",
    "\n",
    "            if (\n",
    "                    abs(r)==1 and                                                        # check if woe for bins are monotonic\n",
    "                    df_grouped[self.feature].min() > self.bin_min_size                   # check if bin size is greater than 5%\n",
    "                    and not (df_grouped[self.feature] == df_grouped['target']).any()      # check if number of good and bad is not equal to 0\n",
    "            ):\n",
    "                break\n",
    "\n",
    "        return df\n",
    "\n",
    "    @property\n",
    "    def df_lite(self):\n",
    "        df_lite = self.__generate_correct_bins()\n",
    "        df_lite['bin'].fillna('MISSING', inplace=True)\n",
    "        return df_lite[['bin', 'target']]\n",
    "    "
   ]
  },
  {
   "cell_type": "code",
   "execution_count": 18,
   "id": "361ec16b",
   "metadata": {},
   "outputs": [],
   "source": [
    "import pandas as pd\n",
    "import numpy as np\n",
    "import scipy.stats as stats\n",
    "import matplotlib.pyplot as plt\n",
    "import seaborn as sns\n",
    "\n",
    "pd.set_option('mode.chained_assignment', None)\n",
    "\n",
    "class AttributeRelevance():\n",
    "    def seq_palette(self, n_colors):\n",
    "        return sns.cubehelix_palette(n_colors, start=.5, rot=-.75, reverse=True)\n",
    "\n",
    "    def bulk_iv(self, feats, iv, woe_extremes=False):\n",
    "        iv_dict = {}\n",
    "        for f in feats:\n",
    "            iv_df, iv_value = iv.calculate_iv(f)\n",
    "            if woe_extremes:\n",
    "                iv_dict[f.feature] = [iv_value, iv_df['woe'].min(), iv_df['woe'].max()]\n",
    "                cols = ['iv', 'woe_min', 'woe_max']\n",
    "            else:\n",
    "                iv_dict[f.feature] = iv_value\n",
    "                cols = ['iv']\n",
    "        df = pd.DataFrame.from_dict(iv_dict, orient='index', columns=cols)\n",
    "        return df\n",
    "\n",
    "    def bulk_stats(self, feats, s):\n",
    "        stats_dict = {}\n",
    "        for f in feats:\n",
    "            p_value, effect_size = s.calculate_chi(f)\n",
    "            stats_dict[f.feature] = [p_value, effect_size]\n",
    "        df = pd.DataFrame.from_dict(stats_dict, orient='index', columns=['p-value', 'effect_size'])\n",
    "        return df\n",
    "\n",
    "    def analyze(self, feats, iv, s=None, interpretation=False):\n",
    "        df_iv = self.bulk_iv(feats, iv).sort_values(by='iv', ascending=False)\n",
    "        if s is not None:\n",
    "            df_stats = self.bulk_stats(feats, s)\n",
    "            df_iv = df_iv.merge(df_stats, left_index=True, right_index=True)\n",
    "        if interpretation:\n",
    "            df_iv['iv_interpretation'] = df_iv['iv'].apply(iv.interpretation)\n",
    "            if s is not None:\n",
    "                df_iv['es_interpretation'] = df_iv['effect_size'].apply(s.interpretation)\n",
    "        return df_iv\n",
    "\n",
    "    def draw_iv(self, feats, iv):\n",
    "        df = self.analyze(feats, iv)\n",
    "        fig, ax = plt.subplots(figsize=(10, 6))\n",
    "        sns.barplot(x=df.index, y='iv', data=df, palette=self.seq_palette(len(feats)))\n",
    "        ax.set_title('IV values')\n",
    "        plt.xticks(rotation=90)\n",
    "        plt.show()\n",
    "\n",
    "    def draw_woe_extremes(self, feats, iv):\n",
    "        df = self.bulk_iv(feats, iv, woe_extremes=True).sort_values(by='iv', ascending=False)\n",
    "        fig, ax = plt.subplots(figsize=(10, 6))\n",
    "        sns.barplot(x=df.index, y='woe_min', data=df, palette=self.seq_palette(len(feats)))\n",
    "        sns.barplot(x=df.index, y='woe_max', data=df, palette=self.seq_palette(len(feats)))\n",
    "        ax.axhline(y=0, color='black', linewidth=1)\n",
    "        ax.set_title('Range of WOE values')\n",
    "        ax.set_ylabel('WOE')\n",
    "        plt.xticks(rotation=90)\n",
    "        plt.show()\n",
    "\n",
    "    def draw_woe_multiplot(self, feats, iv):\n",
    "        n = len(feats)\n",
    "        nrows = int(np.ceil(n/3))\n",
    "        fig, ax = plt.subplots(nrows=nrows, ncols=3, figsize=(15, nrows*4))\n",
    "        for i in range(n):\n",
    "            iv_df, iv_value = iv.calculate_iv(feats[i])\n",
    "            sns.barplot(x=feats[i].feature, y='woe', data=iv_df, color='#455872', ax=fig.axes[i])\n",
    "\n",
    "        for ax in fig.axes:\n",
    "            plt.sca(ax)\n",
    "            plt.xticks(rotation=50)\n",
    "\n",
    "        plt.tight_layout()\n",
    "        plt.show()\n",
    "\n",
    "class Analysis():\n",
    "    def seq_palette(self, n_colors):\n",
    "        return sns.cubehelix_palette(n_colors, start=.5, rot=-.75, reverse=True)\n",
    "\n",
    "    def group_by_feature(self, feat):\n",
    "        df = feat.df_lite \\\n",
    "                            .groupby('bin') \\\n",
    "                            .agg({'label': ['count', 'sum']}) \\\n",
    "                            .reset_index()\n",
    "        df.columns = [feat.feature, 'count', 'good']\n",
    "        df['bad'] = df['count'] - df['good']\n",
    "        return df\n",
    "\n",
    "class StatsSignificance(Analysis):\n",
    "    def calculate_chi(self, feat):\n",
    "        df = self.group_by_feature(feat)\n",
    "        df_chi = np.array(df[['good', 'bad']])\n",
    "        n = df['count'].sum()\n",
    "\n",
    "        chi = stats.chi2_contingency(df_chi)\n",
    "        cramers_v = np.sqrt(chi[0] / n)          # assume that k=2 (good, bad)\n",
    "        return chi[1], cramers_v\n",
    "\n",
    "    @staticmethod\n",
    "    def interpretation(cramers_v):\n",
    "        if cramers_v < 0.1:\n",
    "            return 'useless'\n",
    "        elif cramers_v < 0.2:\n",
    "            return 'weak'\n",
    "        elif cramers_v < 0.4:\n",
    "            return 'medium'\n",
    "        elif cramers_v < 0.6:\n",
    "            return 'strong'\n",
    "        else:\n",
    "            return 'very strong'\n",
    "\n",
    "    def interpret_chi(self, feat):\n",
    "        _, cramers_v = self.calculate_chi(feat)\n",
    "        return self.interpretation(cramers_v)\n",
    "\n",
    "    def print_chi(self, feat):\n",
    "        p_value, cramers_v = self.calculate_chi(feat)\n",
    "        print('P-value: %0.2f\\nEffect size: %0.2f' % (p_value, cramers_v))\n",
    "        print('%s is a %s predictor' % (feat.feature.capitalize(), self.interpretation(cramers_v)))\n",
    "\n",
    "\n",
    "class IV(Analysis):\n",
    "    @staticmethod\n",
    "    def __perc_share(df, group_name):\n",
    "        return df[group_name] / df[group_name].sum()\n",
    "\n",
    "    def __calculate_perc_share(self, feat):\n",
    "        df = self.group_by_feature(feat)\n",
    "        df['perc_good'] = self.__perc_share(df, 'good')\n",
    "        df['perc_bad'] = self.__perc_share(df, 'bad')\n",
    "        df['perc_diff'] = df['perc_good'] - df['perc_bad']\n",
    "        return df\n",
    "\n",
    "    def __calculate_woe(self, feat):\n",
    "        df = self.__calculate_perc_share(feat)\n",
    "        df['woe'] = np.log(df['perc_good']/df['perc_bad'])\n",
    "        df['woe'] = df['woe'].replace([np.inf, -np.inf], np.nan).fillna(0)\n",
    "        return df\n",
    "\n",
    "    def calculate_iv(self, feat):\n",
    "        df = self.__calculate_woe(feat)\n",
    "        df['iv'] = df['perc_diff'] * df['woe']\n",
    "        return df, df['iv'].sum()\n",
    "\n",
    "    def draw_woe(self, feat):\n",
    "        iv_df, iv_value = self.calculate_iv(feat)\n",
    "        fig, ax = plt.subplots(figsize=(10,6))\n",
    "        sns.barplot(x=feat.feature, y='woe', data=iv_df, palette=self.seq_palette(len(iv_df.index)))\n",
    "        ax.set_title('WOE visualization for: ' + feat.feature)\n",
    "        plt.show()\n",
    "        plt.show()\n",
    "\n",
    "    @staticmethod\n",
    "    def interpretation(iv):\n",
    "        if iv < 0.02:\n",
    "            return 'useless'\n",
    "        elif iv < 0.1:\n",
    "            return 'weak'\n",
    "        elif iv < 0.3:\n",
    "            return 'medium'\n",
    "        elif iv < 0.5:\n",
    "            return 'strong'\n",
    "        else:\n",
    "            return 'suspicious'\n",
    "\n",
    "    def interpret_iv(self, feat):\n",
    "        _, iv = self.calculate_iv(feat)\n",
    "        return self.interpretation(iv)\n",
    "\n",
    "    def print_iv(self, feat):\n",
    "        _, iv = self.calculate_iv(feat)\n",
    "        print('Information value: %0.2f' % iv)\n",
    "        print('%s is a %s predictor' % (feat.feature.capitalize(), self.interpretation(iv)))"
   ]
  },
  {
   "cell_type": "code",
   "execution_count": 19,
   "id": "4ac7a054",
   "metadata": {},
   "outputs": [],
   "source": [
    "# age, job, marital, balance, campaign, education, default"
   ]
  },
  {
   "cell_type": "code",
   "execution_count": 20,
   "id": "fa727f5a",
   "metadata": {},
   "outputs": [],
   "source": [
    "feat_job = CategoricalFeature(bank_data, 'job')\n",
    "feat_age = ContinuousFeature(bank_data, 'age')\n",
    "feat_marital = CategoricalFeature(bank_data, 'marital')\n",
    "feat_balance = ContinuousFeature(bank_data, 'balance')"
   ]
  },
  {
   "cell_type": "code",
   "execution_count": 21,
   "id": "77989e33",
   "metadata": {},
   "outputs": [
    {
     "data": {
      "text/html": [
       "<div>\n",
       "<style scoped>\n",
       "    .dataframe tbody tr th:only-of-type {\n",
       "        vertical-align: middle;\n",
       "    }\n",
       "\n",
       "    .dataframe tbody tr th {\n",
       "        vertical-align: top;\n",
       "    }\n",
       "\n",
       "    .dataframe thead th {\n",
       "        text-align: right;\n",
       "    }\n",
       "</style>\n",
       "<table border=\"1\" class=\"dataframe\">\n",
       "  <thead>\n",
       "    <tr style=\"text-align: right;\">\n",
       "      <th></th>\n",
       "      <th>bin</th>\n",
       "      <th>target</th>\n",
       "    </tr>\n",
       "  </thead>\n",
       "  <tbody>\n",
       "    <tr>\n",
       "      <th>0</th>\n",
       "      <td>management</td>\n",
       "      <td>1</td>\n",
       "    </tr>\n",
       "    <tr>\n",
       "      <th>1</th>\n",
       "      <td>technician</td>\n",
       "      <td>1</td>\n",
       "    </tr>\n",
       "    <tr>\n",
       "      <th>2</th>\n",
       "      <td>entrepreneur</td>\n",
       "      <td>1</td>\n",
       "    </tr>\n",
       "    <tr>\n",
       "      <th>3</th>\n",
       "      <td>blue-collar</td>\n",
       "      <td>1</td>\n",
       "    </tr>\n",
       "    <tr>\n",
       "      <th>4</th>\n",
       "      <td>unknown</td>\n",
       "      <td>1</td>\n",
       "    </tr>\n",
       "  </tbody>\n",
       "</table>\n",
       "</div>"
      ],
      "text/plain": [
       "            bin  target\n",
       "0    management       1\n",
       "1    technician       1\n",
       "2  entrepreneur       1\n",
       "3   blue-collar       1\n",
       "4       unknown       1"
      ]
     },
     "execution_count": 21,
     "metadata": {},
     "output_type": "execute_result"
    }
   ],
   "source": [
    "feat_job.df_lite.head()\n"
   ]
  },
  {
   "cell_type": "code",
   "execution_count": 22,
   "id": "648ab749",
   "metadata": {},
   "outputs": [
    {
     "data": {
      "text/html": [
       "<div>\n",
       "<style scoped>\n",
       "    .dataframe tbody tr th:only-of-type {\n",
       "        vertical-align: middle;\n",
       "    }\n",
       "\n",
       "    .dataframe tbody tr th {\n",
       "        vertical-align: top;\n",
       "    }\n",
       "\n",
       "    .dataframe thead th {\n",
       "        text-align: right;\n",
       "    }\n",
       "</style>\n",
       "<table border=\"1\" class=\"dataframe\">\n",
       "  <thead>\n",
       "    <tr style=\"text-align: right;\">\n",
       "      <th></th>\n",
       "      <th>bin</th>\n",
       "      <th>target</th>\n",
       "    </tr>\n",
       "  </thead>\n",
       "  <tbody>\n",
       "    <tr>\n",
       "      <th>0</th>\n",
       "      <td>39.000</td>\n",
       "      <td>1</td>\n",
       "    </tr>\n",
       "    <tr>\n",
       "      <th>1</th>\n",
       "      <td>39.000</td>\n",
       "      <td>1</td>\n",
       "    </tr>\n",
       "    <tr>\n",
       "      <th>2</th>\n",
       "      <td>17.999</td>\n",
       "      <td>1</td>\n",
       "    </tr>\n",
       "    <tr>\n",
       "      <th>3</th>\n",
       "      <td>39.000</td>\n",
       "      <td>1</td>\n",
       "    </tr>\n",
       "    <tr>\n",
       "      <th>4</th>\n",
       "      <td>17.999</td>\n",
       "      <td>1</td>\n",
       "    </tr>\n",
       "  </tbody>\n",
       "</table>\n",
       "</div>"
      ],
      "text/plain": [
       "      bin  target\n",
       "0  39.000       1\n",
       "1  39.000       1\n",
       "2  17.999       1\n",
       "3  39.000       1\n",
       "4  17.999       1"
      ]
     },
     "execution_count": 22,
     "metadata": {},
     "output_type": "execute_result"
    }
   ],
   "source": [
    "feat_age.df_lite.head()"
   ]
  },
  {
   "cell_type": "code",
   "execution_count": 23,
   "id": "a1397833",
   "metadata": {},
   "outputs": [
    {
     "data": {
      "text/html": [
       "<div>\n",
       "<style scoped>\n",
       "    .dataframe tbody tr th:only-of-type {\n",
       "        vertical-align: middle;\n",
       "    }\n",
       "\n",
       "    .dataframe tbody tr th {\n",
       "        vertical-align: top;\n",
       "    }\n",
       "\n",
       "    .dataframe thead th {\n",
       "        text-align: right;\n",
       "    }\n",
       "</style>\n",
       "<table border=\"1\" class=\"dataframe\">\n",
       "  <thead>\n",
       "    <tr style=\"text-align: right;\">\n",
       "      <th></th>\n",
       "      <th>bin</th>\n",
       "      <th>target</th>\n",
       "    </tr>\n",
       "  </thead>\n",
       "  <tbody>\n",
       "    <tr>\n",
       "      <th>0</th>\n",
       "      <td>married</td>\n",
       "      <td>1</td>\n",
       "    </tr>\n",
       "    <tr>\n",
       "      <th>1</th>\n",
       "      <td>single</td>\n",
       "      <td>1</td>\n",
       "    </tr>\n",
       "    <tr>\n",
       "      <th>2</th>\n",
       "      <td>married</td>\n",
       "      <td>1</td>\n",
       "    </tr>\n",
       "    <tr>\n",
       "      <th>3</th>\n",
       "      <td>married</td>\n",
       "      <td>1</td>\n",
       "    </tr>\n",
       "    <tr>\n",
       "      <th>4</th>\n",
       "      <td>single</td>\n",
       "      <td>1</td>\n",
       "    </tr>\n",
       "  </tbody>\n",
       "</table>\n",
       "</div>"
      ],
      "text/plain": [
       "       bin  target\n",
       "0  married       1\n",
       "1   single       1\n",
       "2  married       1\n",
       "3  married       1\n",
       "4   single       1"
      ]
     },
     "execution_count": 23,
     "metadata": {},
     "output_type": "execute_result"
    }
   ],
   "source": [
    "feat_marital.df_lite.head()"
   ]
  },
  {
   "cell_type": "code",
   "execution_count": 24,
   "id": "07468c46",
   "metadata": {},
   "outputs": [
    {
     "data": {
      "text/html": [
       "<div>\n",
       "<style scoped>\n",
       "    .dataframe tbody tr th:only-of-type {\n",
       "        vertical-align: middle;\n",
       "    }\n",
       "\n",
       "    .dataframe tbody tr th {\n",
       "        vertical-align: top;\n",
       "    }\n",
       "\n",
       "    .dataframe thead th {\n",
       "        text-align: right;\n",
       "    }\n",
       "</style>\n",
       "<table border=\"1\" class=\"dataframe\">\n",
       "  <thead>\n",
       "    <tr style=\"text-align: right;\">\n",
       "      <th></th>\n",
       "      <th>bin</th>\n",
       "      <th>target</th>\n",
       "    </tr>\n",
       "  </thead>\n",
       "  <tbody>\n",
       "    <tr>\n",
       "      <th>0</th>\n",
       "      <td>955.000</td>\n",
       "      <td>1</td>\n",
       "    </tr>\n",
       "    <tr>\n",
       "      <th>1</th>\n",
       "      <td>2.000</td>\n",
       "      <td>1</td>\n",
       "    </tr>\n",
       "    <tr>\n",
       "      <th>2</th>\n",
       "      <td>-8019.001</td>\n",
       "      <td>1</td>\n",
       "    </tr>\n",
       "    <tr>\n",
       "      <th>3</th>\n",
       "      <td>955.000</td>\n",
       "      <td>1</td>\n",
       "    </tr>\n",
       "    <tr>\n",
       "      <th>4</th>\n",
       "      <td>-8019.001</td>\n",
       "      <td>1</td>\n",
       "    </tr>\n",
       "  </tbody>\n",
       "</table>\n",
       "</div>"
      ],
      "text/plain": [
       "        bin  target\n",
       "0   955.000       1\n",
       "1     2.000       1\n",
       "2 -8019.001       1\n",
       "3   955.000       1\n",
       "4 -8019.001       1"
      ]
     },
     "execution_count": 24,
     "metadata": {},
     "output_type": "execute_result"
    }
   ],
   "source": [
    "feat_balance.df_lite.head()"
   ]
  },
  {
   "cell_type": "code",
   "execution_count": null,
   "id": "2232402c",
   "metadata": {},
   "outputs": [],
   "source": []
  },
  {
   "cell_type": "code",
   "execution_count": null,
   "id": "80fef378",
   "metadata": {},
   "outputs": [],
   "source": []
  },
  {
   "cell_type": "code",
   "execution_count": null,
   "id": "096e751e",
   "metadata": {},
   "outputs": [],
   "source": []
  },
  {
   "cell_type": "code",
   "execution_count": null,
   "id": "a21986d2",
   "metadata": {},
   "outputs": [],
   "source": []
  },
  {
   "cell_type": "code",
   "execution_count": null,
   "id": "3179c146",
   "metadata": {},
   "outputs": [],
   "source": []
  },
  {
   "cell_type": "code",
   "execution_count": null,
   "id": "e880181a",
   "metadata": {},
   "outputs": [],
   "source": []
  }
 ],
 "metadata": {
  "kernelspec": {
   "display_name": "Python 3 (ipykernel)",
   "language": "python",
   "name": "python3"
  },
  "language_info": {
   "codemirror_mode": {
    "name": "ipython",
    "version": 3
   },
   "file_extension": ".py",
   "mimetype": "text/x-python",
   "name": "python",
   "nbconvert_exporter": "python",
   "pygments_lexer": "ipython3",
   "version": "3.9.12"
  }
 },
 "nbformat": 4,
 "nbformat_minor": 5
}
