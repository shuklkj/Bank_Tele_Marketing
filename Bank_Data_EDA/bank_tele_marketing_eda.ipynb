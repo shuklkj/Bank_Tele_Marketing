{
 "cells": [
  {
   "cell_type": "code",
   "execution_count": 1,
   "id": "30b9d411",
   "metadata": {},
   "outputs": [],
   "source": [
    "import pandas as pd\n",
    "from pandas.api.types import is_numeric_dtype\n",
    "import matplotlib.pyplot as plt\n",
    "from matplotlib.colors import ListedColormap\n",
    "import seaborn as sns\n",
    "import numpy as np\n",
    "import math\n",
    "import calendar"
   ]
  },
  {
   "cell_type": "code",
   "execution_count": 2,
   "id": "bc7fd0cf",
   "metadata": {},
   "outputs": [],
   "source": [
    "pd.set_option('display.max_columns', None)\n",
    "pd.set_option('display.max_rows', None)\n",
    "bank_data = pd.read_csv('bank-additional-full.csv', index_col=None, delimiter=';')\n"
   ]
  },
  {
   "cell_type": "code",
   "execution_count": 3,
   "id": "d7a68f14",
   "metadata": {},
   "outputs": [],
   "source": [
    "bank_data['target'] = bank_data['y'].map({'yes': 1, 'no':0})\n",
    "bank_data.drop(['y'], axis=1, inplace=True)"
   ]
  },
  {
   "cell_type": "code",
   "execution_count": 4,
   "id": "4576c2e5",
   "metadata": {},
   "outputs": [],
   "source": [
    "bank_data = bank_data.rename(columns = {\n",
    "    'emp.var.rate': \"employment_variation_rate\",\n",
    "    'cons.price.idx': \"consumer_price_index\",\n",
    "    'euribor3m': \"euribor_3_month_rate\",\n",
    "    'nr.employed': \"number_of_employees\"   \n",
    "})"
   ]
  },
  {
   "cell_type": "code",
   "execution_count": 5,
   "id": "fea220c2",
   "metadata": {},
   "outputs": [
    {
     "data": {
      "text/html": [
       "<div>\n",
       "<style scoped>\n",
       "    .dataframe tbody tr th:only-of-type {\n",
       "        vertical-align: middle;\n",
       "    }\n",
       "\n",
       "    .dataframe tbody tr th {\n",
       "        vertical-align: top;\n",
       "    }\n",
       "\n",
       "    .dataframe thead th {\n",
       "        text-align: right;\n",
       "    }\n",
       "</style>\n",
       "<table border=\"1\" class=\"dataframe\">\n",
       "  <thead>\n",
       "    <tr style=\"text-align: right;\">\n",
       "      <th></th>\n",
       "      <th>age</th>\n",
       "      <th>job</th>\n",
       "      <th>marital</th>\n",
       "      <th>education</th>\n",
       "      <th>default</th>\n",
       "      <th>housing</th>\n",
       "      <th>loan</th>\n",
       "      <th>contact</th>\n",
       "      <th>month</th>\n",
       "      <th>day_of_week</th>\n",
       "      <th>duration</th>\n",
       "      <th>campaign</th>\n",
       "      <th>pdays</th>\n",
       "      <th>previous</th>\n",
       "      <th>poutcome</th>\n",
       "      <th>employment_variation_rate</th>\n",
       "      <th>consumer_price_index</th>\n",
       "      <th>cons.conf.idx</th>\n",
       "      <th>euribor_3_month_rate</th>\n",
       "      <th>number_of_employees</th>\n",
       "      <th>target</th>\n",
       "    </tr>\n",
       "  </thead>\n",
       "  <tbody>\n",
       "    <tr>\n",
       "      <th>0</th>\n",
       "      <td>56</td>\n",
       "      <td>housemaid</td>\n",
       "      <td>married</td>\n",
       "      <td>basic.4y</td>\n",
       "      <td>no</td>\n",
       "      <td>no</td>\n",
       "      <td>no</td>\n",
       "      <td>telephone</td>\n",
       "      <td>may</td>\n",
       "      <td>mon</td>\n",
       "      <td>261</td>\n",
       "      <td>1</td>\n",
       "      <td>999</td>\n",
       "      <td>0</td>\n",
       "      <td>nonexistent</td>\n",
       "      <td>1.1</td>\n",
       "      <td>93.994</td>\n",
       "      <td>-36.4</td>\n",
       "      <td>4.857</td>\n",
       "      <td>5191.0</td>\n",
       "      <td>0</td>\n",
       "    </tr>\n",
       "    <tr>\n",
       "      <th>1</th>\n",
       "      <td>57</td>\n",
       "      <td>services</td>\n",
       "      <td>married</td>\n",
       "      <td>high.school</td>\n",
       "      <td>unknown</td>\n",
       "      <td>no</td>\n",
       "      <td>no</td>\n",
       "      <td>telephone</td>\n",
       "      <td>may</td>\n",
       "      <td>mon</td>\n",
       "      <td>149</td>\n",
       "      <td>1</td>\n",
       "      <td>999</td>\n",
       "      <td>0</td>\n",
       "      <td>nonexistent</td>\n",
       "      <td>1.1</td>\n",
       "      <td>93.994</td>\n",
       "      <td>-36.4</td>\n",
       "      <td>4.857</td>\n",
       "      <td>5191.0</td>\n",
       "      <td>0</td>\n",
       "    </tr>\n",
       "    <tr>\n",
       "      <th>2</th>\n",
       "      <td>37</td>\n",
       "      <td>services</td>\n",
       "      <td>married</td>\n",
       "      <td>high.school</td>\n",
       "      <td>no</td>\n",
       "      <td>yes</td>\n",
       "      <td>no</td>\n",
       "      <td>telephone</td>\n",
       "      <td>may</td>\n",
       "      <td>mon</td>\n",
       "      <td>226</td>\n",
       "      <td>1</td>\n",
       "      <td>999</td>\n",
       "      <td>0</td>\n",
       "      <td>nonexistent</td>\n",
       "      <td>1.1</td>\n",
       "      <td>93.994</td>\n",
       "      <td>-36.4</td>\n",
       "      <td>4.857</td>\n",
       "      <td>5191.0</td>\n",
       "      <td>0</td>\n",
       "    </tr>\n",
       "    <tr>\n",
       "      <th>3</th>\n",
       "      <td>40</td>\n",
       "      <td>admin.</td>\n",
       "      <td>married</td>\n",
       "      <td>basic.6y</td>\n",
       "      <td>no</td>\n",
       "      <td>no</td>\n",
       "      <td>no</td>\n",
       "      <td>telephone</td>\n",
       "      <td>may</td>\n",
       "      <td>mon</td>\n",
       "      <td>151</td>\n",
       "      <td>1</td>\n",
       "      <td>999</td>\n",
       "      <td>0</td>\n",
       "      <td>nonexistent</td>\n",
       "      <td>1.1</td>\n",
       "      <td>93.994</td>\n",
       "      <td>-36.4</td>\n",
       "      <td>4.857</td>\n",
       "      <td>5191.0</td>\n",
       "      <td>0</td>\n",
       "    </tr>\n",
       "    <tr>\n",
       "      <th>4</th>\n",
       "      <td>56</td>\n",
       "      <td>services</td>\n",
       "      <td>married</td>\n",
       "      <td>high.school</td>\n",
       "      <td>no</td>\n",
       "      <td>no</td>\n",
       "      <td>yes</td>\n",
       "      <td>telephone</td>\n",
       "      <td>may</td>\n",
       "      <td>mon</td>\n",
       "      <td>307</td>\n",
       "      <td>1</td>\n",
       "      <td>999</td>\n",
       "      <td>0</td>\n",
       "      <td>nonexistent</td>\n",
       "      <td>1.1</td>\n",
       "      <td>93.994</td>\n",
       "      <td>-36.4</td>\n",
       "      <td>4.857</td>\n",
       "      <td>5191.0</td>\n",
       "      <td>0</td>\n",
       "    </tr>\n",
       "  </tbody>\n",
       "</table>\n",
       "</div>"
      ],
      "text/plain": [
       "   age        job  marital    education  default housing loan    contact  \\\n",
       "0   56  housemaid  married     basic.4y       no      no   no  telephone   \n",
       "1   57   services  married  high.school  unknown      no   no  telephone   \n",
       "2   37   services  married  high.school       no     yes   no  telephone   \n",
       "3   40     admin.  married     basic.6y       no      no   no  telephone   \n",
       "4   56   services  married  high.school       no      no  yes  telephone   \n",
       "\n",
       "  month day_of_week  duration  campaign  pdays  previous     poutcome  \\\n",
       "0   may         mon       261         1    999         0  nonexistent   \n",
       "1   may         mon       149         1    999         0  nonexistent   \n",
       "2   may         mon       226         1    999         0  nonexistent   \n",
       "3   may         mon       151         1    999         0  nonexistent   \n",
       "4   may         mon       307         1    999         0  nonexistent   \n",
       "\n",
       "   employment_variation_rate  consumer_price_index  cons.conf.idx  \\\n",
       "0                        1.1                93.994          -36.4   \n",
       "1                        1.1                93.994          -36.4   \n",
       "2                        1.1                93.994          -36.4   \n",
       "3                        1.1                93.994          -36.4   \n",
       "4                        1.1                93.994          -36.4   \n",
       "\n",
       "   euribor_3_month_rate  number_of_employees  target  \n",
       "0                 4.857               5191.0       0  \n",
       "1                 4.857               5191.0       0  \n",
       "2                 4.857               5191.0       0  \n",
       "3                 4.857               5191.0       0  \n",
       "4                 4.857               5191.0       0  "
      ]
     },
     "execution_count": 5,
     "metadata": {},
     "output_type": "execute_result"
    }
   ],
   "source": [
    "bank_data.head()"
   ]
  },
  {
   "cell_type": "code",
   "execution_count": 6,
   "id": "61224b48",
   "metadata": {},
   "outputs": [
    {
     "name": "stdout",
     "output_type": "stream",
     "text": [
      "<class 'pandas.core.frame.DataFrame'>\n",
      "RangeIndex: 41188 entries, 0 to 41187\n",
      "Data columns (total 21 columns):\n",
      " #   Column                     Non-Null Count  Dtype  \n",
      "---  ------                     --------------  -----  \n",
      " 0   age                        41188 non-null  int64  \n",
      " 1   job                        41188 non-null  object \n",
      " 2   marital                    41188 non-null  object \n",
      " 3   education                  41188 non-null  object \n",
      " 4   default                    41188 non-null  object \n",
      " 5   housing                    41188 non-null  object \n",
      " 6   loan                       41188 non-null  object \n",
      " 7   contact                    41188 non-null  object \n",
      " 8   month                      41188 non-null  object \n",
      " 9   day_of_week                41188 non-null  object \n",
      " 10  duration                   41188 non-null  int64  \n",
      " 11  campaign                   41188 non-null  int64  \n",
      " 12  pdays                      41188 non-null  int64  \n",
      " 13  previous                   41188 non-null  int64  \n",
      " 14  poutcome                   41188 non-null  object \n",
      " 15  employment_variation_rate  41188 non-null  float64\n",
      " 16  consumer_price_index       41188 non-null  float64\n",
      " 17  cons.conf.idx              41188 non-null  float64\n",
      " 18  euribor_3_month_rate       41188 non-null  float64\n",
      " 19  number_of_employees        41188 non-null  float64\n",
      " 20  target                     41188 non-null  int64  \n",
      "dtypes: float64(5), int64(6), object(10)\n",
      "memory usage: 6.6+ MB\n"
     ]
    }
   ],
   "source": [
    "bank_data.info()"
   ]
  },
  {
   "cell_type": "code",
   "execution_count": 7,
   "id": "01139e2d",
   "metadata": {},
   "outputs": [
    {
     "data": {
      "text/plain": [
       "age                          0\n",
       "job                          0\n",
       "marital                      0\n",
       "education                    0\n",
       "default                      0\n",
       "housing                      0\n",
       "loan                         0\n",
       "contact                      0\n",
       "month                        0\n",
       "day_of_week                  0\n",
       "duration                     0\n",
       "campaign                     0\n",
       "pdays                        0\n",
       "previous                     0\n",
       "poutcome                     0\n",
       "employment_variation_rate    0\n",
       "consumer_price_index         0\n",
       "cons.conf.idx                0\n",
       "euribor_3_month_rate         0\n",
       "number_of_employees          0\n",
       "target                       0\n",
       "dtype: int64"
      ]
     },
     "execution_count": 7,
     "metadata": {},
     "output_type": "execute_result"
    }
   ],
   "source": [
    "bank_data.isnull().sum()"
   ]
  },
  {
   "cell_type": "code",
   "execution_count": 8,
   "id": "aa9ba715",
   "metadata": {},
   "outputs": [
    {
     "data": {
      "text/plain": [
       "age                            int64\n",
       "job                           object\n",
       "marital                       object\n",
       "education                     object\n",
       "default                       object\n",
       "housing                       object\n",
       "loan                          object\n",
       "contact                       object\n",
       "month                         object\n",
       "day_of_week                   object\n",
       "duration                       int64\n",
       "campaign                       int64\n",
       "pdays                          int64\n",
       "previous                       int64\n",
       "poutcome                      object\n",
       "employment_variation_rate    float64\n",
       "consumer_price_index         float64\n",
       "cons.conf.idx                float64\n",
       "euribor_3_month_rate         float64\n",
       "number_of_employees          float64\n",
       "target                         int64\n",
       "dtype: object"
      ]
     },
     "execution_count": 8,
     "metadata": {},
     "output_type": "execute_result"
    }
   ],
   "source": [
    "bank_data.dtypes"
   ]
  },
  {
   "cell_type": "markdown",
   "id": "33466cfb",
   "metadata": {},
   "source": [
    "### There are no missing values in this dataset"
   ]
  },
  {
   "cell_type": "code",
   "execution_count": 9,
   "id": "ee9663ef",
   "metadata": {},
   "outputs": [
    {
     "name": "stdout",
     "output_type": "stream",
     "text": [
      "(41188, 21)\n"
     ]
    }
   ],
   "source": [
    "print(bank_data.shape)\n",
    "data = bank_data"
   ]
  },
  {
   "cell_type": "code",
   "execution_count": 10,
   "id": "7b21d93a",
   "metadata": {},
   "outputs": [
    {
     "data": {
      "text/html": [
       "<div>\n",
       "<style scoped>\n",
       "    .dataframe tbody tr th:only-of-type {\n",
       "        vertical-align: middle;\n",
       "    }\n",
       "\n",
       "    .dataframe tbody tr th {\n",
       "        vertical-align: top;\n",
       "    }\n",
       "\n",
       "    .dataframe thead th {\n",
       "        text-align: right;\n",
       "    }\n",
       "</style>\n",
       "<table border=\"1\" class=\"dataframe\">\n",
       "  <thead>\n",
       "    <tr style=\"text-align: right;\">\n",
       "      <th></th>\n",
       "      <th>age</th>\n",
       "      <th>job</th>\n",
       "      <th>marital</th>\n",
       "      <th>education</th>\n",
       "      <th>default</th>\n",
       "      <th>housing</th>\n",
       "      <th>loan</th>\n",
       "      <th>contact</th>\n",
       "      <th>month</th>\n",
       "      <th>day_of_week</th>\n",
       "      <th>duration</th>\n",
       "      <th>campaign</th>\n",
       "      <th>pdays</th>\n",
       "      <th>previous</th>\n",
       "      <th>poutcome</th>\n",
       "      <th>employment_variation_rate</th>\n",
       "      <th>consumer_price_index</th>\n",
       "      <th>cons.conf.idx</th>\n",
       "      <th>euribor_3_month_rate</th>\n",
       "      <th>number_of_employees</th>\n",
       "      <th>target</th>\n",
       "    </tr>\n",
       "  </thead>\n",
       "  <tbody>\n",
       "    <tr>\n",
       "      <th>1265</th>\n",
       "      <td>39</td>\n",
       "      <td>blue-collar</td>\n",
       "      <td>married</td>\n",
       "      <td>basic.6y</td>\n",
       "      <td>no</td>\n",
       "      <td>no</td>\n",
       "      <td>no</td>\n",
       "      <td>telephone</td>\n",
       "      <td>may</td>\n",
       "      <td>thu</td>\n",
       "      <td>124</td>\n",
       "      <td>1</td>\n",
       "      <td>999</td>\n",
       "      <td>0</td>\n",
       "      <td>nonexistent</td>\n",
       "      <td>1.1</td>\n",
       "      <td>93.994</td>\n",
       "      <td>-36.4</td>\n",
       "      <td>4.855</td>\n",
       "      <td>5191.0</td>\n",
       "      <td>0</td>\n",
       "    </tr>\n",
       "    <tr>\n",
       "      <th>12260</th>\n",
       "      <td>36</td>\n",
       "      <td>retired</td>\n",
       "      <td>married</td>\n",
       "      <td>unknown</td>\n",
       "      <td>no</td>\n",
       "      <td>no</td>\n",
       "      <td>no</td>\n",
       "      <td>telephone</td>\n",
       "      <td>jul</td>\n",
       "      <td>thu</td>\n",
       "      <td>88</td>\n",
       "      <td>1</td>\n",
       "      <td>999</td>\n",
       "      <td>0</td>\n",
       "      <td>nonexistent</td>\n",
       "      <td>1.4</td>\n",
       "      <td>93.918</td>\n",
       "      <td>-42.7</td>\n",
       "      <td>4.966</td>\n",
       "      <td>5228.1</td>\n",
       "      <td>0</td>\n",
       "    </tr>\n",
       "    <tr>\n",
       "      <th>14155</th>\n",
       "      <td>27</td>\n",
       "      <td>technician</td>\n",
       "      <td>single</td>\n",
       "      <td>professional.course</td>\n",
       "      <td>no</td>\n",
       "      <td>no</td>\n",
       "      <td>no</td>\n",
       "      <td>cellular</td>\n",
       "      <td>jul</td>\n",
       "      <td>mon</td>\n",
       "      <td>331</td>\n",
       "      <td>2</td>\n",
       "      <td>999</td>\n",
       "      <td>0</td>\n",
       "      <td>nonexistent</td>\n",
       "      <td>1.4</td>\n",
       "      <td>93.918</td>\n",
       "      <td>-42.7</td>\n",
       "      <td>4.962</td>\n",
       "      <td>5228.1</td>\n",
       "      <td>0</td>\n",
       "    </tr>\n",
       "    <tr>\n",
       "      <th>16819</th>\n",
       "      <td>47</td>\n",
       "      <td>technician</td>\n",
       "      <td>divorced</td>\n",
       "      <td>high.school</td>\n",
       "      <td>no</td>\n",
       "      <td>yes</td>\n",
       "      <td>no</td>\n",
       "      <td>cellular</td>\n",
       "      <td>jul</td>\n",
       "      <td>thu</td>\n",
       "      <td>43</td>\n",
       "      <td>3</td>\n",
       "      <td>999</td>\n",
       "      <td>0</td>\n",
       "      <td>nonexistent</td>\n",
       "      <td>1.4</td>\n",
       "      <td>93.918</td>\n",
       "      <td>-42.7</td>\n",
       "      <td>4.962</td>\n",
       "      <td>5228.1</td>\n",
       "      <td>0</td>\n",
       "    </tr>\n",
       "    <tr>\n",
       "      <th>18464</th>\n",
       "      <td>32</td>\n",
       "      <td>technician</td>\n",
       "      <td>single</td>\n",
       "      <td>professional.course</td>\n",
       "      <td>no</td>\n",
       "      <td>yes</td>\n",
       "      <td>no</td>\n",
       "      <td>cellular</td>\n",
       "      <td>jul</td>\n",
       "      <td>thu</td>\n",
       "      <td>128</td>\n",
       "      <td>1</td>\n",
       "      <td>999</td>\n",
       "      <td>0</td>\n",
       "      <td>nonexistent</td>\n",
       "      <td>1.4</td>\n",
       "      <td>93.918</td>\n",
       "      <td>-42.7</td>\n",
       "      <td>4.968</td>\n",
       "      <td>5228.1</td>\n",
       "      <td>0</td>\n",
       "    </tr>\n",
       "    <tr>\n",
       "      <th>20072</th>\n",
       "      <td>55</td>\n",
       "      <td>services</td>\n",
       "      <td>married</td>\n",
       "      <td>high.school</td>\n",
       "      <td>unknown</td>\n",
       "      <td>no</td>\n",
       "      <td>no</td>\n",
       "      <td>cellular</td>\n",
       "      <td>aug</td>\n",
       "      <td>mon</td>\n",
       "      <td>33</td>\n",
       "      <td>1</td>\n",
       "      <td>999</td>\n",
       "      <td>0</td>\n",
       "      <td>nonexistent</td>\n",
       "      <td>1.4</td>\n",
       "      <td>93.444</td>\n",
       "      <td>-36.1</td>\n",
       "      <td>4.965</td>\n",
       "      <td>5228.1</td>\n",
       "      <td>0</td>\n",
       "    </tr>\n",
       "    <tr>\n",
       "      <th>20531</th>\n",
       "      <td>41</td>\n",
       "      <td>technician</td>\n",
       "      <td>married</td>\n",
       "      <td>professional.course</td>\n",
       "      <td>no</td>\n",
       "      <td>yes</td>\n",
       "      <td>no</td>\n",
       "      <td>cellular</td>\n",
       "      <td>aug</td>\n",
       "      <td>tue</td>\n",
       "      <td>127</td>\n",
       "      <td>1</td>\n",
       "      <td>999</td>\n",
       "      <td>0</td>\n",
       "      <td>nonexistent</td>\n",
       "      <td>1.4</td>\n",
       "      <td>93.444</td>\n",
       "      <td>-36.1</td>\n",
       "      <td>4.966</td>\n",
       "      <td>5228.1</td>\n",
       "      <td>0</td>\n",
       "    </tr>\n",
       "    <tr>\n",
       "      <th>25183</th>\n",
       "      <td>39</td>\n",
       "      <td>admin.</td>\n",
       "      <td>married</td>\n",
       "      <td>university.degree</td>\n",
       "      <td>no</td>\n",
       "      <td>no</td>\n",
       "      <td>no</td>\n",
       "      <td>cellular</td>\n",
       "      <td>nov</td>\n",
       "      <td>tue</td>\n",
       "      <td>123</td>\n",
       "      <td>2</td>\n",
       "      <td>999</td>\n",
       "      <td>0</td>\n",
       "      <td>nonexistent</td>\n",
       "      <td>-0.1</td>\n",
       "      <td>93.200</td>\n",
       "      <td>-42.0</td>\n",
       "      <td>4.153</td>\n",
       "      <td>5195.8</td>\n",
       "      <td>0</td>\n",
       "    </tr>\n",
       "    <tr>\n",
       "      <th>28476</th>\n",
       "      <td>24</td>\n",
       "      <td>services</td>\n",
       "      <td>single</td>\n",
       "      <td>high.school</td>\n",
       "      <td>no</td>\n",
       "      <td>yes</td>\n",
       "      <td>no</td>\n",
       "      <td>cellular</td>\n",
       "      <td>apr</td>\n",
       "      <td>tue</td>\n",
       "      <td>114</td>\n",
       "      <td>1</td>\n",
       "      <td>999</td>\n",
       "      <td>0</td>\n",
       "      <td>nonexistent</td>\n",
       "      <td>-1.8</td>\n",
       "      <td>93.075</td>\n",
       "      <td>-47.1</td>\n",
       "      <td>1.423</td>\n",
       "      <td>5099.1</td>\n",
       "      <td>0</td>\n",
       "    </tr>\n",
       "    <tr>\n",
       "      <th>32505</th>\n",
       "      <td>35</td>\n",
       "      <td>admin.</td>\n",
       "      <td>married</td>\n",
       "      <td>university.degree</td>\n",
       "      <td>no</td>\n",
       "      <td>yes</td>\n",
       "      <td>no</td>\n",
       "      <td>cellular</td>\n",
       "      <td>may</td>\n",
       "      <td>fri</td>\n",
       "      <td>348</td>\n",
       "      <td>4</td>\n",
       "      <td>999</td>\n",
       "      <td>0</td>\n",
       "      <td>nonexistent</td>\n",
       "      <td>-1.8</td>\n",
       "      <td>92.893</td>\n",
       "      <td>-46.2</td>\n",
       "      <td>1.313</td>\n",
       "      <td>5099.1</td>\n",
       "      <td>0</td>\n",
       "    </tr>\n",
       "    <tr>\n",
       "      <th>36950</th>\n",
       "      <td>45</td>\n",
       "      <td>admin.</td>\n",
       "      <td>married</td>\n",
       "      <td>university.degree</td>\n",
       "      <td>no</td>\n",
       "      <td>no</td>\n",
       "      <td>no</td>\n",
       "      <td>cellular</td>\n",
       "      <td>jul</td>\n",
       "      <td>thu</td>\n",
       "      <td>252</td>\n",
       "      <td>1</td>\n",
       "      <td>999</td>\n",
       "      <td>0</td>\n",
       "      <td>nonexistent</td>\n",
       "      <td>-2.9</td>\n",
       "      <td>92.469</td>\n",
       "      <td>-33.6</td>\n",
       "      <td>1.072</td>\n",
       "      <td>5076.2</td>\n",
       "      <td>1</td>\n",
       "    </tr>\n",
       "    <tr>\n",
       "      <th>38255</th>\n",
       "      <td>71</td>\n",
       "      <td>retired</td>\n",
       "      <td>single</td>\n",
       "      <td>university.degree</td>\n",
       "      <td>no</td>\n",
       "      <td>no</td>\n",
       "      <td>no</td>\n",
       "      <td>telephone</td>\n",
       "      <td>oct</td>\n",
       "      <td>tue</td>\n",
       "      <td>120</td>\n",
       "      <td>1</td>\n",
       "      <td>999</td>\n",
       "      <td>0</td>\n",
       "      <td>nonexistent</td>\n",
       "      <td>-3.4</td>\n",
       "      <td>92.431</td>\n",
       "      <td>-26.9</td>\n",
       "      <td>0.742</td>\n",
       "      <td>5017.5</td>\n",
       "      <td>0</td>\n",
       "    </tr>\n",
       "  </tbody>\n",
       "</table>\n",
       "</div>"
      ],
      "text/plain": [
       "       age          job   marital            education  default housing loan  \\\n",
       "1265    39  blue-collar   married             basic.6y       no      no   no   \n",
       "12260   36      retired   married              unknown       no      no   no   \n",
       "14155   27   technician    single  professional.course       no      no   no   \n",
       "16819   47   technician  divorced          high.school       no     yes   no   \n",
       "18464   32   technician    single  professional.course       no     yes   no   \n",
       "20072   55     services   married          high.school  unknown      no   no   \n",
       "20531   41   technician   married  professional.course       no     yes   no   \n",
       "25183   39       admin.   married    university.degree       no      no   no   \n",
       "28476   24     services    single          high.school       no     yes   no   \n",
       "32505   35       admin.   married    university.degree       no     yes   no   \n",
       "36950   45       admin.   married    university.degree       no      no   no   \n",
       "38255   71      retired    single    university.degree       no      no   no   \n",
       "\n",
       "         contact month day_of_week  duration  campaign  pdays  previous  \\\n",
       "1265   telephone   may         thu       124         1    999         0   \n",
       "12260  telephone   jul         thu        88         1    999         0   \n",
       "14155   cellular   jul         mon       331         2    999         0   \n",
       "16819   cellular   jul         thu        43         3    999         0   \n",
       "18464   cellular   jul         thu       128         1    999         0   \n",
       "20072   cellular   aug         mon        33         1    999         0   \n",
       "20531   cellular   aug         tue       127         1    999         0   \n",
       "25183   cellular   nov         tue       123         2    999         0   \n",
       "28476   cellular   apr         tue       114         1    999         0   \n",
       "32505   cellular   may         fri       348         4    999         0   \n",
       "36950   cellular   jul         thu       252         1    999         0   \n",
       "38255  telephone   oct         tue       120         1    999         0   \n",
       "\n",
       "          poutcome  employment_variation_rate  consumer_price_index  \\\n",
       "1265   nonexistent                        1.1                93.994   \n",
       "12260  nonexistent                        1.4                93.918   \n",
       "14155  nonexistent                        1.4                93.918   \n",
       "16819  nonexistent                        1.4                93.918   \n",
       "18464  nonexistent                        1.4                93.918   \n",
       "20072  nonexistent                        1.4                93.444   \n",
       "20531  nonexistent                        1.4                93.444   \n",
       "25183  nonexistent                       -0.1                93.200   \n",
       "28476  nonexistent                       -1.8                93.075   \n",
       "32505  nonexistent                       -1.8                92.893   \n",
       "36950  nonexistent                       -2.9                92.469   \n",
       "38255  nonexistent                       -3.4                92.431   \n",
       "\n",
       "       cons.conf.idx  euribor_3_month_rate  number_of_employees  target  \n",
       "1265           -36.4                 4.855               5191.0       0  \n",
       "12260          -42.7                 4.966               5228.1       0  \n",
       "14155          -42.7                 4.962               5228.1       0  \n",
       "16819          -42.7                 4.962               5228.1       0  \n",
       "18464          -42.7                 4.968               5228.1       0  \n",
       "20072          -36.1                 4.965               5228.1       0  \n",
       "20531          -36.1                 4.966               5228.1       0  \n",
       "25183          -42.0                 4.153               5195.8       0  \n",
       "28476          -47.1                 1.423               5099.1       0  \n",
       "32505          -46.2                 1.313               5099.1       0  \n",
       "36950          -33.6                 1.072               5076.2       1  \n",
       "38255          -26.9                 0.742               5017.5       0  "
      ]
     },
     "execution_count": 10,
     "metadata": {},
     "output_type": "execute_result"
    }
   ],
   "source": [
    "data_dup = data[data.duplicated(keep=\"last\")]\n",
    "data_dup"
   ]
  },
  {
   "cell_type": "code",
   "execution_count": 11,
   "id": "4b4c1a5c",
   "metadata": {},
   "outputs": [
    {
     "data": {
      "text/plain": [
       "(12, 21)"
      ]
     },
     "execution_count": 11,
     "metadata": {},
     "output_type": "execute_result"
    }
   ],
   "source": [
    "data_dup.shape\n"
   ]
  },
  {
   "cell_type": "code",
   "execution_count": 12,
   "id": "f13f66fb",
   "metadata": {},
   "outputs": [],
   "source": [
    "data = data.drop_duplicates()\n",
    "data.shape\n",
    "bank_data = data"
   ]
  },
  {
   "cell_type": "code",
   "execution_count": 13,
   "id": "9111526e",
   "metadata": {},
   "outputs": [
    {
     "name": "stdout",
     "output_type": "stream",
     "text": [
      "(41176, 21)\n"
     ]
    }
   ],
   "source": [
    "print(bank_data.shape)"
   ]
  },
  {
   "cell_type": "code",
   "execution_count": null,
   "id": "bd462999",
   "metadata": {},
   "outputs": [],
   "source": []
  },
  {
   "cell_type": "markdown",
   "id": "00203f58",
   "metadata": {},
   "source": [
    "## Visualize the Target column"
   ]
  },
  {
   "cell_type": "code",
   "execution_count": 14,
   "id": "e44c478e",
   "metadata": {},
   "outputs": [
    {
     "name": "stdout",
     "output_type": "stream",
     "text": [
      "Dataset contains 41176 records\n",
      "Number of customers who subscribed: 36537 (88.73%)\n",
      "Number of customers who have not subscribed: 4639 (11.27%)\n"
     ]
    }
   ],
   "source": [
    "n = len(bank_data)\n",
    "n_not_subscribed = sum(bank_data['target'])\n",
    "n_subscribe = n - n_not_subscribed\n",
    "\n",
    "print('Dataset contains %d records' % (n))\n",
    "print('Number of customers who subscribed: %d (%0.2f%%)' % (n_subscribe, n_subscribe*100/n))\n",
    "print('Number of customers who have not subscribed: %d (%0.2f%%)' % (n_not_subscribed, n_not_subscribed*100/n))\n"
   ]
  },
  {
   "cell_type": "code",
   "execution_count": 15,
   "id": "a9f196a9",
   "metadata": {},
   "outputs": [
    {
     "data": {
      "image/png": "[encoded data removed]",
      "text/plain": [
       "<Figure size 576x432 with 1 Axes>"
      ]
     },
     "metadata": {
      "needs_background": "light"
     },
     "output_type": "display_data"
    }
   ],
   "source": [
    "# sns.countplot(x='target', data=bank_data)\n",
    "\n",
    "plt.figure(figsize=(8,6))\n",
    "Y = bank_data[\"target\"]\n",
    "total = len(Y)*1.\n",
    "ax=sns.countplot(x=\"target\", data=bank_data)\n",
    "for p in ax.patches:\n",
    "    ax.annotate('{:.1f}%'.format(100*p.get_height()/total), (p.get_x()+0.1, p.get_height()+5))\n",
    "\n",
    "#put 11 ticks (therefore 10 steps), from 0 to the total number of rows in the dataframe\n",
    "ax.yaxis.set_ticks(np.linspace(0, total, 11))\n",
    "#adjust the ticklabel to the desired format, without changing the position of the ticks.\n",
    "ax.set_yticklabels(map('{:.1f}%'.format, 100*ax.yaxis.get_majorticklocs()/total))\n",
    "ax.set_xticklabels(ax.get_xticklabels(), rotation=40, ha=\"right\")\n",
    "plt.show()\n"
   ]
  },
  {
   "cell_type": "markdown",
   "id": "003b5d0f",
   "metadata": {},
   "source": [
    "There are 5289 which is 11.7% of customers have subscribed to the term deposit and around 39,922 which is 88.3% have not subscribed to the term deposit."
   ]
  },
  {
   "cell_type": "code",
   "execution_count": 16,
   "id": "6b9fca94",
   "metadata": {},
   "outputs": [],
   "source": [
    "def countplot_withY(label, dataset):\n",
    "    plt.figure(figsize=(20,10))\n",
    "    Y = bank_data[label]\n",
    "    total = len(Y)*1.\n",
    "    ax=sns.countplot(x=label, data=dataset, hue=\"target\")\n",
    "    for p in ax.patches:\n",
    "        ax.annotate('{:.1f}%'.format(100*p.get_height()/total), (p.get_x()+0.1, p.get_height()+5))\n",
    "\n",
    "#put 11 ticks (therefore 10 steps), from 0 to the total number of rows in the dataframe\n",
    "ax.yaxis.set_ticks(np.linspace(0, total, 11))\n",
    "#adjust the ticklabel to the desired format, without changing the position of the ticks.\n",
    "ax.set_yticklabels(map('{:.1f}%'.format, 100*ax.yaxis.get_majorticklocs()/total))\n",
    "ax.set_xticklabels(ax.get_xticklabels(), rotation=40, ha=\"right\")\n",
    "# ax.legend(labels=[\"no\",\"yes\"])\n",
    "plt.show()\n"
   ]
  },
  {
   "cell_type": "code",
   "execution_count": 17,
   "id": "e0dcebb1",
   "metadata": {},
   "outputs": [],
   "source": [
    "def countplot(label, dataset):\n",
    "    plt.figure(figsize=(15,10))\n",
    "    Y = bank_data[label]\n",
    "    total = len(Y)*1.\n",
    "    ax=sns.countplot(x=label, data=dataset)\n",
    "    for p in ax.patches:\n",
    "        ax.annotate('{:.1f}%'.format(100*p.get_height()/total), (p.get_x()+0.1, p.get_height()+5))\n",
    "\n",
    "#put 11 ticks (therefore 10 steps), from 0 to the total number of rows in the dataframe\n",
    "ax.yaxis.set_ticks(np.linspace(0, total, 11))\n",
    "#adjust the ticklabel to the desired format, without changing the position of the ticks.\n",
    "ax.set_yticklabels(map('{:.1f}%'.format, 100*ax.yaxis.get_majorticklocs()/total))\n",
    "ax.set_xticklabels(ax.get_xticklabels(), rotation=40, ha=\"right\")\n",
    "# ax.legend(labels=[\"no\",\"yes\"])\n",
    "plt.show()"
   ]
  },
  {
   "cell_type": "markdown",
   "id": "02a8ca29",
   "metadata": {},
   "source": [
    "# Categorical Values"
   ]
  },
  {
   "cell_type": "markdown",
   "id": "951dd4ee",
   "metadata": {},
   "source": [
    "## Education "
   ]
  },
  {
   "cell_type": "code",
   "execution_count": 18,
   "id": "11e8f6ac",
   "metadata": {},
   "outputs": [
    {
     "data": {
      "text/plain": [
       "(array([0, 1, 2, 3, 4, 5, 6, 7]),\n",
       " [Text(0, 0, 'basic.4y'),\n",
       "  Text(1, 0, 'high.school'),\n",
       "  Text(2, 0, 'basic.6y'),\n",
       "  Text(3, 0, 'basic.9y'),\n",
       "  Text(4, 0, 'professional.course'),\n",
       "  Text(5, 0, 'unknown'),\n",
       "  Text(6, 0, 'university.degree'),\n",
       "  Text(7, 0, 'illiterate')])"
      ]
     },
     "execution_count": 18,
     "metadata": {},
     "output_type": "execute_result"
    },
    {
     "data": {
      "image/png": "[encoded data removed]",
      "text/plain": [
       "<Figure size 1440x720 with 1 Axes>"
      ]
     },
     "metadata": {
      "needs_background": "light"
     },
     "output_type": "display_data"
    }
   ],
   "source": [
    "countplot_withY(\"education\", bank_data)\n",
    "plt.title('Education level of each customer', fontsize=24)\n",
    "plt.xlabel('Education', fontsize=18)\n",
    "plt.ylabel('Count', fontsize=18)\n",
    "plt.legend(fontsize=28)\n",
    "plt.xticks(rotation=50, fontsize=20)"
   ]
  },
  {
   "cell_type": "markdown",
   "id": "28d70e06",
   "metadata": {},
   "source": [
    "25% of the customers who have university degree have subscribed to the term deposit and only 4.1% have not subscribes to the term deposit. "
   ]
  },
  {
   "cell_type": "markdown",
   "id": "0c216b3b",
   "metadata": {},
   "source": [
    "Higher education level may lead to greater financial literacy and understanding of the benefits of saving and investing. This knowledge may make individuals more likely to consider a term deposit as a way to save and earn interest on their money. "
   ]
  },
  {
   "cell_type": "markdown",
   "id": "2cf6a458",
   "metadata": {},
   "source": [
    "## Last Contact Month Of Year"
   ]
  },
  {
   "cell_type": "code",
   "execution_count": 19,
   "id": "513d867a",
   "metadata": {},
   "outputs": [],
   "source": [
    "months_order = [\"jan\", \"feb\", \"mar\", \"apr\", \"may\", \"jun\", \"jul\", \"aug\", \"sep\", \"oct\", \"nov\", \"dec\"]\n",
    "bank_data['month'] = pd.Categorical(bank_data['month'], \n",
    "                     categories=months_order, ordered=True)\n"
   ]
  },
  {
   "cell_type": "code",
   "execution_count": 20,
   "id": "236959e6",
   "metadata": {},
   "outputs": [
    {
     "data": {
      "text/plain": [
       "month\n",
       "jan      0\n",
       "feb      0\n",
       "mar    276\n",
       "apr    539\n",
       "may    886\n",
       "jun    559\n",
       "jul    648\n",
       "aug    655\n",
       "sep    256\n",
       "oct    315\n",
       "nov    416\n",
       "dec     89\n",
       "Name: target, dtype: int64"
      ]
     },
     "execution_count": 20,
     "metadata": {},
     "output_type": "execute_result"
    }
   ],
   "source": [
    "monthly_subscribers = bank_data.groupby('month')['target'].sum()\n",
    "monthly_subscribers"
   ]
  },
  {
   "cell_type": "code",
   "execution_count": 21,
   "id": "fe1b0b32",
   "metadata": {},
   "outputs": [
    {
     "data": {
      "text/plain": [
       "'may'"
      ]
     },
     "execution_count": 21,
     "metadata": {},
     "output_type": "execute_result"
    }
   ],
   "source": [
    "monthly_subscribers.idxmax()"
   ]
  },
  {
   "cell_type": "code",
   "execution_count": 22,
   "id": "95146982",
   "metadata": {},
   "outputs": [
    {
     "data": {
      "image/png": "[encoded data removed]",
      "text/plain": [
       "<Figure size 432x288 with 1 Axes>"
      ]
     },
     "metadata": {
      "needs_background": "light"
     },
     "output_type": "display_data"
    }
   ],
   "source": [
    "monthly_subscribers.plot(kind='line')\n",
    "\n",
    "plt.title('Monthly Subscribers')\n",
    "plt.xlabel('Month')\n",
    "plt.ylabel('Number of Subscribers')\n",
    "plt.show()\n"
   ]
  },
  {
   "cell_type": "code",
   "execution_count": 23,
   "id": "3ee2d8fe",
   "metadata": {},
   "outputs": [
    {
     "data": {
      "image/png": "[encoded data removed]",
      "text/plain": [
       "<Figure size 1440x720 with 1 Axes>"
      ]
     },
     "metadata": {
      "needs_background": "light"
     },
     "output_type": "display_data"
    }
   ],
   "source": [
    "countplot_withY(\"month\", bank_data)"
   ]
  },
  {
   "cell_type": "markdown",
   "id": "c546f065",
   "metadata": {},
   "source": [
    "highest frequency of customers contact to subscribe to the term deposit.\n",
    "\n",
    "May has highest frequency of customers contact to subscribe to the term deposit. This information can be useful for identifying patterns in customer behavior and for optimizing marketing and outreach efforts to improve subscription rates. "
   ]
  },
  {
   "cell_type": "markdown",
   "id": "2ebfc3c3",
   "metadata": {},
   "source": [
    "## Last Contact Day Of The Week"
   ]
  },
  {
   "cell_type": "code",
   "execution_count": 24,
   "id": "27bcedc8",
   "metadata": {},
   "outputs": [],
   "source": [
    "days_order = [\"mon\", \"tue\", \"wed\", \"thu\", \"fri\", \"sat\", \"sun\"]\n",
    "bank_data['day_of_week'] = pd.Categorical(bank_data['day_of_week'], \n",
    "                     categories=days_order, ordered=True)\n"
   ]
  },
  {
   "cell_type": "code",
   "execution_count": 25,
   "id": "d2fd229d",
   "metadata": {},
   "outputs": [
    {
     "data": {
      "text/plain": [
       "day_of_week\n",
       "mon     847\n",
       "tue     953\n",
       "wed     949\n",
       "thu    1044\n",
       "fri     846\n",
       "sat       0\n",
       "sun       0\n",
       "Name: target, dtype: int64"
      ]
     },
     "execution_count": 25,
     "metadata": {},
     "output_type": "execute_result"
    }
   ],
   "source": [
    "day_subscribers = bank_data.groupby('day_of_week')['target'].sum()\n",
    "day_subscribers"
   ]
  },
  {
   "cell_type": "code",
   "execution_count": 26,
   "id": "dc221c07",
   "metadata": {},
   "outputs": [
    {
     "data": {
      "image/png": "[encoded data removed]",
      "text/plain": [
       "<Figure size 432x288 with 1 Axes>"
      ]
     },
     "metadata": {
      "needs_background": "light"
     },
     "output_type": "display_data"
    }
   ],
   "source": [
    "day_subscribers.plot(kind='bar')\n",
    "plt.title('Last contact day of the week', fontsize=18)\n",
    "plt.xlabel('Day')\n",
    "plt.ylabel('Number of Subscribers')\n",
    "plt.show()"
   ]
  },
  {
   "cell_type": "markdown",
   "id": "31101688",
   "metadata": {},
   "source": [
    "The day of the week is not relevant as we have the same amount of data for all the data of the week"
   ]
  },
  {
   "cell_type": "markdown",
   "id": "6b747c07",
   "metadata": {},
   "source": [
    "## Has Housing Loan"
   ]
  },
  {
   "cell_type": "code",
   "execution_count": 27,
   "id": "da609e40",
   "metadata": {},
   "outputs": [
    {
     "data": {
      "image/png": "[encoded data removed]",
      "text/plain": [
       "<Figure size 1440x720 with 1 Axes>"
      ]
     },
     "metadata": {
      "needs_background": "light"
     },
     "output_type": "display_data"
    }
   ],
   "source": [
    "countplot_withY(\"housing\", bank_data)\n",
    "\n",
    "plt.title('Has housing loan?', fontsize=24)\n",
    "plt.xlabel('Housing', fontsize=18)\n",
    "plt.ylabel('Count', fontsize=18)\n",
    "plt.legend(fontsize=28)\n",
    "plt.xticks(rotation=50, fontsize=20)\n",
    "plt.show()\n"
   ]
  },
  {
   "cell_type": "markdown",
   "id": "43217380",
   "metadata": {},
   "source": [
    "About 18,000 customers who have been contact does not have housing loans and about 22,000 customers have housing loans and the rest is unknown."
   ]
  },
  {
   "cell_type": "markdown",
   "id": "3098fe17",
   "metadata": {},
   "source": [
    "## Types of Job"
   ]
  },
  {
   "cell_type": "code",
   "execution_count": 28,
   "id": "088c43c8",
   "metadata": {},
   "outputs": [
    {
     "name": "stderr",
     "output_type": "stream",
     "text": [
      "No artists with labels found to put in legend.  Note that artists whose label start with an underscore are ignored when legend() is called with no argument.\n"
     ]
    },
    {
     "data": {
      "image/png": "[encoded data removed]",
      "text/plain": [
       "<Figure size 1080x720 with 1 Axes>"
      ]
     },
     "metadata": {
      "needs_background": "light"
     },
     "output_type": "display_data"
    }
   ],
   "source": [
    "countplot(\"job\", bank_data)\n",
    "\n",
    "plt.title('Types of Jobs', fontsize=24)\n",
    "plt.xlabel('Jobs', fontsize=18)\n",
    "plt.ylabel('Count', fontsize=18)\n",
    "plt.legend(fontsize=28)\n",
    "plt.xticks(rotation=50, fontsize=20)\n",
    "plt.show()"
   ]
  },
  {
   "cell_type": "markdown",
   "id": "530e75bb",
   "metadata": {},
   "source": [
    "Most of the customers have jobs as Admin, Blue-Collar, and Technician. "
   ]
  },
  {
   "cell_type": "code",
   "execution_count": 29,
   "id": "195c4e55",
   "metadata": {},
   "outputs": [
    {
     "data": {
      "image/png": "[encoded data removed]",
      "text/plain": [
       "<Figure size 864x432 with 1 Axes>"
      ]
     },
     "metadata": {
      "needs_background": "light"
     },
     "output_type": "display_data"
    }
   ],
   "source": [
    "job_counts = bank_data['job'].value_counts()\n",
    "job_0_counts = bank_data.loc[bank_data['target'] == 0]['job'].value_counts()\n",
    "job_1_counts = bank_data.loc[bank_data['target'] == 1]['job'].value_counts()\n",
    "\n",
    "fig, ax = plt.subplots(figsize=(12,6))\n",
    "ax.barh(job_0_counts.index, job_0_counts.values, label='0', color='blue')\n",
    "ax.barh(job_1_counts.index, job_1_counts.values, label='1', color='orange')\n",
    "\n",
    "for i, v in enumerate(job_0_counts.values):\n",
    "    ax.text(v, i, str(round((v/job_counts[job_0_counts.index[i]])*100,2))+'%', fontweight='bold', color='white', ha='right', va = 'center')\n",
    "    \n",
    "#for i, v in enumerate(job_1_counts.values):\n",
    " #   ax.text(v, i, str(round((v/job_counts[job_1_counts.index[i]])*100,2))+'%', fontweight='bold', color='white', ha='left', va='center')\n",
    "\n",
    "ax.legend(title='Target')\n",
    "ax.set_xlabel('Count')\n",
    "ax.set_ylabel('Job')\n",
    "ax.set_title('Job Distribution by Target', fontsize=18)\n",
    "plt.show()\n"
   ]
  },
  {
   "cell_type": "markdown",
   "id": "71f06e35",
   "metadata": {},
   "source": [
    "Customers who have a job of admin have the highest rate of subscribing a term deposit, but they are also the hihest when it comes to not subscribing. This could be because there are more customers working as admin than any other profession. "
   ]
  },
  {
   "cell_type": "markdown",
   "id": "137a5626",
   "metadata": {},
   "source": [
    "## Marital Status"
   ]
  },
  {
   "cell_type": "code",
   "execution_count": 30,
   "id": "a2388b98",
   "metadata": {},
   "outputs": [
    {
     "data": {
      "image/png": "[encoded data removed]",
      "text/plain": [
       "<Figure size 864x720 with 1 Axes>"
      ]
     },
     "metadata": {
      "needs_background": "light"
     },
     "output_type": "display_data"
    }
   ],
   "source": [
    "marital_counts = bank_data['marital'].value_counts()\n",
    "marital_0_counts = bank_data.loc[bank_data['target'] == 0]['marital'].value_counts()\n",
    "marital_1_counts = bank_data.loc[bank_data['target'] == 1]['marital'].value_counts()\n",
    "\n",
    "fig, ax = plt.subplots(figsize=(12,10))\n",
    "#ax.barh(job_counts.index, job_counts.values, label='Total')\n",
    "ax.barh(marital_0_counts.index, marital_0_counts.values, label='0', color='red')\n",
    "ax.barh(marital_1_counts.index, marital_1_counts.values, label='1', color='green')\n",
    "\n",
    "#for i, v in enumerate(job_counts.values):\n",
    " #   ax.text(v, i, str(round((v/df.shape[0])*100,2))+'%', fontweight='bold')\n",
    "\n",
    "ax.legend(title='Target')\n",
    "ax.set_xlabel('Count')\n",
    "ax.set_ylabel('marital')\n",
    "ax.set_title('Marital Distribution by Target', fontsize=18)\n",
    "plt.show()"
   ]
  },
  {
   "cell_type": "markdown",
   "id": "025c3c15",
   "metadata": {},
   "source": [
    "Married customers have the highest rate of subscribing a term deposit "
   ]
  },
  {
   "cell_type": "markdown",
   "id": "36df531a",
   "metadata": {},
   "source": [
    "## Default"
   ]
  },
  {
   "cell_type": "code",
   "execution_count": 31,
   "id": "66d15f01",
   "metadata": {},
   "outputs": [
    {
     "data": {
      "image/png": "[encoded data removed]",
      "text/plain": [
       "<Figure size 1440x720 with 1 Axes>"
      ]
     },
     "metadata": {
      "needs_background": "light"
     },
     "output_type": "display_data"
    }
   ],
   "source": [
    "countplot_withY(\"default\", bank_data)\n",
    "\n",
    "plt.title('Has credit in default?', fontsize=24)\n",
    "plt.xlabel('Default', fontsize=18)\n",
    "plt.ylabel('Count', fontsize=18)\n",
    "plt.legend(fontsize=28)\n",
    "plt.xticks(rotation=50, fontsize=20)\n",
    "plt.show()"
   ]
  },
  {
   "cell_type": "markdown",
   "id": "42130d00",
   "metadata": {},
   "source": [
    "There is no customer who has credit in default. Majority of customers don't have, and the rest of the customers is unknown."
   ]
  },
  {
   "cell_type": "markdown",
   "id": "6f7ef850",
   "metadata": {},
   "source": [
    "# Continuous Variables"
   ]
  },
  {
   "cell_type": "markdown",
   "id": "970cdac5",
   "metadata": {},
   "source": [
    "## Duration"
   ]
  },
  {
   "cell_type": "markdown",
   "id": "71b49c6d",
   "metadata": {},
   "source": [
    "last contact duration, in seconds (numeric). Important note:  this attribute highly affects the output target (e.g., if duration=0 then y=\"no\"). Yet, the duration is not known before a call is performed. Also, after the end of the call y is obviously known. Thus, this input should only be included for benchmark purposes and should be discarded if the intention is to have a realistic predictive model."
   ]
  },
  {
   "cell_type": "code",
   "execution_count": 32,
   "id": "95b989fc",
   "metadata": {},
   "outputs": [
    {
     "name": "stderr",
     "output_type": "stream",
     "text": [
      "/var/folders/dn/9qflv0c57rl7ynhwt9tnqmrr0000gn/T/ipykernel_47771/1767529198.py:2: UserWarning: \n",
      "\n",
      "`distplot` is a deprecated function and will be removed in seaborn v0.14.0.\n",
      "\n",
      "Please adapt your code to use either `displot` (a figure-level function with\n",
      "similar flexibility) or `histplot` (an axes-level function for histograms).\n",
      "\n",
      "For a guide to updating your code to use the new functions, please see\n",
      "https://gist.github.com/mwaskom/de44147ed2974457ad6372750bbe5751\n",
      "\n",
      "  sns.distplot(bank_data[\"duration\"])\n"
     ]
    },
    {
     "data": {
      "image/png": "[encoded data removed]",
      "text/plain": [
       "<Figure size 720x576 with 1 Axes>"
      ]
     },
     "metadata": {
      "needs_background": "light"
     },
     "output_type": "display_data"
    }
   ],
   "source": [
    "plt.figure(figsize=(10,8))\n",
    "sns.distplot(bank_data[\"duration\"])\n",
    "plt.show()\n"
   ]
  },
  {
   "cell_type": "markdown",
   "id": "bcadecce",
   "metadata": {},
   "source": [
    "The distribution plot shows that most values are very low and very few have high values."
   ]
  },
  {
   "cell_type": "code",
   "execution_count": 33,
   "id": "0f0c63fa",
   "metadata": {},
   "outputs": [
    {
     "data": {
      "image/png": "[encoded data removed]",
      "text/plain": [
       "<Figure size 432x288 with 1 Axes>"
      ]
     },
     "metadata": {
      "needs_background": "light"
     },
     "output_type": "display_data"
    }
   ],
   "source": [
    "sns.boxplot(data=bank_data, x=\"target\", y=\"duration\")\n",
    "plt.show()"
   ]
  },
  {
   "cell_type": "markdown",
   "id": "0535bebc",
   "metadata": {},
   "source": [
    "The duration of a customer can be a useful predictor because it is already mentioned in the data that this field highely affects the target variable and should only be used for benchmark purposes. "
   ]
  },
  {
   "cell_type": "markdown",
   "id": "3d9f164f",
   "metadata": {},
   "source": [
    "## Age"
   ]
  },
  {
   "cell_type": "code",
   "execution_count": 34,
   "id": "5c4cf3b2",
   "metadata": {},
   "outputs": [
    {
     "data": {
      "text/plain": [
       "count    41176.00000\n",
       "mean        40.02380\n",
       "std         10.42068\n",
       "min         17.00000\n",
       "25%         32.00000\n",
       "50%         38.00000\n",
       "75%         47.00000\n",
       "max         98.00000\n",
       "Name: age, dtype: float64"
      ]
     },
     "execution_count": 34,
     "metadata": {},
     "output_type": "execute_result"
    }
   ],
   "source": [
    "bank_data['age'].describe()"
   ]
  },
  {
   "cell_type": "code",
   "execution_count": 35,
   "id": "ed7e444c",
   "metadata": {},
   "outputs": [
    {
     "data": {
      "image/png": "[encoded data removed]",
      "text/plain": [
       "<Figure size 432x288 with 1 Axes>"
      ]
     },
     "metadata": {
      "needs_background": "light"
     },
     "output_type": "display_data"
    }
   ],
   "source": [
    "sns.histplot(data=bank_data, x=bank_data['age'], kde=True)\n",
    "plt.show()"
   ]
  },
  {
   "cell_type": "code",
   "execution_count": 36,
   "id": "df07652c",
   "metadata": {},
   "outputs": [
    {
     "data": {
      "image/png": "[encoded data removed]",
      "text/plain": [
       "<Figure size 432x288 with 1 Axes>"
      ]
     },
     "metadata": {
      "needs_background": "light"
     },
     "output_type": "display_data"
    }
   ],
   "source": [
    "sns.boxplot(data=bank_data, x=\"target\", y=\"age\")\n",
    "plt.show()"
   ]
  },
  {
   "cell_type": "markdown",
   "id": "a5962468",
   "metadata": {},
   "source": [
    "The histogram is roughly bell-shaped, with the peak at around 30-40 years old. The median age is around 38-40.\n",
    "\n",
    "The boxplot for both the classes overlaps, indicating that age is not necessarily a good indicator for which customer will subscribe and which customer will not."
   ]
  },
  {
   "cell_type": "markdown",
   "id": "1ec86ed9",
   "metadata": {},
   "source": [
    "## Campaign"
   ]
  },
  {
   "cell_type": "code",
   "execution_count": 37,
   "id": "0d6bd756",
   "metadata": {},
   "outputs": [
    {
     "data": {
      "image/png": "[encoded data removed]",
      "text/plain": [
       "<Figure size 432x288 with 1 Axes>"
      ]
     },
     "metadata": {
      "needs_background": "light"
     },
     "output_type": "display_data"
    }
   ],
   "source": [
    "sns.boxplot(data=bank_data, x=\"target\", y=\"campaign\")\n",
    "plt.show()"
   ]
  },
  {
   "cell_type": "code",
   "execution_count": 38,
   "id": "c4154d07",
   "metadata": {},
   "outputs": [
    {
     "name": "stderr",
     "output_type": "stream",
     "text": [
      "/var/folders/dn/9qflv0c57rl7ynhwt9tnqmrr0000gn/T/ipykernel_47771/2425300080.py:2: UserWarning: \n",
      "\n",
      "`distplot` is a deprecated function and will be removed in seaborn v0.14.0.\n",
      "\n",
      "Please adapt your code to use either `displot` (a figure-level function with\n",
      "similar flexibility) or `histplot` (an axes-level function for histograms).\n",
      "\n",
      "For a guide to updating your code to use the new functions, please see\n",
      "https://gist.github.com/mwaskom/de44147ed2974457ad6372750bbe5751\n",
      "\n",
      "  sns.distplot(bank_data[\"campaign\"])\n"
     ]
    },
    {
     "data": {
      "image/png": "[encoded data removed]",
      "text/plain": [
       "<Figure size 720x576 with 1 Axes>"
      ]
     },
     "metadata": {
      "needs_background": "light"
     },
     "output_type": "display_data"
    }
   ],
   "source": [
    "plt.figure(figsize=(10,8))\n",
    "sns.distplot(bank_data[\"campaign\"])\n",
    "plt.show()"
   ]
  },
  {
   "cell_type": "markdown",
   "id": "0caaab49",
   "metadata": {},
   "source": [
    "## Employment Variation Rate"
   ]
  },
  {
   "cell_type": "code",
   "execution_count": 39,
   "id": "82ec85e7",
   "metadata": {},
   "outputs": [
    {
     "data": {
      "image/png": "[encoded data removed]",
      "text/plain": [
       "<Figure size 432x288 with 1 Axes>"
      ]
     },
     "metadata": {
      "needs_background": "light"
     },
     "output_type": "display_data"
    }
   ],
   "source": [
    "sns.boxplot(data=bank_data, x=\"target\", y=\"employment_variation_rate\")\n",
    "plt.show()"
   ]
  },
  {
   "cell_type": "code",
   "execution_count": 40,
   "id": "bf88457f",
   "metadata": {},
   "outputs": [
    {
     "name": "stderr",
     "output_type": "stream",
     "text": [
      "/var/folders/dn/9qflv0c57rl7ynhwt9tnqmrr0000gn/T/ipykernel_47771/4116026044.py:2: UserWarning: \n",
      "\n",
      "`distplot` is a deprecated function and will be removed in seaborn v0.14.0.\n",
      "\n",
      "Please adapt your code to use either `displot` (a figure-level function with\n",
      "similar flexibility) or `histplot` (an axes-level function for histograms).\n",
      "\n",
      "For a guide to updating your code to use the new functions, please see\n",
      "https://gist.github.com/mwaskom/de44147ed2974457ad6372750bbe5751\n",
      "\n",
      "  sns.distplot(bank_data[\"employment_variation_rate\"])\n"
     ]
    },
    {
     "data": {
      "image/png": "[encoded data removed]",
      "text/plain": [
       "<Figure size 720x576 with 1 Axes>"
      ]
     },
     "metadata": {
      "needs_background": "light"
     },
     "output_type": "display_data"
    }
   ],
   "source": [
    "plt.figure(figsize=(10,8))\n",
    "sns.distplot(bank_data[\"employment_variation_rate\"])\n",
    "plt.show()"
   ]
  },
  {
   "cell_type": "markdown",
   "id": "1c59dd43",
   "metadata": {},
   "source": [
    "## Consumer Price Index"
   ]
  },
  {
   "cell_type": "code",
   "execution_count": 41,
   "id": "86e7a2d7",
   "metadata": {},
   "outputs": [
    {
     "data": {
      "image/png": "[encoded data removed]",
      "text/plain": [
       "<Figure size 432x288 with 1 Axes>"
      ]
     },
     "metadata": {
      "needs_background": "light"
     },
     "output_type": "display_data"
    }
   ],
   "source": [
    "sns.boxplot(data=bank_data, x=\"target\", y=\"consumer_price_index\")\n",
    "plt.show()"
   ]
  },
  {
   "cell_type": "code",
   "execution_count": 42,
   "id": "539e3317",
   "metadata": {},
   "outputs": [
    {
     "name": "stderr",
     "output_type": "stream",
     "text": [
      "/var/folders/dn/9qflv0c57rl7ynhwt9tnqmrr0000gn/T/ipykernel_47771/2460001532.py:2: UserWarning: \n",
      "\n",
      "`distplot` is a deprecated function and will be removed in seaborn v0.14.0.\n",
      "\n",
      "Please adapt your code to use either `displot` (a figure-level function with\n",
      "similar flexibility) or `histplot` (an axes-level function for histograms).\n",
      "\n",
      "For a guide to updating your code to use the new functions, please see\n",
      "https://gist.github.com/mwaskom/de44147ed2974457ad6372750bbe5751\n",
      "\n",
      "  sns.distplot(bank_data[\"consumer_price_index\"])\n"
     ]
    },
    {
     "data": {
      "image/png": "[encoded data removed]",
      "text/plain": [
       "<Figure size 720x576 with 1 Axes>"
      ]
     },
     "metadata": {
      "needs_background": "light"
     },
     "output_type": "display_data"
    }
   ],
   "source": [
    "plt.figure(figsize=(10,8))\n",
    "sns.distplot(bank_data[\"consumer_price_index\"])\n",
    "plt.show()"
   ]
  },
  {
   "cell_type": "markdown",
   "id": "385c2cb0",
   "metadata": {},
   "source": [
    "## Consumer Confidence Index"
   ]
  },
  {
   "cell_type": "code",
   "execution_count": 43,
   "id": "b72984bb",
   "metadata": {},
   "outputs": [
    {
     "data": {
      "image/png": "[encoded data removed]",
      "text/plain": [
       "<Figure size 432x288 with 1 Axes>"
      ]
     },
     "metadata": {
      "needs_background": "light"
     },
     "output_type": "display_data"
    }
   ],
   "source": [
    "sns.boxplot(data=bank_data, x=\"target\", y=\"consumer_price_index\")\n",
    "plt.show()"
   ]
  },
  {
   "cell_type": "code",
   "execution_count": 44,
   "id": "2392bfc3",
   "metadata": {},
   "outputs": [
    {
     "name": "stderr",
     "output_type": "stream",
     "text": [
      "/var/folders/dn/9qflv0c57rl7ynhwt9tnqmrr0000gn/T/ipykernel_47771/2460001532.py:2: UserWarning: \n",
      "\n",
      "`distplot` is a deprecated function and will be removed in seaborn v0.14.0.\n",
      "\n",
      "Please adapt your code to use either `displot` (a figure-level function with\n",
      "similar flexibility) or `histplot` (an axes-level function for histograms).\n",
      "\n",
      "For a guide to updating your code to use the new functions, please see\n",
      "https://gist.github.com/mwaskom/de44147ed2974457ad6372750bbe5751\n",
      "\n",
      "  sns.distplot(bank_data[\"consumer_price_index\"])\n"
     ]
    },
    {
     "data": {
      "image/png": "[encoded data removed]",
      "text/plain": [
       "<Figure size 720x576 with 1 Axes>"
      ]
     },
     "metadata": {
      "needs_background": "light"
     },
     "output_type": "display_data"
    }
   ],
   "source": [
    "plt.figure(figsize=(10,8))\n",
    "sns.distplot(bank_data[\"consumer_price_index\"])\n",
    "plt.show()"
   ]
  },
  {
   "cell_type": "markdown",
   "id": "f7603a8d",
   "metadata": {},
   "source": [
    "## Euribor 3 Month Rate [ Euro Interbank Offered Rate ]"
   ]
  },
  {
   "cell_type": "code",
   "execution_count": 45,
   "id": "b0fbd5d4",
   "metadata": {},
   "outputs": [
    {
     "data": {
      "image/png": "[encoded data removed]",
      "text/plain": [
       "<Figure size 432x288 with 1 Axes>"
      ]
     },
     "metadata": {
      "needs_background": "light"
     },
     "output_type": "display_data"
    }
   ],
   "source": [
    "sns.boxplot(data=bank_data, x=\"target\", y=\"euribor_3_month_rate\")\n",
    "plt.show()"
   ]
  },
  {
   "cell_type": "code",
   "execution_count": 46,
   "id": "2b85ba34",
   "metadata": {},
   "outputs": [
    {
     "name": "stderr",
     "output_type": "stream",
     "text": [
      "/var/folders/dn/9qflv0c57rl7ynhwt9tnqmrr0000gn/T/ipykernel_47771/2001953300.py:2: UserWarning: \n",
      "\n",
      "`distplot` is a deprecated function and will be removed in seaborn v0.14.0.\n",
      "\n",
      "Please adapt your code to use either `displot` (a figure-level function with\n",
      "similar flexibility) or `histplot` (an axes-level function for histograms).\n",
      "\n",
      "For a guide to updating your code to use the new functions, please see\n",
      "https://gist.github.com/mwaskom/de44147ed2974457ad6372750bbe5751\n",
      "\n",
      "  sns.distplot(bank_data[\"euribor_3_month_rate\"])\n"
     ]
    },
    {
     "data": {
      "image/png": "[encoded data removed]",
      "text/plain": [
       "<Figure size 720x576 with 1 Axes>"
      ]
     },
     "metadata": {
      "needs_background": "light"
     },
     "output_type": "display_data"
    }
   ],
   "source": [
    "plt.figure(figsize=(10,8))\n",
    "sns.distplot(bank_data[\"euribor_3_month_rate\"])\n",
    "plt.show()"
   ]
  },
  {
   "cell_type": "markdown",
   "id": "acd59a8d",
   "metadata": {},
   "source": [
    "## Number Of Employees"
   ]
  },
  {
   "cell_type": "code",
   "execution_count": 47,
   "id": "b3f904c1",
   "metadata": {},
   "outputs": [
    {
     "data": {
      "image/png": "[encoded data removed]",
      "text/plain": [
       "<Figure size 432x288 with 1 Axes>"
      ]
     },
     "metadata": {
      "needs_background": "light"
     },
     "output_type": "display_data"
    }
   ],
   "source": [
    "sns.boxplot(data=bank_data, x=\"target\", y=\"number_of_employees\")\n",
    "plt.show()"
   ]
  },
  {
   "cell_type": "code",
   "execution_count": 48,
   "id": "577e27bb",
   "metadata": {},
   "outputs": [
    {
     "name": "stderr",
     "output_type": "stream",
     "text": [
      "/var/folders/dn/9qflv0c57rl7ynhwt9tnqmrr0000gn/T/ipykernel_47771/1963860094.py:2: UserWarning: \n",
      "\n",
      "`distplot` is a deprecated function and will be removed in seaborn v0.14.0.\n",
      "\n",
      "Please adapt your code to use either `displot` (a figure-level function with\n",
      "similar flexibility) or `histplot` (an axes-level function for histograms).\n",
      "\n",
      "For a guide to updating your code to use the new functions, please see\n",
      "https://gist.github.com/mwaskom/de44147ed2974457ad6372750bbe5751\n",
      "\n",
      "  sns.distplot(bank_data[\"number_of_employees\"])\n"
     ]
    },
    {
     "data": {
      "image/png": "[encoded data removed]",
      "text/plain": [
       "<Figure size 720x576 with 1 Axes>"
      ]
     },
     "metadata": {
      "needs_background": "light"
     },
     "output_type": "display_data"
    }
   ],
   "source": [
    "plt.figure(figsize=(10,8))\n",
    "sns.distplot(bank_data[\"number_of_employees\"])\n",
    "plt.show()"
   ]
  },
  {
   "cell_type": "markdown",
   "id": "dcc8bba7",
   "metadata": {},
   "source": [
    "## Previous - number of contacts performed before this campaign and for this client"
   ]
  },
  {
   "cell_type": "code",
   "execution_count": 49,
   "id": "d2edfdd3",
   "metadata": {},
   "outputs": [
    {
     "data": {
      "text/plain": [
       "0    35551\n",
       "1     4561\n",
       "2      754\n",
       "3      216\n",
       "4       70\n",
       "5       18\n",
       "6        5\n",
       "7        1\n",
       "Name: previous, dtype: int64"
      ]
     },
     "execution_count": 49,
     "metadata": {},
     "output_type": "execute_result"
    }
   ],
   "source": [
    "bank_data[\"previous\"].value_counts()\n"
   ]
  },
  {
   "cell_type": "code",
   "execution_count": 50,
   "id": "53e44f7e",
   "metadata": {},
   "outputs": [
    {
     "data": {
      "image/png": "[encoded data removed]",
      "text/plain": [
       "<Figure size 432x288 with 1 Axes>"
      ]
     },
     "metadata": {
      "needs_background": "light"
     },
     "output_type": "display_data"
    }
   ],
   "source": [
    "sns.boxplot(data=data, x=\"target\", y=\"previous\")\n",
    "plt.show()"
   ]
  },
  {
   "cell_type": "code",
   "execution_count": 51,
   "id": "cf158272",
   "metadata": {},
   "outputs": [
    {
     "name": "stderr",
     "output_type": "stream",
     "text": [
      "/var/folders/dn/9qflv0c57rl7ynhwt9tnqmrr0000gn/T/ipykernel_47771/460332167.py:2: UserWarning: \n",
      "\n",
      "`distplot` is a deprecated function and will be removed in seaborn v0.14.0.\n",
      "\n",
      "Please adapt your code to use either `displot` (a figure-level function with\n",
      "similar flexibility) or `histplot` (an axes-level function for histograms).\n",
      "\n",
      "For a guide to updating your code to use the new functions, please see\n",
      "https://gist.github.com/mwaskom/de44147ed2974457ad6372750bbe5751\n",
      "\n",
      "  sns.distplot(bank_data[\"previous\"])\n"
     ]
    },
    {
     "data": {
      "image/png": "[encoded data removed]",
      "text/plain": [
       "<Figure size 720x576 with 1 Axes>"
      ]
     },
     "metadata": {
      "needs_background": "light"
     },
     "output_type": "display_data"
    }
   ],
   "source": [
    "plt.figure(figsize=(10,8))\n",
    "sns.distplot(bank_data[\"previous\"])\n",
    "plt.show()"
   ]
  },
  {
   "cell_type": "code",
   "execution_count": 52,
   "id": "7d3445af",
   "metadata": {},
   "outputs": [
    {
     "data": {
      "text/plain": [
       "Text(0.5, 1.05, 'Pearson correlation of Features')"
      ]
     },
     "execution_count": 52,
     "metadata": {},
     "output_type": "execute_result"
    },
    {
     "data": {
      "image/png": "[encoded data removed]",
      "text/plain": [
       "<Figure size 720x864 with 2 Axes>"
      ]
     },
     "metadata": {
      "needs_background": "light"
     },
     "output_type": "display_data"
    }
   ],
   "source": [
    "corr = bank_data.corr()\n",
    "\n",
    "f, ax = plt.subplots(figsize=(10,12))\n",
    "\n",
    "cmap = sns.diverging_palette(220, 10, as_cmap=True)\n",
    "\n",
    "_ = sns.heatmap(corr, cmap=\"YlGn\", square=True, ax=ax, annot=True, linewidth=0.1)\n",
    "\n",
    "plt.title(\"Pearson correlation of Features\", y=1.05, size=15)"
   ]
  },
  {
   "cell_type": "markdown",
   "id": "f2a9e7f6",
   "metadata": {},
   "source": [
    "There is high correlation between the number of employees and the Euro Interbank Offered Rate with a correlation values of 0.95. \n",
    "\n",
    "Euro Interbank Offered Rate and the employee variation rate has a correlation value of 0.97, which is very high compared to the other numerical features. "
   ]
  },
  {
   "cell_type": "code",
   "execution_count": 53,
   "id": "1ad8c1b6",
   "metadata": {},
   "outputs": [],
   "source": [
    "bank_data.to_csv('bank_data_eda.csv', index=False)"
   ]
  },
  {
   "cell_type": "code",
   "execution_count": 54,
   "id": "215dca83",
   "metadata": {},
   "outputs": [],
   "source": [
    "import pandas as pd\n",
    "import scipy.stats as stats\n",
    "\n",
    "class CategoricalFeature():\n",
    "    def __init__(self, df, feature):\n",
    "        self.df = df\n",
    "        self.feature = feature\n",
    "\n",
    "    @property\n",
    "    def df_lite(self):\n",
    "        df_lite = self.df\n",
    "        df_lite['bin'] = df_lite[self.feature].fillna('MISSING')\n",
    "        return df_lite[['bin', 'target']]\n",
    "\n",
    "\n",
    "class ContinuousFeature():\n",
    "    def __init__(self, df, feature):\n",
    "        self.df = df\n",
    "        self.feature = feature\n",
    "        self.bin_min_size = int(len(self.df) * 0.05)\n",
    "\n",
    "    def __generate_bins(self, bins_num):\n",
    "        df = self.df[[self.feature, 'target']]\n",
    "        df['bin'] = pd.qcut(df[self.feature], bins_num, duplicates='drop') \\\n",
    "                    .apply(lambda x: x.left) \\\n",
    "                    .astype(float)\n",
    "        return df\n",
    "\n",
    "    def __generate_correct_bins(self, bins_max=20):\n",
    "        for bins_num in range(bins_max, 1, -1):\n",
    "            df = self.__generate_bins(bins_num)\n",
    "            df_grouped = pd.DataFrame(df.groupby('bin') \\\n",
    "                                      .agg({self.feature: 'count',\n",
    "                                            'target': 'sum'})) \\\n",
    "                                      .reset_index()\n",
    "            r, p = stats.stats.spearmanr(df_grouped['bin'], df_grouped['target'])\n",
    "\n",
    "            if (\n",
    "                    abs(r)==1 and                                                        # check if woe for bins are monotonic\n",
    "                    df_grouped[self.feature].min() > self.bin_min_size                   # check if bin size is greater than 5%\n",
    "                    and not (df_grouped[self.feature] == df_grouped['target']).any()      # check if number of good and bad is not equal to 0\n",
    "            ):\n",
    "                break\n",
    "\n",
    "        return df\n",
    "\n",
    "    @property\n",
    "    def df_lite(self):\n",
    "        df_lite = self.__generate_correct_bins()\n",
    "        df_lite['bin'].fillna('MISSING', inplace=True)\n",
    "        return df_lite[['bin', 'target']]\n",
    "    "
   ]
  },
  {
   "cell_type": "code",
   "execution_count": 55,
   "id": "1fd22cb8",
   "metadata": {},
   "outputs": [],
   "source": [
    "import pandas as pd\n",
    "import numpy as np\n",
    "import scipy.stats as stats\n",
    "import matplotlib.pyplot as plt\n",
    "import seaborn as sns\n",
    "\n",
    "pd.set_option('mode.chained_assignment', None)\n",
    "\n",
    "class AttributeRelevance():\n",
    "    def seq_palette(self, n_colors):\n",
    "        return sns.cubehelix_palette(n_colors, start=.5, rot=-.75, reverse=True)\n",
    "\n",
    "    def bulk_iv(self, feats, iv, woe_extremes=False):\n",
    "        iv_dict = {}\n",
    "        for f in feats:\n",
    "            iv_df, iv_value = iv.calculate_iv(f)\n",
    "            if woe_extremes:\n",
    "                iv_dict[f.feature] = [iv_value, iv_df['woe'].min(), iv_df['woe'].max()]\n",
    "                cols = ['iv', 'woe_min', 'woe_max']\n",
    "            else:\n",
    "                iv_dict[f.feature] = iv_value\n",
    "                cols = ['iv']\n",
    "        df = pd.DataFrame.from_dict(iv_dict, orient='index', columns=cols)\n",
    "        return df\n",
    "\n",
    "    def bulk_stats(self, feats, s):\n",
    "        stats_dict = {}\n",
    "        for f in feats:\n",
    "            p_value, effect_size = s.calculate_chi(f)\n",
    "            stats_dict[f.feature] = [p_value, effect_size]\n",
    "        df = pd.DataFrame.from_dict(stats_dict, orient='index', columns=['p-value', 'effect_size'])\n",
    "        return df\n",
    "\n",
    "    def analyze(self, feats, iv, s=None, interpretation=False):\n",
    "        df_iv = self.bulk_iv(feats, iv).sort_values(by='iv', ascending=False)\n",
    "        if s is not None:\n",
    "            df_stats = self.bulk_stats(feats, s)\n",
    "            df_iv = df_iv.merge(df_stats, left_index=True, right_index=True)\n",
    "        if interpretation:\n",
    "            df_iv['iv_interpretation'] = df_iv['iv'].apply(iv.interpretation)\n",
    "            if s is not None:\n",
    "                df_iv['es_interpretation'] = df_iv['effect_size'].apply(s.interpretation)\n",
    "        return df_iv\n",
    "\n",
    "    def draw_iv(self, feats, iv):\n",
    "        df = self.analyze(feats, iv)\n",
    "        fig, ax = plt.subplots(figsize=(10, 6))\n",
    "        sns.barplot(x=df.index, y='iv', data=df, palette=self.seq_palette(len(feats)))\n",
    "        ax.set_title('IV values')\n",
    "        plt.xticks(rotation=90)\n",
    "        plt.show()\n",
    "\n",
    "    def draw_woe_extremes(self, feats, iv):\n",
    "        df = self.bulk_iv(feats, iv, woe_extremes=True).sort_values(by='iv', ascending=False)\n",
    "        fig, ax = plt.subplots(figsize=(15, ))\n",
    "        sns.barplot(x=df.index, y='woe_min', data=df, palette=self.seq_palette(len(feats)))\n",
    "        sns.barplot(x=df.index, y='woe_max', data=df, palette=self.seq_palette(len(feats)))\n",
    "        ax.axhline(y=0, color='black', linewidth=1)\n",
    "        ax.set_title('Range of WOE values')\n",
    "        ax.set_ylabel('WOE')\n",
    "        plt.xticks(rotation=90)\n",
    "        plt.show()\n",
    "\n",
    "    def draw_woe_multiplot(self, feats, iv):\n",
    "        n = len(feats)\n",
    "        nrows = int(np.ceil(n/3))\n",
    "        fig, ax = plt.subplots(nrows=nrows, ncols=3, figsize=(15, nrows*4))\n",
    "        for i in range(n):\n",
    "            iv_df, iv_value = iv.calculate_iv(feats[i])\n",
    "            sns.barplot(x=feats[i].feature, y='woe', data=iv_df, color='#455872', ax=fig.axes[i])\n",
    "\n",
    "        for ax in fig.axes:\n",
    "            plt.sca(ax)\n",
    "            plt.xticks(rotation=50)\n",
    "\n",
    "        plt.tight_layout()\n",
    "        plt.show()\n",
    "\n",
    "class Analysis():\n",
    "    def seq_palette(self, n_colors):\n",
    "        return sns.cubehelix_palette(n_colors, start=.5, rot=-.75, reverse=True)\n",
    "\n",
    "    def group_by_feature(self, feat):\n",
    "        df = feat.df_lite \\\n",
    "                            .groupby('bin') \\\n",
    "                            .agg({'target': ['count', 'sum']}) \\\n",
    "                            .reset_index()\n",
    "        df.columns = [feat.feature, 'count', 'good']\n",
    "        df['bad'] = df['count'] - df['good']\n",
    "        return df\n",
    "\n",
    "class StatsSignificance(Analysis):\n",
    "    def calculate_chi(self, feat):\n",
    "        df = self.group_by_feature(feat)\n",
    "        df_chi = np.array(df[['good', 'bad']])\n",
    "        n = df['count'].sum()\n",
    "\n",
    "        chi = stats.chi2_contingency(df_chi)\n",
    "        cramers_v = np.sqrt(chi[0] / n)          # assume that k=2 (good, bad)\n",
    "        return chi[1], cramers_v\n",
    "\n",
    "    @staticmethod\n",
    "    def interpretation(cramers_v):\n",
    "        if cramers_v < 0.1:\n",
    "            return 'useless'\n",
    "        elif cramers_v < 0.2:\n",
    "            return 'weak'\n",
    "        elif cramers_v < 0.4:\n",
    "            return 'medium'\n",
    "        elif cramers_v < 0.6:\n",
    "            return 'strong'\n",
    "        else:\n",
    "            return 'very strong'\n",
    "\n",
    "    def interpret_chi(self, feat):\n",
    "        _, cramers_v = self.calculate_chi(feat)\n",
    "        return self.interpretation(cramers_v)\n",
    "\n",
    "    def print_chi(self, feat):\n",
    "        p_value, cramers_v = self.calculate_chi(feat)\n",
    "        print('P-value: %0.2f\\nEffect size: %0.2f' % (p_value, cramers_v))\n",
    "        print('%s is a %s predictor' % (feat.feature.capitalize(), self.interpretation(cramers_v)))\n",
    "\n",
    "\n",
    "class IV(Analysis):\n",
    "    @staticmethod\n",
    "    def __perc_share(df, group_name):\n",
    "        return df[group_name] / df[group_name].sum()\n",
    "\n",
    "    def __calculate_perc_share(self, feat):\n",
    "        df = self.group_by_feature(feat)\n",
    "        df['perc_good'] = self.__perc_share(df, 'good')\n",
    "        df['perc_bad'] = self.__perc_share(df, 'bad')\n",
    "        df['perc_diff'] = df['perc_good'] - df['perc_bad']\n",
    "        return df\n",
    "\n",
    "    def __calculate_woe(self, feat):\n",
    "        df = self.__calculate_perc_share(feat)\n",
    "        df['woe'] = np.log(df['perc_good']/df['perc_bad'])\n",
    "        df['woe'] = df['woe'].replace([np.inf, -np.inf], np.nan).fillna(0)\n",
    "        return df\n",
    "\n",
    "    def calculate_iv(self, feat):\n",
    "        df = self.__calculate_woe(feat)\n",
    "        df['iv'] = df['perc_diff'] * df['woe']\n",
    "        return df, df['iv'].sum()\n",
    "\n",
    "    def draw_woe(self, feat):\n",
    "        iv_df, iv_value = self.calculate_iv(feat)\n",
    "        fig, ax = plt.subplots(figsize=(10,6))\n",
    "        sns.barplot(x=feat.feature, y='woe', data=iv_df, palette=self.seq_palette(len(iv_df.index)))\n",
    "        ax.set_title('WOE visualization for: ' + feat.feature)\n",
    "        plt.show()\n",
    "        plt.show()\n",
    "\n",
    "    @staticmethod\n",
    "    def interpretation(iv):\n",
    "        if iv < 0.02:\n",
    "            return 'useless'\n",
    "        elif iv < 0.1:\n",
    "            return 'weak'\n",
    "        elif iv < 0.3:\n",
    "            return 'medium'\n",
    "        elif iv < 0.5:\n",
    "            return 'strong'\n",
    "        else:\n",
    "            return 'suspicious'\n",
    "\n",
    "    def interpret_iv(self, feat):\n",
    "        _, iv = self.calculate_iv(feat)\n",
    "        return self.interpretation(iv)\n",
    "\n",
    "    def print_iv(self, feat):\n",
    "        _, iv = self.calculate_iv(feat)\n",
    "        print('Information value: %0.2f' % iv)\n",
    "        print('%s is a %s predictor' % (feat.feature.capitalize(), self.interpretation(iv)))"
   ]
  },
  {
   "cell_type": "code",
   "execution_count": 56,
   "id": "8506faab",
   "metadata": {},
   "outputs": [
    {
     "data": {
      "text/html": [
       "<div>\n",
       "<style scoped>\n",
       "    .dataframe tbody tr th:only-of-type {\n",
       "        vertical-align: middle;\n",
       "    }\n",
       "\n",
       "    .dataframe tbody tr th {\n",
       "        vertical-align: top;\n",
       "    }\n",
       "\n",
       "    .dataframe thead th {\n",
       "        text-align: right;\n",
       "    }\n",
       "</style>\n",
       "<table border=\"1\" class=\"dataframe\">\n",
       "  <thead>\n",
       "    <tr style=\"text-align: right;\">\n",
       "      <th></th>\n",
       "      <th>age</th>\n",
       "      <th>job</th>\n",
       "      <th>marital</th>\n",
       "      <th>education</th>\n",
       "      <th>default</th>\n",
       "      <th>housing</th>\n",
       "      <th>loan</th>\n",
       "      <th>contact</th>\n",
       "      <th>month</th>\n",
       "      <th>day_of_week</th>\n",
       "      <th>duration</th>\n",
       "      <th>campaign</th>\n",
       "      <th>pdays</th>\n",
       "      <th>previous</th>\n",
       "      <th>poutcome</th>\n",
       "      <th>employment_variation_rate</th>\n",
       "      <th>consumer_price_index</th>\n",
       "      <th>cons.conf.idx</th>\n",
       "      <th>euribor_3_month_rate</th>\n",
       "      <th>number_of_employees</th>\n",
       "      <th>target</th>\n",
       "    </tr>\n",
       "  </thead>\n",
       "  <tbody>\n",
       "    <tr>\n",
       "      <th>0</th>\n",
       "      <td>56</td>\n",
       "      <td>housemaid</td>\n",
       "      <td>married</td>\n",
       "      <td>basic.4y</td>\n",
       "      <td>no</td>\n",
       "      <td>no</td>\n",
       "      <td>no</td>\n",
       "      <td>telephone</td>\n",
       "      <td>may</td>\n",
       "      <td>mon</td>\n",
       "      <td>261</td>\n",
       "      <td>1</td>\n",
       "      <td>999</td>\n",
       "      <td>0</td>\n",
       "      <td>nonexistent</td>\n",
       "      <td>1.1</td>\n",
       "      <td>93.994</td>\n",
       "      <td>-36.4</td>\n",
       "      <td>4.857</td>\n",
       "      <td>5191.0</td>\n",
       "      <td>0</td>\n",
       "    </tr>\n",
       "    <tr>\n",
       "      <th>1</th>\n",
       "      <td>57</td>\n",
       "      <td>services</td>\n",
       "      <td>married</td>\n",
       "      <td>high.school</td>\n",
       "      <td>unknown</td>\n",
       "      <td>no</td>\n",
       "      <td>no</td>\n",
       "      <td>telephone</td>\n",
       "      <td>may</td>\n",
       "      <td>mon</td>\n",
       "      <td>149</td>\n",
       "      <td>1</td>\n",
       "      <td>999</td>\n",
       "      <td>0</td>\n",
       "      <td>nonexistent</td>\n",
       "      <td>1.1</td>\n",
       "      <td>93.994</td>\n",
       "      <td>-36.4</td>\n",
       "      <td>4.857</td>\n",
       "      <td>5191.0</td>\n",
       "      <td>0</td>\n",
       "    </tr>\n",
       "    <tr>\n",
       "      <th>2</th>\n",
       "      <td>37</td>\n",
       "      <td>services</td>\n",
       "      <td>married</td>\n",
       "      <td>high.school</td>\n",
       "      <td>no</td>\n",
       "      <td>yes</td>\n",
       "      <td>no</td>\n",
       "      <td>telephone</td>\n",
       "      <td>may</td>\n",
       "      <td>mon</td>\n",
       "      <td>226</td>\n",
       "      <td>1</td>\n",
       "      <td>999</td>\n",
       "      <td>0</td>\n",
       "      <td>nonexistent</td>\n",
       "      <td>1.1</td>\n",
       "      <td>93.994</td>\n",
       "      <td>-36.4</td>\n",
       "      <td>4.857</td>\n",
       "      <td>5191.0</td>\n",
       "      <td>0</td>\n",
       "    </tr>\n",
       "    <tr>\n",
       "      <th>3</th>\n",
       "      <td>40</td>\n",
       "      <td>admin.</td>\n",
       "      <td>married</td>\n",
       "      <td>basic.6y</td>\n",
       "      <td>no</td>\n",
       "      <td>no</td>\n",
       "      <td>no</td>\n",
       "      <td>telephone</td>\n",
       "      <td>may</td>\n",
       "      <td>mon</td>\n",
       "      <td>151</td>\n",
       "      <td>1</td>\n",
       "      <td>999</td>\n",
       "      <td>0</td>\n",
       "      <td>nonexistent</td>\n",
       "      <td>1.1</td>\n",
       "      <td>93.994</td>\n",
       "      <td>-36.4</td>\n",
       "      <td>4.857</td>\n",
       "      <td>5191.0</td>\n",
       "      <td>0</td>\n",
       "    </tr>\n",
       "    <tr>\n",
       "      <th>4</th>\n",
       "      <td>56</td>\n",
       "      <td>services</td>\n",
       "      <td>married</td>\n",
       "      <td>high.school</td>\n",
       "      <td>no</td>\n",
       "      <td>no</td>\n",
       "      <td>yes</td>\n",
       "      <td>telephone</td>\n",
       "      <td>may</td>\n",
       "      <td>mon</td>\n",
       "      <td>307</td>\n",
       "      <td>1</td>\n",
       "      <td>999</td>\n",
       "      <td>0</td>\n",
       "      <td>nonexistent</td>\n",
       "      <td>1.1</td>\n",
       "      <td>93.994</td>\n",
       "      <td>-36.4</td>\n",
       "      <td>4.857</td>\n",
       "      <td>5191.0</td>\n",
       "      <td>0</td>\n",
       "    </tr>\n",
       "  </tbody>\n",
       "</table>\n",
       "</div>"
      ],
      "text/plain": [
       "   age        job  marital    education  default housing loan    contact  \\\n",
       "0   56  housemaid  married     basic.4y       no      no   no  telephone   \n",
       "1   57   services  married  high.school  unknown      no   no  telephone   \n",
       "2   37   services  married  high.school       no     yes   no  telephone   \n",
       "3   40     admin.  married     basic.6y       no      no   no  telephone   \n",
       "4   56   services  married  high.school       no      no  yes  telephone   \n",
       "\n",
       "  month day_of_week  duration  campaign  pdays  previous     poutcome  \\\n",
       "0   may         mon       261         1    999         0  nonexistent   \n",
       "1   may         mon       149         1    999         0  nonexistent   \n",
       "2   may         mon       226         1    999         0  nonexistent   \n",
       "3   may         mon       151         1    999         0  nonexistent   \n",
       "4   may         mon       307         1    999         0  nonexistent   \n",
       "\n",
       "   employment_variation_rate  consumer_price_index  cons.conf.idx  \\\n",
       "0                        1.1                93.994          -36.4   \n",
       "1                        1.1                93.994          -36.4   \n",
       "2                        1.1                93.994          -36.4   \n",
       "3                        1.1                93.994          -36.4   \n",
       "4                        1.1                93.994          -36.4   \n",
       "\n",
       "   euribor_3_month_rate  number_of_employees  target  \n",
       "0                 4.857               5191.0       0  \n",
       "1                 4.857               5191.0       0  \n",
       "2                 4.857               5191.0       0  \n",
       "3                 4.857               5191.0       0  \n",
       "4                 4.857               5191.0       0  "
      ]
     },
     "execution_count": 56,
     "metadata": {},
     "output_type": "execute_result"
    }
   ],
   "source": [
    "bank_data.head()"
   ]
  },
  {
   "cell_type": "code",
   "execution_count": 57,
   "id": "4385284a",
   "metadata": {},
   "outputs": [],
   "source": [
    "feat_education = CategoricalFeature(bank_data, 'education')\n",
    "feat_job = CategoricalFeature(bank_data, 'job')\n",
    "feat_marital = CategoricalFeature(bank_data, 'marital')\n",
    "\n",
    "feat_duration = ContinuousFeature(bank_data, 'duration')\n",
    "feat_previous = ContinuousFeature(bank_data, 'previous')\n",
    "feat_employment_variation_rate = ContinuousFeature(bank_data, 'employment_variation_rate')\n"
   ]
  },
  {
   "cell_type": "code",
   "execution_count": 58,
   "id": "a4b96c02",
   "metadata": {},
   "outputs": [
    {
     "data": {
      "text/html": [
       "<div>\n",
       "<style scoped>\n",
       "    .dataframe tbody tr th:only-of-type {\n",
       "        vertical-align: middle;\n",
       "    }\n",
       "\n",
       "    .dataframe tbody tr th {\n",
       "        vertical-align: top;\n",
       "    }\n",
       "\n",
       "    .dataframe thead th {\n",
       "        text-align: right;\n",
       "    }\n",
       "</style>\n",
       "<table border=\"1\" class=\"dataframe\">\n",
       "  <thead>\n",
       "    <tr style=\"text-align: right;\">\n",
       "      <th></th>\n",
       "      <th>bin</th>\n",
       "      <th>target</th>\n",
       "    </tr>\n",
       "  </thead>\n",
       "  <tbody>\n",
       "    <tr>\n",
       "      <th>0</th>\n",
       "      <td>basic.4y</td>\n",
       "      <td>0</td>\n",
       "    </tr>\n",
       "    <tr>\n",
       "      <th>1</th>\n",
       "      <td>high.school</td>\n",
       "      <td>0</td>\n",
       "    </tr>\n",
       "    <tr>\n",
       "      <th>2</th>\n",
       "      <td>high.school</td>\n",
       "      <td>0</td>\n",
       "    </tr>\n",
       "    <tr>\n",
       "      <th>3</th>\n",
       "      <td>basic.6y</td>\n",
       "      <td>0</td>\n",
       "    </tr>\n",
       "    <tr>\n",
       "      <th>4</th>\n",
       "      <td>high.school</td>\n",
       "      <td>0</td>\n",
       "    </tr>\n",
       "  </tbody>\n",
       "</table>\n",
       "</div>"
      ],
      "text/plain": [
       "           bin  target\n",
       "0     basic.4y       0\n",
       "1  high.school       0\n",
       "2  high.school       0\n",
       "3     basic.6y       0\n",
       "4  high.school       0"
      ]
     },
     "execution_count": 58,
     "metadata": {},
     "output_type": "execute_result"
    }
   ],
   "source": [
    "feat_education.df_lite.head()\n"
   ]
  },
  {
   "cell_type": "code",
   "execution_count": 59,
   "id": "966e1337",
   "metadata": {},
   "outputs": [
    {
     "data": {
      "text/html": [
       "<div>\n",
       "<style scoped>\n",
       "    .dataframe tbody tr th:only-of-type {\n",
       "        vertical-align: middle;\n",
       "    }\n",
       "\n",
       "    .dataframe tbody tr th {\n",
       "        vertical-align: top;\n",
       "    }\n",
       "\n",
       "    .dataframe thead th {\n",
       "        text-align: right;\n",
       "    }\n",
       "</style>\n",
       "<table border=\"1\" class=\"dataframe\">\n",
       "  <thead>\n",
       "    <tr style=\"text-align: right;\">\n",
       "      <th></th>\n",
       "      <th>bin</th>\n",
       "      <th>target</th>\n",
       "    </tr>\n",
       "  </thead>\n",
       "  <tbody>\n",
       "    <tr>\n",
       "      <th>0</th>\n",
       "      <td>258.0</td>\n",
       "      <td>0</td>\n",
       "    </tr>\n",
       "    <tr>\n",
       "      <th>1</th>\n",
       "      <td>142.0</td>\n",
       "      <td>0</td>\n",
       "    </tr>\n",
       "    <tr>\n",
       "      <th>2</th>\n",
       "      <td>202.0</td>\n",
       "      <td>0</td>\n",
       "    </tr>\n",
       "    <tr>\n",
       "      <th>3</th>\n",
       "      <td>142.0</td>\n",
       "      <td>0</td>\n",
       "    </tr>\n",
       "    <tr>\n",
       "      <th>4</th>\n",
       "      <td>296.0</td>\n",
       "      <td>0</td>\n",
       "    </tr>\n",
       "    <tr>\n",
       "      <th>5</th>\n",
       "      <td>180.0</td>\n",
       "      <td>0</td>\n",
       "    </tr>\n",
       "    <tr>\n",
       "      <th>6</th>\n",
       "      <td>126.0</td>\n",
       "      <td>0</td>\n",
       "    </tr>\n",
       "    <tr>\n",
       "      <th>7</th>\n",
       "      <td>202.0</td>\n",
       "      <td>0</td>\n",
       "    </tr>\n",
       "    <tr>\n",
       "      <th>8</th>\n",
       "      <td>345.0</td>\n",
       "      <td>0</td>\n",
       "    </tr>\n",
       "    <tr>\n",
       "      <th>9</th>\n",
       "      <td>39.0</td>\n",
       "      <td>0</td>\n",
       "    </tr>\n",
       "    <tr>\n",
       "      <th>10</th>\n",
       "      <td>39.0</td>\n",
       "      <td>0</td>\n",
       "    </tr>\n",
       "    <tr>\n",
       "      <th>11</th>\n",
       "      <td>202.0</td>\n",
       "      <td>0</td>\n",
       "    </tr>\n",
       "    <tr>\n",
       "      <th>12</th>\n",
       "      <td>126.0</td>\n",
       "      <td>0</td>\n",
       "    </tr>\n",
       "    <tr>\n",
       "      <th>13</th>\n",
       "      <td>258.0</td>\n",
       "      <td>0</td>\n",
       "    </tr>\n",
       "    <tr>\n",
       "      <th>14</th>\n",
       "      <td>142.0</td>\n",
       "      <td>0</td>\n",
       "    </tr>\n",
       "    <tr>\n",
       "      <th>15</th>\n",
       "      <td>160.0</td>\n",
       "      <td>0</td>\n",
       "    </tr>\n",
       "    <tr>\n",
       "      <th>16</th>\n",
       "      <td>296.0</td>\n",
       "      <td>0</td>\n",
       "    </tr>\n",
       "    <tr>\n",
       "      <th>17</th>\n",
       "      <td>411.0</td>\n",
       "      <td>0</td>\n",
       "    </tr>\n",
       "    <tr>\n",
       "      <th>18</th>\n",
       "      <td>345.0</td>\n",
       "      <td>0</td>\n",
       "    </tr>\n",
       "    <tr>\n",
       "      <th>19</th>\n",
       "      <td>180.0</td>\n",
       "      <td>0</td>\n",
       "    </tr>\n",
       "  </tbody>\n",
       "</table>\n",
       "</div>"
      ],
      "text/plain": [
       "      bin  target\n",
       "0   258.0       0\n",
       "1   142.0       0\n",
       "2   202.0       0\n",
       "3   142.0       0\n",
       "4   296.0       0\n",
       "5   180.0       0\n",
       "6   126.0       0\n",
       "7   202.0       0\n",
       "8   345.0       0\n",
       "9    39.0       0\n",
       "10   39.0       0\n",
       "11  202.0       0\n",
       "12  126.0       0\n",
       "13  258.0       0\n",
       "14  142.0       0\n",
       "15  160.0       0\n",
       "16  296.0       0\n",
       "17  411.0       0\n",
       "18  345.0       0\n",
       "19  180.0       0"
      ]
     },
     "execution_count": 59,
     "metadata": {},
     "output_type": "execute_result"
    }
   ],
   "source": [
    "feat_duration.df_lite.head(20)"
   ]
  },
  {
   "cell_type": "code",
   "execution_count": 60,
   "id": "970cad42",
   "metadata": {},
   "outputs": [
    {
     "data": {
      "text/html": [
       "<div>\n",
       "<style scoped>\n",
       "    .dataframe tbody tr th:only-of-type {\n",
       "        vertical-align: middle;\n",
       "    }\n",
       "\n",
       "    .dataframe tbody tr th {\n",
       "        vertical-align: top;\n",
       "    }\n",
       "\n",
       "    .dataframe thead th {\n",
       "        text-align: right;\n",
       "    }\n",
       "</style>\n",
       "<table border=\"1\" class=\"dataframe\">\n",
       "  <thead>\n",
       "    <tr style=\"text-align: right;\">\n",
       "      <th></th>\n",
       "      <th>bin</th>\n",
       "      <th>target</th>\n",
       "    </tr>\n",
       "  </thead>\n",
       "  <tbody>\n",
       "    <tr>\n",
       "      <th>0</th>\n",
       "      <td>married</td>\n",
       "      <td>0</td>\n",
       "    </tr>\n",
       "    <tr>\n",
       "      <th>1</th>\n",
       "      <td>married</td>\n",
       "      <td>0</td>\n",
       "    </tr>\n",
       "    <tr>\n",
       "      <th>2</th>\n",
       "      <td>married</td>\n",
       "      <td>0</td>\n",
       "    </tr>\n",
       "    <tr>\n",
       "      <th>3</th>\n",
       "      <td>married</td>\n",
       "      <td>0</td>\n",
       "    </tr>\n",
       "    <tr>\n",
       "      <th>4</th>\n",
       "      <td>married</td>\n",
       "      <td>0</td>\n",
       "    </tr>\n",
       "    <tr>\n",
       "      <th>5</th>\n",
       "      <td>married</td>\n",
       "      <td>0</td>\n",
       "    </tr>\n",
       "    <tr>\n",
       "      <th>6</th>\n",
       "      <td>married</td>\n",
       "      <td>0</td>\n",
       "    </tr>\n",
       "    <tr>\n",
       "      <th>7</th>\n",
       "      <td>married</td>\n",
       "      <td>0</td>\n",
       "    </tr>\n",
       "    <tr>\n",
       "      <th>8</th>\n",
       "      <td>single</td>\n",
       "      <td>0</td>\n",
       "    </tr>\n",
       "    <tr>\n",
       "      <th>9</th>\n",
       "      <td>single</td>\n",
       "      <td>0</td>\n",
       "    </tr>\n",
       "    <tr>\n",
       "      <th>10</th>\n",
       "      <td>married</td>\n",
       "      <td>0</td>\n",
       "    </tr>\n",
       "    <tr>\n",
       "      <th>11</th>\n",
       "      <td>single</td>\n",
       "      <td>0</td>\n",
       "    </tr>\n",
       "    <tr>\n",
       "      <th>12</th>\n",
       "      <td>single</td>\n",
       "      <td>0</td>\n",
       "    </tr>\n",
       "    <tr>\n",
       "      <th>13</th>\n",
       "      <td>divorced</td>\n",
       "      <td>0</td>\n",
       "    </tr>\n",
       "    <tr>\n",
       "      <th>14</th>\n",
       "      <td>married</td>\n",
       "      <td>0</td>\n",
       "    </tr>\n",
       "    <tr>\n",
       "      <th>15</th>\n",
       "      <td>married</td>\n",
       "      <td>0</td>\n",
       "    </tr>\n",
       "    <tr>\n",
       "      <th>16</th>\n",
       "      <td>married</td>\n",
       "      <td>0</td>\n",
       "    </tr>\n",
       "    <tr>\n",
       "      <th>17</th>\n",
       "      <td>married</td>\n",
       "      <td>0</td>\n",
       "    </tr>\n",
       "    <tr>\n",
       "      <th>18</th>\n",
       "      <td>married</td>\n",
       "      <td>0</td>\n",
       "    </tr>\n",
       "    <tr>\n",
       "      <th>19</th>\n",
       "      <td>single</td>\n",
       "      <td>0</td>\n",
       "    </tr>\n",
       "  </tbody>\n",
       "</table>\n",
       "</div>"
      ],
      "text/plain": [
       "         bin  target\n",
       "0    married       0\n",
       "1    married       0\n",
       "2    married       0\n",
       "3    married       0\n",
       "4    married       0\n",
       "5    married       0\n",
       "6    married       0\n",
       "7    married       0\n",
       "8     single       0\n",
       "9     single       0\n",
       "10   married       0\n",
       "11    single       0\n",
       "12    single       0\n",
       "13  divorced       0\n",
       "14   married       0\n",
       "15   married       0\n",
       "16   married       0\n",
       "17   married       0\n",
       "18   married       0\n",
       "19    single       0"
      ]
     },
     "execution_count": 60,
     "metadata": {},
     "output_type": "execute_result"
    }
   ],
   "source": [
    "feat_marital.df_lite.head(20)"
   ]
  },
  {
   "cell_type": "code",
   "execution_count": 61,
   "id": "f2a3ebbe",
   "metadata": {},
   "outputs": [
    {
     "data": {
      "text/html": [
       "<div>\n",
       "<style scoped>\n",
       "    .dataframe tbody tr th:only-of-type {\n",
       "        vertical-align: middle;\n",
       "    }\n",
       "\n",
       "    .dataframe tbody tr th {\n",
       "        vertical-align: top;\n",
       "    }\n",
       "\n",
       "    .dataframe thead th {\n",
       "        text-align: right;\n",
       "    }\n",
       "</style>\n",
       "<table border=\"1\" class=\"dataframe\">\n",
       "  <thead>\n",
       "    <tr style=\"text-align: right;\">\n",
       "      <th></th>\n",
       "      <th>bin</th>\n",
       "      <th>target</th>\n",
       "    </tr>\n",
       "  </thead>\n",
       "  <tbody>\n",
       "    <tr>\n",
       "      <th>0</th>\n",
       "      <td>-1.8</td>\n",
       "      <td>0</td>\n",
       "    </tr>\n",
       "    <tr>\n",
       "      <th>1</th>\n",
       "      <td>-1.8</td>\n",
       "      <td>0</td>\n",
       "    </tr>\n",
       "    <tr>\n",
       "      <th>2</th>\n",
       "      <td>-1.8</td>\n",
       "      <td>0</td>\n",
       "    </tr>\n",
       "    <tr>\n",
       "      <th>3</th>\n",
       "      <td>-1.8</td>\n",
       "      <td>0</td>\n",
       "    </tr>\n",
       "    <tr>\n",
       "      <th>4</th>\n",
       "      <td>-1.8</td>\n",
       "      <td>0</td>\n",
       "    </tr>\n",
       "    <tr>\n",
       "      <th>5</th>\n",
       "      <td>-1.8</td>\n",
       "      <td>0</td>\n",
       "    </tr>\n",
       "    <tr>\n",
       "      <th>6</th>\n",
       "      <td>-1.8</td>\n",
       "      <td>0</td>\n",
       "    </tr>\n",
       "    <tr>\n",
       "      <th>7</th>\n",
       "      <td>-1.8</td>\n",
       "      <td>0</td>\n",
       "    </tr>\n",
       "    <tr>\n",
       "      <th>8</th>\n",
       "      <td>-1.8</td>\n",
       "      <td>0</td>\n",
       "    </tr>\n",
       "    <tr>\n",
       "      <th>9</th>\n",
       "      <td>-1.8</td>\n",
       "      <td>0</td>\n",
       "    </tr>\n",
       "    <tr>\n",
       "      <th>10</th>\n",
       "      <td>-1.8</td>\n",
       "      <td>0</td>\n",
       "    </tr>\n",
       "    <tr>\n",
       "      <th>11</th>\n",
       "      <td>-1.8</td>\n",
       "      <td>0</td>\n",
       "    </tr>\n",
       "    <tr>\n",
       "      <th>12</th>\n",
       "      <td>-1.8</td>\n",
       "      <td>0</td>\n",
       "    </tr>\n",
       "    <tr>\n",
       "      <th>13</th>\n",
       "      <td>-1.8</td>\n",
       "      <td>0</td>\n",
       "    </tr>\n",
       "    <tr>\n",
       "      <th>14</th>\n",
       "      <td>-1.8</td>\n",
       "      <td>0</td>\n",
       "    </tr>\n",
       "    <tr>\n",
       "      <th>15</th>\n",
       "      <td>-1.8</td>\n",
       "      <td>0</td>\n",
       "    </tr>\n",
       "    <tr>\n",
       "      <th>16</th>\n",
       "      <td>-1.8</td>\n",
       "      <td>0</td>\n",
       "    </tr>\n",
       "    <tr>\n",
       "      <th>17</th>\n",
       "      <td>-1.8</td>\n",
       "      <td>0</td>\n",
       "    </tr>\n",
       "    <tr>\n",
       "      <th>18</th>\n",
       "      <td>-1.8</td>\n",
       "      <td>0</td>\n",
       "    </tr>\n",
       "    <tr>\n",
       "      <th>19</th>\n",
       "      <td>-1.8</td>\n",
       "      <td>0</td>\n",
       "    </tr>\n",
       "  </tbody>\n",
       "</table>\n",
       "</div>"
      ],
      "text/plain": [
       "    bin  target\n",
       "0  -1.8       0\n",
       "1  -1.8       0\n",
       "2  -1.8       0\n",
       "3  -1.8       0\n",
       "4  -1.8       0\n",
       "5  -1.8       0\n",
       "6  -1.8       0\n",
       "7  -1.8       0\n",
       "8  -1.8       0\n",
       "9  -1.8       0\n",
       "10 -1.8       0\n",
       "11 -1.8       0\n",
       "12 -1.8       0\n",
       "13 -1.8       0\n",
       "14 -1.8       0\n",
       "15 -1.8       0\n",
       "16 -1.8       0\n",
       "17 -1.8       0\n",
       "18 -1.8       0\n",
       "19 -1.8       0"
      ]
     },
     "execution_count": 61,
     "metadata": {},
     "output_type": "execute_result"
    }
   ],
   "source": [
    "feat_employment_variation_rate.df_lite.head(20)"
   ]
  },
  {
   "cell_type": "code",
   "execution_count": 62,
   "id": "5ffb0b7d",
   "metadata": {},
   "outputs": [],
   "source": [
    "#same thing as below but manual feats_manual = [feat_gender, feat_charges, feat_contract, feat_tenure]\n",
    "feats_dict = {}\n",
    "\n",
    "for col in [c for c in data.columns if c != 'target']:\n",
    "    if is_numeric_dtype(data[col]):\n",
    "        feats_dict[col] = ContinuousFeature(data, col)\n",
    "    else:\n",
    "        feats_dict[col] = CategoricalFeature(data, col)\n",
    "\n",
    "feats = list(feats_dict.values())\n"
   ]
  },
  {
   "cell_type": "code",
   "execution_count": 63,
   "id": "747215d6",
   "metadata": {},
   "outputs": [],
   "source": [
    "iv = IV()"
   ]
  },
  {
   "cell_type": "code",
   "execution_count": 64,
   "id": "bdf478c9",
   "metadata": {},
   "outputs": [
    {
     "data": {
      "text/html": [
       "<div>\n",
       "<style scoped>\n",
       "    .dataframe tbody tr th:only-of-type {\n",
       "        vertical-align: middle;\n",
       "    }\n",
       "\n",
       "    .dataframe tbody tr th {\n",
       "        vertical-align: top;\n",
       "    }\n",
       "\n",
       "    .dataframe thead th {\n",
       "        text-align: right;\n",
       "    }\n",
       "</style>\n",
       "<table border=\"1\" class=\"dataframe\">\n",
       "  <thead>\n",
       "    <tr style=\"text-align: right;\">\n",
       "      <th></th>\n",
       "      <th>previous</th>\n",
       "      <th>count</th>\n",
       "      <th>good</th>\n",
       "      <th>bad</th>\n",
       "    </tr>\n",
       "  </thead>\n",
       "  <tbody>\n",
       "    <tr>\n",
       "      <th>0</th>\n",
       "      <td>-0.001</td>\n",
       "      <td>41176</td>\n",
       "      <td>4639</td>\n",
       "      <td>36537</td>\n",
       "    </tr>\n",
       "  </tbody>\n",
       "</table>\n",
       "</div>"
      ],
      "text/plain": [
       "   previous  count  good    bad\n",
       "0    -0.001  41176  4639  36537"
      ]
     },
     "execution_count": 64,
     "metadata": {},
     "output_type": "execute_result"
    }
   ],
   "source": [
    "iv.group_by_feature(feat_previous)\n"
   ]
  },
  {
   "cell_type": "code",
   "execution_count": 65,
   "id": "d4e5f1c2",
   "metadata": {},
   "outputs": [
    {
     "data": {
      "text/html": [
       "<div>\n",
       "<style scoped>\n",
       "    .dataframe tbody tr th:only-of-type {\n",
       "        vertical-align: middle;\n",
       "    }\n",
       "\n",
       "    .dataframe tbody tr th {\n",
       "        vertical-align: top;\n",
       "    }\n",
       "\n",
       "    .dataframe thead th {\n",
       "        text-align: right;\n",
       "    }\n",
       "</style>\n",
       "<table border=\"1\" class=\"dataframe\">\n",
       "  <thead>\n",
       "    <tr style=\"text-align: right;\">\n",
       "      <th></th>\n",
       "      <th>previous</th>\n",
       "      <th>count</th>\n",
       "      <th>good</th>\n",
       "      <th>bad</th>\n",
       "      <th>perc_good</th>\n",
       "      <th>perc_bad</th>\n",
       "      <th>perc_diff</th>\n",
       "      <th>woe</th>\n",
       "      <th>iv</th>\n",
       "    </tr>\n",
       "  </thead>\n",
       "  <tbody>\n",
       "    <tr>\n",
       "      <th>0</th>\n",
       "      <td>-0.001</td>\n",
       "      <td>41176</td>\n",
       "      <td>4639</td>\n",
       "      <td>36537</td>\n",
       "      <td>1.0</td>\n",
       "      <td>1.0</td>\n",
       "      <td>0.0</td>\n",
       "      <td>0.0</td>\n",
       "      <td>0.0</td>\n",
       "    </tr>\n",
       "  </tbody>\n",
       "</table>\n",
       "</div>"
      ],
      "text/plain": [
       "   previous  count  good    bad  perc_good  perc_bad  perc_diff  woe   iv\n",
       "0    -0.001  41176  4639  36537        1.0       1.0        0.0  0.0  0.0"
      ]
     },
     "metadata": {},
     "output_type": "display_data"
    },
    {
     "name": "stdout",
     "output_type": "stream",
     "text": [
      "Information value:  0.0\n"
     ]
    }
   ],
   "source": [
    "iv_df, iv_value = iv.calculate_iv(feat_previous)\n",
    "display(iv_df)\n",
    "print('Information value: ', iv_value)"
   ]
  },
  {
   "cell_type": "code",
   "execution_count": 66,
   "id": "347efec5",
   "metadata": {},
   "outputs": [
    {
     "data": {
      "text/html": [
       "<div>\n",
       "<style scoped>\n",
       "    .dataframe tbody tr th:only-of-type {\n",
       "        vertical-align: middle;\n",
       "    }\n",
       "\n",
       "    .dataframe tbody tr th {\n",
       "        vertical-align: top;\n",
       "    }\n",
       "\n",
       "    .dataframe thead th {\n",
       "        text-align: right;\n",
       "    }\n",
       "</style>\n",
       "<table border=\"1\" class=\"dataframe\">\n",
       "  <thead>\n",
       "    <tr style=\"text-align: right;\">\n",
       "      <th></th>\n",
       "      <th>duration</th>\n",
       "      <th>count</th>\n",
       "      <th>good</th>\n",
       "      <th>bad</th>\n",
       "    </tr>\n",
       "  </thead>\n",
       "  <tbody>\n",
       "    <tr>\n",
       "      <th>0</th>\n",
       "      <td>-0.001</td>\n",
       "      <td>2292</td>\n",
       "      <td>1</td>\n",
       "      <td>2291</td>\n",
       "    </tr>\n",
       "    <tr>\n",
       "      <th>1</th>\n",
       "      <td>39.000</td>\n",
       "      <td>2350</td>\n",
       "      <td>3</td>\n",
       "      <td>2347</td>\n",
       "    </tr>\n",
       "    <tr>\n",
       "      <th>2</th>\n",
       "      <td>63.000</td>\n",
       "      <td>2252</td>\n",
       "      <td>14</td>\n",
       "      <td>2238</td>\n",
       "    </tr>\n",
       "    <tr>\n",
       "      <th>3</th>\n",
       "      <td>79.000</td>\n",
       "      <td>2399</td>\n",
       "      <td>43</td>\n",
       "      <td>2356</td>\n",
       "    </tr>\n",
       "    <tr>\n",
       "      <th>4</th>\n",
       "      <td>95.000</td>\n",
       "      <td>2216</td>\n",
       "      <td>62</td>\n",
       "      <td>2154</td>\n",
       "    </tr>\n",
       "    <tr>\n",
       "      <th>5</th>\n",
       "      <td>110.000</td>\n",
       "      <td>2316</td>\n",
       "      <td>70</td>\n",
       "      <td>2246</td>\n",
       "    </tr>\n",
       "    <tr>\n",
       "      <th>6</th>\n",
       "      <td>126.000</td>\n",
       "      <td>2191</td>\n",
       "      <td>92</td>\n",
       "      <td>2099</td>\n",
       "    </tr>\n",
       "    <tr>\n",
       "      <th>7</th>\n",
       "      <td>142.000</td>\n",
       "      <td>2323</td>\n",
       "      <td>118</td>\n",
       "      <td>2205</td>\n",
       "    </tr>\n",
       "    <tr>\n",
       "      <th>8</th>\n",
       "      <td>160.000</td>\n",
       "      <td>2357</td>\n",
       "      <td>161</td>\n",
       "      <td>2196</td>\n",
       "    </tr>\n",
       "    <tr>\n",
       "      <th>9</th>\n",
       "      <td>180.000</td>\n",
       "      <td>2261</td>\n",
       "      <td>171</td>\n",
       "      <td>2090</td>\n",
       "    </tr>\n",
       "    <tr>\n",
       "      <th>10</th>\n",
       "      <td>202.000</td>\n",
       "      <td>2242</td>\n",
       "      <td>217</td>\n",
       "      <td>2025</td>\n",
       "    </tr>\n",
       "    <tr>\n",
       "      <th>11</th>\n",
       "      <td>227.000</td>\n",
       "      <td>2314</td>\n",
       "      <td>246</td>\n",
       "      <td>2068</td>\n",
       "    </tr>\n",
       "    <tr>\n",
       "      <th>12</th>\n",
       "      <td>258.000</td>\n",
       "      <td>2250</td>\n",
       "      <td>297</td>\n",
       "      <td>1953</td>\n",
       "    </tr>\n",
       "    <tr>\n",
       "      <th>13</th>\n",
       "      <td>296.000</td>\n",
       "      <td>2305</td>\n",
       "      <td>307</td>\n",
       "      <td>1998</td>\n",
       "    </tr>\n",
       "    <tr>\n",
       "      <th>14</th>\n",
       "      <td>345.000</td>\n",
       "      <td>2252</td>\n",
       "      <td>348</td>\n",
       "      <td>1904</td>\n",
       "    </tr>\n",
       "    <tr>\n",
       "      <th>15</th>\n",
       "      <td>411.000</td>\n",
       "      <td>2294</td>\n",
       "      <td>469</td>\n",
       "      <td>1825</td>\n",
       "    </tr>\n",
       "    <tr>\n",
       "      <th>16</th>\n",
       "      <td>521.000</td>\n",
       "      <td>2279</td>\n",
       "      <td>794</td>\n",
       "      <td>1485</td>\n",
       "    </tr>\n",
       "    <tr>\n",
       "      <th>17</th>\n",
       "      <td>721.000</td>\n",
       "      <td>2283</td>\n",
       "      <td>1226</td>\n",
       "      <td>1057</td>\n",
       "    </tr>\n",
       "  </tbody>\n",
       "</table>\n",
       "</div>"
      ],
      "text/plain": [
       "    duration  count  good   bad\n",
       "0     -0.001   2292     1  2291\n",
       "1     39.000   2350     3  2347\n",
       "2     63.000   2252    14  2238\n",
       "3     79.000   2399    43  2356\n",
       "4     95.000   2216    62  2154\n",
       "5    110.000   2316    70  2246\n",
       "6    126.000   2191    92  2099\n",
       "7    142.000   2323   118  2205\n",
       "8    160.000   2357   161  2196\n",
       "9    180.000   2261   171  2090\n",
       "10   202.000   2242   217  2025\n",
       "11   227.000   2314   246  2068\n",
       "12   258.000   2250   297  1953\n",
       "13   296.000   2305   307  1998\n",
       "14   345.000   2252   348  1904\n",
       "15   411.000   2294   469  1825\n",
       "16   521.000   2279   794  1485\n",
       "17   721.000   2283  1226  1057"
      ]
     },
     "execution_count": 66,
     "metadata": {},
     "output_type": "execute_result"
    }
   ],
   "source": [
    "iv.group_by_feature(feat_duration)\n"
   ]
  },
  {
   "cell_type": "code",
   "execution_count": 67,
   "id": "ef93c914",
   "metadata": {},
   "outputs": [
    {
     "data": {
      "text/html": [
       "<div>\n",
       "<style scoped>\n",
       "    .dataframe tbody tr th:only-of-type {\n",
       "        vertical-align: middle;\n",
       "    }\n",
       "\n",
       "    .dataframe tbody tr th {\n",
       "        vertical-align: top;\n",
       "    }\n",
       "\n",
       "    .dataframe thead th {\n",
       "        text-align: right;\n",
       "    }\n",
       "</style>\n",
       "<table border=\"1\" class=\"dataframe\">\n",
       "  <thead>\n",
       "    <tr style=\"text-align: right;\">\n",
       "      <th></th>\n",
       "      <th>duration</th>\n",
       "      <th>count</th>\n",
       "      <th>good</th>\n",
       "      <th>bad</th>\n",
       "      <th>perc_good</th>\n",
       "      <th>perc_bad</th>\n",
       "      <th>perc_diff</th>\n",
       "      <th>woe</th>\n",
       "      <th>iv</th>\n",
       "    </tr>\n",
       "  </thead>\n",
       "  <tbody>\n",
       "    <tr>\n",
       "      <th>0</th>\n",
       "      <td>-0.001</td>\n",
       "      <td>2292</td>\n",
       "      <td>1</td>\n",
       "      <td>2291</td>\n",
       "      <td>0.000216</td>\n",
       "      <td>0.062704</td>\n",
       "      <td>-0.062488</td>\n",
       "      <td>-5.672917</td>\n",
       "      <td>0.354489</td>\n",
       "    </tr>\n",
       "    <tr>\n",
       "      <th>1</th>\n",
       "      <td>39.000</td>\n",
       "      <td>2350</td>\n",
       "      <td>3</td>\n",
       "      <td>2347</td>\n",
       "      <td>0.000647</td>\n",
       "      <td>0.064236</td>\n",
       "      <td>-0.063590</td>\n",
       "      <td>-4.598454</td>\n",
       "      <td>0.292414</td>\n",
       "    </tr>\n",
       "    <tr>\n",
       "      <th>2</th>\n",
       "      <td>63.000</td>\n",
       "      <td>2252</td>\n",
       "      <td>14</td>\n",
       "      <td>2238</td>\n",
       "      <td>0.003018</td>\n",
       "      <td>0.061253</td>\n",
       "      <td>-0.058235</td>\n",
       "      <td>-3.010454</td>\n",
       "      <td>0.175314</td>\n",
       "    </tr>\n",
       "    <tr>\n",
       "      <th>3</th>\n",
       "      <td>79.000</td>\n",
       "      <td>2399</td>\n",
       "      <td>43</td>\n",
       "      <td>2356</td>\n",
       "      <td>0.009269</td>\n",
       "      <td>0.064483</td>\n",
       "      <td>-0.055213</td>\n",
       "      <td>-1.939694</td>\n",
       "      <td>0.107097</td>\n",
       "    </tr>\n",
       "    <tr>\n",
       "      <th>4</th>\n",
       "      <td>95.000</td>\n",
       "      <td>2216</td>\n",
       "      <td>62</td>\n",
       "      <td>2154</td>\n",
       "      <td>0.013365</td>\n",
       "      <td>0.058954</td>\n",
       "      <td>-0.045589</td>\n",
       "      <td>-1.484121</td>\n",
       "      <td>0.067660</td>\n",
       "    </tr>\n",
       "    <tr>\n",
       "      <th>5</th>\n",
       "      <td>110.000</td>\n",
       "      <td>2316</td>\n",
       "      <td>70</td>\n",
       "      <td>2246</td>\n",
       "      <td>0.015089</td>\n",
       "      <td>0.061472</td>\n",
       "      <td>-0.046382</td>\n",
       "      <td>-1.404584</td>\n",
       "      <td>0.065148</td>\n",
       "    </tr>\n",
       "    <tr>\n",
       "      <th>6</th>\n",
       "      <td>126.000</td>\n",
       "      <td>2191</td>\n",
       "      <td>92</td>\n",
       "      <td>2099</td>\n",
       "      <td>0.019832</td>\n",
       "      <td>0.057449</td>\n",
       "      <td>-0.037617</td>\n",
       "      <td>-1.063601</td>\n",
       "      <td>0.040009</td>\n",
       "    </tr>\n",
       "    <tr>\n",
       "      <th>7</th>\n",
       "      <td>142.000</td>\n",
       "      <td>2323</td>\n",
       "      <td>118</td>\n",
       "      <td>2205</td>\n",
       "      <td>0.025437</td>\n",
       "      <td>0.060350</td>\n",
       "      <td>-0.034913</td>\n",
       "      <td>-0.863972</td>\n",
       "      <td>0.030164</td>\n",
       "    </tr>\n",
       "    <tr>\n",
       "      <th>8</th>\n",
       "      <td>160.000</td>\n",
       "      <td>2357</td>\n",
       "      <td>161</td>\n",
       "      <td>2196</td>\n",
       "      <td>0.034706</td>\n",
       "      <td>0.060103</td>\n",
       "      <td>-0.025398</td>\n",
       "      <td>-0.549162</td>\n",
       "      <td>0.013947</td>\n",
       "    </tr>\n",
       "    <tr>\n",
       "      <th>9</th>\n",
       "      <td>180.000</td>\n",
       "      <td>2261</td>\n",
       "      <td>171</td>\n",
       "      <td>2090</td>\n",
       "      <td>0.036861</td>\n",
       "      <td>0.057202</td>\n",
       "      <td>-0.020341</td>\n",
       "      <td>-0.439429</td>\n",
       "      <td>0.008938</td>\n",
       "    </tr>\n",
       "    <tr>\n",
       "      <th>10</th>\n",
       "      <td>202.000</td>\n",
       "      <td>2242</td>\n",
       "      <td>217</td>\n",
       "      <td>2025</td>\n",
       "      <td>0.046777</td>\n",
       "      <td>0.055423</td>\n",
       "      <td>-0.008646</td>\n",
       "      <td>-0.169601</td>\n",
       "      <td>0.001466</td>\n",
       "    </tr>\n",
       "    <tr>\n",
       "      <th>11</th>\n",
       "      <td>227.000</td>\n",
       "      <td>2314</td>\n",
       "      <td>246</td>\n",
       "      <td>2068</td>\n",
       "      <td>0.053029</td>\n",
       "      <td>0.056600</td>\n",
       "      <td>-0.003571</td>\n",
       "      <td>-0.065179</td>\n",
       "      <td>0.000233</td>\n",
       "    </tr>\n",
       "    <tr>\n",
       "      <th>12</th>\n",
       "      <td>258.000</td>\n",
       "      <td>2250</td>\n",
       "      <td>297</td>\n",
       "      <td>1953</td>\n",
       "      <td>0.064022</td>\n",
       "      <td>0.053453</td>\n",
       "      <td>0.010570</td>\n",
       "      <td>0.180437</td>\n",
       "      <td>0.001907</td>\n",
       "    </tr>\n",
       "    <tr>\n",
       "      <th>13</th>\n",
       "      <td>296.000</td>\n",
       "      <td>2305</td>\n",
       "      <td>307</td>\n",
       "      <td>1998</td>\n",
       "      <td>0.066178</td>\n",
       "      <td>0.054684</td>\n",
       "      <td>0.011494</td>\n",
       "      <td>0.190772</td>\n",
       "      <td>0.002193</td>\n",
       "    </tr>\n",
       "    <tr>\n",
       "      <th>14</th>\n",
       "      <td>345.000</td>\n",
       "      <td>2252</td>\n",
       "      <td>348</td>\n",
       "      <td>1904</td>\n",
       "      <td>0.075016</td>\n",
       "      <td>0.052112</td>\n",
       "      <td>0.022905</td>\n",
       "      <td>0.364317</td>\n",
       "      <td>0.008345</td>\n",
       "    </tr>\n",
       "    <tr>\n",
       "      <th>15</th>\n",
       "      <td>411.000</td>\n",
       "      <td>2294</td>\n",
       "      <td>469</td>\n",
       "      <td>1825</td>\n",
       "      <td>0.101099</td>\n",
       "      <td>0.049949</td>\n",
       "      <td>0.051150</td>\n",
       "      <td>0.705094</td>\n",
       "      <td>0.036066</td>\n",
       "    </tr>\n",
       "    <tr>\n",
       "      <th>16</th>\n",
       "      <td>521.000</td>\n",
       "      <td>2279</td>\n",
       "      <td>794</td>\n",
       "      <td>1485</td>\n",
       "      <td>0.171158</td>\n",
       "      <td>0.040644</td>\n",
       "      <td>0.130514</td>\n",
       "      <td>1.437740</td>\n",
       "      <td>0.187645</td>\n",
       "    </tr>\n",
       "    <tr>\n",
       "      <th>17</th>\n",
       "      <td>721.000</td>\n",
       "      <td>2283</td>\n",
       "      <td>1226</td>\n",
       "      <td>1057</td>\n",
       "      <td>0.264281</td>\n",
       "      <td>0.028930</td>\n",
       "      <td>0.235352</td>\n",
       "      <td>2.212149</td>\n",
       "      <td>0.520633</td>\n",
       "    </tr>\n",
       "  </tbody>\n",
       "</table>\n",
       "</div>"
      ],
      "text/plain": [
       "    duration  count  good   bad  perc_good  perc_bad  perc_diff       woe  \\\n",
       "0     -0.001   2292     1  2291   0.000216  0.062704  -0.062488 -5.672917   \n",
       "1     39.000   2350     3  2347   0.000647  0.064236  -0.063590 -4.598454   \n",
       "2     63.000   2252    14  2238   0.003018  0.061253  -0.058235 -3.010454   \n",
       "3     79.000   2399    43  2356   0.009269  0.064483  -0.055213 -1.939694   \n",
       "4     95.000   2216    62  2154   0.013365  0.058954  -0.045589 -1.484121   \n",
       "5    110.000   2316    70  2246   0.015089  0.061472  -0.046382 -1.404584   \n",
       "6    126.000   2191    92  2099   0.019832  0.057449  -0.037617 -1.063601   \n",
       "7    142.000   2323   118  2205   0.025437  0.060350  -0.034913 -0.863972   \n",
       "8    160.000   2357   161  2196   0.034706  0.060103  -0.025398 -0.549162   \n",
       "9    180.000   2261   171  2090   0.036861  0.057202  -0.020341 -0.439429   \n",
       "10   202.000   2242   217  2025   0.046777  0.055423  -0.008646 -0.169601   \n",
       "11   227.000   2314   246  2068   0.053029  0.056600  -0.003571 -0.065179   \n",
       "12   258.000   2250   297  1953   0.064022  0.053453   0.010570  0.180437   \n",
       "13   296.000   2305   307  1998   0.066178  0.054684   0.011494  0.190772   \n",
       "14   345.000   2252   348  1904   0.075016  0.052112   0.022905  0.364317   \n",
       "15   411.000   2294   469  1825   0.101099  0.049949   0.051150  0.705094   \n",
       "16   521.000   2279   794  1485   0.171158  0.040644   0.130514  1.437740   \n",
       "17   721.000   2283  1226  1057   0.264281  0.028930   0.235352  2.212149   \n",
       "\n",
       "          iv  \n",
       "0   0.354489  \n",
       "1   0.292414  \n",
       "2   0.175314  \n",
       "3   0.107097  \n",
       "4   0.067660  \n",
       "5   0.065148  \n",
       "6   0.040009  \n",
       "7   0.030164  \n",
       "8   0.013947  \n",
       "9   0.008938  \n",
       "10  0.001466  \n",
       "11  0.000233  \n",
       "12  0.001907  \n",
       "13  0.002193  \n",
       "14  0.008345  \n",
       "15  0.036066  \n",
       "16  0.187645  \n",
       "17  0.520633  "
      ]
     },
     "metadata": {},
     "output_type": "display_data"
    },
    {
     "name": "stdout",
     "output_type": "stream",
     "text": [
      "Information value:  1.9136673804443791\n"
     ]
    }
   ],
   "source": [
    "iv_df, iv_value = iv.calculate_iv(feat_duration)\n",
    "display(iv_df)\n",
    "print('Information value: ', iv_value)"
   ]
  },
  {
   "cell_type": "code",
   "execution_count": 68,
   "id": "acde1fd9",
   "metadata": {},
   "outputs": [
    {
     "data": {
      "image/png": "[encoded data removed]",
      "text/plain": [
       "<Figure size 720x432 with 1 Axes>"
      ]
     },
     "metadata": {
      "needs_background": "light"
     },
     "output_type": "display_data"
    }
   ],
   "source": [
    "iv.draw_woe(feat_duration)\n"
   ]
  },
  {
   "cell_type": "code",
   "execution_count": 69,
   "id": "77868ed0",
   "metadata": {},
   "outputs": [
    {
     "data": {
      "image/png": "[encoded data removed]",
      "text/plain": [
       "<Figure size 720x432 with 1 Axes>"
      ]
     },
     "metadata": {
      "needs_background": "light"
     },
     "output_type": "display_data"
    }
   ],
   "source": [
    "iv.draw_woe(feat_job)\n"
   ]
  },
  {
   "cell_type": "code",
   "execution_count": 70,
   "id": "2fb238bb",
   "metadata": {},
   "outputs": [
    {
     "data": {
      "image/png": "[encoded data removed]",
      "text/plain": [
       "<Figure size 720x432 with 1 Axes>"
      ]
     },
     "metadata": {
      "needs_background": "light"
     },
     "output_type": "display_data"
    }
   ],
   "source": [
    "iv.draw_woe(feat_education)\n"
   ]
  },
  {
   "cell_type": "code",
   "execution_count": 71,
   "id": "b9dda5f1",
   "metadata": {},
   "outputs": [
    {
     "data": {
      "text/html": [
       "<div>\n",
       "<style scoped>\n",
       "    .dataframe tbody tr th:only-of-type {\n",
       "        vertical-align: middle;\n",
       "    }\n",
       "\n",
       "    .dataframe tbody tr th {\n",
       "        vertical-align: top;\n",
       "    }\n",
       "\n",
       "    .dataframe thead th {\n",
       "        text-align: right;\n",
       "    }\n",
       "</style>\n",
       "<table border=\"1\" class=\"dataframe\">\n",
       "  <thead>\n",
       "    <tr style=\"text-align: right;\">\n",
       "      <th></th>\n",
       "      <th>marital</th>\n",
       "      <th>count</th>\n",
       "      <th>good</th>\n",
       "      <th>bad</th>\n",
       "    </tr>\n",
       "  </thead>\n",
       "  <tbody>\n",
       "    <tr>\n",
       "      <th>0</th>\n",
       "      <td>divorced</td>\n",
       "      <td>4611</td>\n",
       "      <td>476</td>\n",
       "      <td>4135</td>\n",
       "    </tr>\n",
       "    <tr>\n",
       "      <th>1</th>\n",
       "      <td>married</td>\n",
       "      <td>24921</td>\n",
       "      <td>2531</td>\n",
       "      <td>22390</td>\n",
       "    </tr>\n",
       "    <tr>\n",
       "      <th>2</th>\n",
       "      <td>single</td>\n",
       "      <td>11564</td>\n",
       "      <td>1620</td>\n",
       "      <td>9944</td>\n",
       "    </tr>\n",
       "    <tr>\n",
       "      <th>3</th>\n",
       "      <td>unknown</td>\n",
       "      <td>80</td>\n",
       "      <td>12</td>\n",
       "      <td>68</td>\n",
       "    </tr>\n",
       "  </tbody>\n",
       "</table>\n",
       "</div>"
      ],
      "text/plain": [
       "    marital  count  good    bad\n",
       "0  divorced   4611   476   4135\n",
       "1   married  24921  2531  22390\n",
       "2    single  11564  1620   9944\n",
       "3   unknown     80    12     68"
      ]
     },
     "execution_count": 71,
     "metadata": {},
     "output_type": "execute_result"
    }
   ],
   "source": [
    "iv.group_by_feature(feat_marital)\n",
    "\n"
   ]
  },
  {
   "cell_type": "code",
   "execution_count": 72,
   "id": "67a85bba",
   "metadata": {},
   "outputs": [
    {
     "data": {
      "text/html": [
       "<div>\n",
       "<style scoped>\n",
       "    .dataframe tbody tr th:only-of-type {\n",
       "        vertical-align: middle;\n",
       "    }\n",
       "\n",
       "    .dataframe tbody tr th {\n",
       "        vertical-align: top;\n",
       "    }\n",
       "\n",
       "    .dataframe thead th {\n",
       "        text-align: right;\n",
       "    }\n",
       "</style>\n",
       "<table border=\"1\" class=\"dataframe\">\n",
       "  <thead>\n",
       "    <tr style=\"text-align: right;\">\n",
       "      <th></th>\n",
       "      <th>marital</th>\n",
       "      <th>count</th>\n",
       "      <th>good</th>\n",
       "      <th>bad</th>\n",
       "      <th>perc_good</th>\n",
       "      <th>perc_bad</th>\n",
       "      <th>perc_diff</th>\n",
       "      <th>woe</th>\n",
       "      <th>iv</th>\n",
       "    </tr>\n",
       "  </thead>\n",
       "  <tbody>\n",
       "    <tr>\n",
       "      <th>0</th>\n",
       "      <td>divorced</td>\n",
       "      <td>4611</td>\n",
       "      <td>476</td>\n",
       "      <td>4135</td>\n",
       "      <td>0.102608</td>\n",
       "      <td>0.113173</td>\n",
       "      <td>-0.010565</td>\n",
       "      <td>-0.097998</td>\n",
       "      <td>0.001035</td>\n",
       "    </tr>\n",
       "    <tr>\n",
       "      <th>1</th>\n",
       "      <td>married</td>\n",
       "      <td>24921</td>\n",
       "      <td>2531</td>\n",
       "      <td>22390</td>\n",
       "      <td>0.545592</td>\n",
       "      <td>0.612803</td>\n",
       "      <td>-0.067212</td>\n",
       "      <td>-0.116173</td>\n",
       "      <td>0.007808</td>\n",
       "    </tr>\n",
       "    <tr>\n",
       "      <th>2</th>\n",
       "      <td>single</td>\n",
       "      <td>11564</td>\n",
       "      <td>1620</td>\n",
       "      <td>9944</td>\n",
       "      <td>0.349213</td>\n",
       "      <td>0.272162</td>\n",
       "      <td>0.077051</td>\n",
       "      <td>0.249283</td>\n",
       "      <td>0.019207</td>\n",
       "    </tr>\n",
       "    <tr>\n",
       "      <th>3</th>\n",
       "      <td>unknown</td>\n",
       "      <td>80</td>\n",
       "      <td>12</td>\n",
       "      <td>68</td>\n",
       "      <td>0.002587</td>\n",
       "      <td>0.001861</td>\n",
       "      <td>0.000726</td>\n",
       "      <td>0.329226</td>\n",
       "      <td>0.000239</td>\n",
       "    </tr>\n",
       "  </tbody>\n",
       "</table>\n",
       "</div>"
      ],
      "text/plain": [
       "    marital  count  good    bad  perc_good  perc_bad  perc_diff       woe  \\\n",
       "0  divorced   4611   476   4135   0.102608  0.113173  -0.010565 -0.097998   \n",
       "1   married  24921  2531  22390   0.545592  0.612803  -0.067212 -0.116173   \n",
       "2    single  11564  1620   9944   0.349213  0.272162   0.077051  0.249283   \n",
       "3   unknown     80    12     68   0.002587  0.001861   0.000726  0.329226   \n",
       "\n",
       "         iv  \n",
       "0  0.001035  \n",
       "1  0.007808  \n",
       "2  0.019207  \n",
       "3  0.000239  "
      ]
     },
     "metadata": {},
     "output_type": "display_data"
    },
    {
     "name": "stdout",
     "output_type": "stream",
     "text": [
      "Information value:  0.02828989172554573\n"
     ]
    }
   ],
   "source": [
    "iv_df, iv_value = iv.calculate_iv(feat_marital)\n",
    "display(iv_df)\n",
    "print('Information value: ', iv_value)"
   ]
  },
  {
   "cell_type": "code",
   "execution_count": 73,
   "id": "dd6b1b07",
   "metadata": {},
   "outputs": [
    {
     "data": {
      "text/html": [
       "<div>\n",
       "<style scoped>\n",
       "    .dataframe tbody tr th:only-of-type {\n",
       "        vertical-align: middle;\n",
       "    }\n",
       "\n",
       "    .dataframe tbody tr th {\n",
       "        vertical-align: top;\n",
       "    }\n",
       "\n",
       "    .dataframe thead th {\n",
       "        text-align: right;\n",
       "    }\n",
       "</style>\n",
       "<table border=\"1\" class=\"dataframe\">\n",
       "  <thead>\n",
       "    <tr style=\"text-align: right;\">\n",
       "      <th></th>\n",
       "      <th>employment_variation_rate</th>\n",
       "      <th>count</th>\n",
       "      <th>good</th>\n",
       "      <th>bad</th>\n",
       "    </tr>\n",
       "  </thead>\n",
       "  <tbody>\n",
       "    <tr>\n",
       "      <th>0</th>\n",
       "      <td>-3.401</td>\n",
       "      <td>12086</td>\n",
       "      <td>2596</td>\n",
       "      <td>9490</td>\n",
       "    </tr>\n",
       "    <tr>\n",
       "      <th>1</th>\n",
       "      <td>-1.800</td>\n",
       "      <td>12862</td>\n",
       "      <td>1177</td>\n",
       "      <td>11685</td>\n",
       "    </tr>\n",
       "    <tr>\n",
       "      <th>2</th>\n",
       "      <td>1.100</td>\n",
       "      <td>16228</td>\n",
       "      <td>866</td>\n",
       "      <td>15362</td>\n",
       "    </tr>\n",
       "  </tbody>\n",
       "</table>\n",
       "</div>"
      ],
      "text/plain": [
       "   employment_variation_rate  count  good    bad\n",
       "0                     -3.401  12086  2596   9490\n",
       "1                     -1.800  12862  1177  11685\n",
       "2                      1.100  16228   866  15362"
      ]
     },
     "execution_count": 73,
     "metadata": {},
     "output_type": "execute_result"
    }
   ],
   "source": [
    "iv.group_by_feature(feat_employment_variation_rate)\n"
   ]
  },
  {
   "cell_type": "code",
   "execution_count": 74,
   "id": "04c1e315",
   "metadata": {},
   "outputs": [
    {
     "data": {
      "text/html": [
       "<div>\n",
       "<style scoped>\n",
       "    .dataframe tbody tr th:only-of-type {\n",
       "        vertical-align: middle;\n",
       "    }\n",
       "\n",
       "    .dataframe tbody tr th {\n",
       "        vertical-align: top;\n",
       "    }\n",
       "\n",
       "    .dataframe thead th {\n",
       "        text-align: right;\n",
       "    }\n",
       "</style>\n",
       "<table border=\"1\" class=\"dataframe\">\n",
       "  <thead>\n",
       "    <tr style=\"text-align: right;\">\n",
       "      <th></th>\n",
       "      <th>employment_variation_rate</th>\n",
       "      <th>count</th>\n",
       "      <th>good</th>\n",
       "      <th>bad</th>\n",
       "      <th>perc_good</th>\n",
       "      <th>perc_bad</th>\n",
       "      <th>perc_diff</th>\n",
       "      <th>woe</th>\n",
       "      <th>iv</th>\n",
       "    </tr>\n",
       "  </thead>\n",
       "  <tbody>\n",
       "    <tr>\n",
       "      <th>0</th>\n",
       "      <td>-3.401</td>\n",
       "      <td>12086</td>\n",
       "      <td>2596</td>\n",
       "      <td>9490</td>\n",
       "      <td>0.559603</td>\n",
       "      <td>0.259737</td>\n",
       "      <td>0.299867</td>\n",
       "      <td>0.767560</td>\n",
       "      <td>0.230166</td>\n",
       "    </tr>\n",
       "    <tr>\n",
       "      <th>1</th>\n",
       "      <td>-1.800</td>\n",
       "      <td>12862</td>\n",
       "      <td>1177</td>\n",
       "      <td>11685</td>\n",
       "      <td>0.253718</td>\n",
       "      <td>0.319813</td>\n",
       "      <td>-0.066094</td>\n",
       "      <td>-0.231511</td>\n",
       "      <td>0.015302</td>\n",
       "    </tr>\n",
       "    <tr>\n",
       "      <th>2</th>\n",
       "      <td>1.100</td>\n",
       "      <td>16228</td>\n",
       "      <td>866</td>\n",
       "      <td>15362</td>\n",
       "      <td>0.186678</td>\n",
       "      <td>0.420451</td>\n",
       "      <td>-0.233772</td>\n",
       "      <td>-0.811941</td>\n",
       "      <td>0.189809</td>\n",
       "    </tr>\n",
       "  </tbody>\n",
       "</table>\n",
       "</div>"
      ],
      "text/plain": [
       "   employment_variation_rate  count  good    bad  perc_good  perc_bad  \\\n",
       "0                     -3.401  12086  2596   9490   0.559603  0.259737   \n",
       "1                     -1.800  12862  1177  11685   0.253718  0.319813   \n",
       "2                      1.100  16228   866  15362   0.186678  0.420451   \n",
       "\n",
       "   perc_diff       woe        iv  \n",
       "0   0.299867  0.767560  0.230166  \n",
       "1  -0.066094 -0.231511  0.015302  \n",
       "2  -0.233772 -0.811941  0.189809  "
      ]
     },
     "metadata": {},
     "output_type": "display_data"
    },
    {
     "name": "stdout",
     "output_type": "stream",
     "text": [
      "Information value:  0.4352763949121961\n"
     ]
    }
   ],
   "source": [
    "iv_df, iv_value = iv.calculate_iv(feat_employment_variation_rate)\n",
    "display(iv_df)\n",
    "print('Information value: ', iv_value)"
   ]
  },
  {
   "cell_type": "markdown",
   "id": "19d76ecb",
   "metadata": {},
   "source": [
    "## StatsSignificance"
   ]
  },
  {
   "cell_type": "code",
   "execution_count": 75,
   "id": "dfa7d6f9",
   "metadata": {},
   "outputs": [],
   "source": [
    "s = StatsSignificance()"
   ]
  },
  {
   "cell_type": "code",
   "execution_count": 76,
   "id": "994d3c8e",
   "metadata": {},
   "outputs": [
    {
     "name": "stdout",
     "output_type": "stream",
     "text": [
      "p-value: 0.00\n",
      "effect size: 0.42\n"
     ]
    }
   ],
   "source": [
    "p_value, effect_size = s.calculate_chi(feat_duration)\n",
    "print('p-value: %0.2f' % p_value)\n",
    "print('effect size: %0.2f' % effect_size)"
   ]
  },
  {
   "cell_type": "markdown",
   "id": "44cfb4c6",
   "metadata": {},
   "source": [
    "The effect size of Duration 0.42 shows the stronger relationship. "
   ]
  },
  {
   "cell_type": "code",
   "execution_count": 77,
   "id": "1f7f7a74",
   "metadata": {},
   "outputs": [
    {
     "name": "stdout",
     "output_type": "stream",
     "text": [
      "p-value: 1.00\n",
      "effect size: 0.00\n"
     ]
    }
   ],
   "source": [
    "p_value, effect_size = s.calculate_chi(feat_previous)\n",
    "print('p-value: %0.2f' % p_value)\n",
    "print('effect size: %0.2f' % effect_size)"
   ]
  },
  {
   "cell_type": "markdown",
   "id": "816f4dc3",
   "metadata": {},
   "source": [
    "No relationship"
   ]
  },
  {
   "cell_type": "code",
   "execution_count": 78,
   "id": "55aeb60c",
   "metadata": {},
   "outputs": [
    {
     "name": "stdout",
     "output_type": "stream",
     "text": [
      "p-value: 0.00\n",
      "effect size: 0.05\n"
     ]
    }
   ],
   "source": [
    "p_value, effect_size = s.calculate_chi(feat_marital)\n",
    "print('p-value: %0.2f' % p_value)\n",
    "print('effect size: %0.2f' % effect_size)"
   ]
  },
  {
   "cell_type": "code",
   "execution_count": 79,
   "id": "20f69528",
   "metadata": {},
   "outputs": [
    {
     "name": "stdout",
     "output_type": "stream",
     "text": [
      "p-value: 0.00\n",
      "effect size: 0.07\n"
     ]
    }
   ],
   "source": [
    "p_value, effect_size = s.calculate_chi(feat_education)\n",
    "print('p-value: %0.2f' % p_value)\n",
    "print('effect size: %0.2f' % effect_size)"
   ]
  },
  {
   "cell_type": "code",
   "execution_count": 80,
   "id": "c8ea3f60",
   "metadata": {},
   "outputs": [
    {
     "name": "stdout",
     "output_type": "stream",
     "text": [
      "p-value: 0.00\n",
      "effect size: 0.15\n"
     ]
    }
   ],
   "source": [
    "p_value, effect_size = s.calculate_chi(feat_job)\n",
    "print('p-value: %0.2f' % p_value)\n",
    "print('effect size: %0.2f' % effect_size)"
   ]
  },
  {
   "cell_type": "code",
   "execution_count": 81,
   "id": "212f51e4",
   "metadata": {},
   "outputs": [
    {
     "name": "stdout",
     "output_type": "stream",
     "text": [
      "p-value: 0.00\n",
      "effect size: 0.21\n"
     ]
    }
   ],
   "source": [
    "p_value, effect_size = s.calculate_chi(feat_employment_variation_rate)\n",
    "print('p-value: %0.2f' % p_value)\n",
    "print('effect size: %0.2f' % effect_size)"
   ]
  },
  {
   "cell_type": "code",
   "execution_count": 82,
   "id": "7c95a742",
   "metadata": {},
   "outputs": [
    {
     "name": "stdout",
     "output_type": "stream",
     "text": [
      "Duration is a strong predictor.\n",
      "A feature with effect size = 0.2 is a medium predictor.\n",
      "\n",
      "P-value: 0.00\n",
      "Effect size: 0.42\n",
      "Duration is a strong predictor\n"
     ]
    }
   ],
   "source": [
    "print('%s is a %s predictor.' % (feat_duration.feature.capitalize(), s.interpret_chi(feat_duration)))\n",
    "print('A feature with effect size = 0.2 is a %s predictor.' % s.interpretation(0.2))\n",
    "print()\n",
    "s.print_chi(feat_duration)\n"
   ]
  },
  {
   "cell_type": "code",
   "execution_count": 83,
   "id": "30047c8f",
   "metadata": {},
   "outputs": [
    {
     "name": "stdout",
     "output_type": "stream",
     "text": [
      "Previous is a useless predictor.\n",
      "A feature with effect size = 0.2 is a medium predictor.\n",
      "\n",
      "P-value: 1.00\n",
      "Effect size: 0.00\n",
      "Previous is a useless predictor\n"
     ]
    }
   ],
   "source": [
    "print('%s is a %s predictor.' % (feat_previous.feature.capitalize(), s.interpret_chi(feat_previous)))\n",
    "print('A feature with effect size = 0.2 is a %s predictor.' % s.interpretation(0.2))\n",
    "print()\n",
    "s.print_chi(feat_previous)\n"
   ]
  },
  {
   "cell_type": "code",
   "execution_count": 84,
   "id": "5269dc88",
   "metadata": {},
   "outputs": [
    {
     "name": "stdout",
     "output_type": "stream",
     "text": [
      "Employment_variation_rate is a medium predictor.\n",
      "A feature with effect size = 0.2 is a medium predictor.\n",
      "\n",
      "P-value: 0.00\n",
      "Effect size: 0.21\n",
      "Employment_variation_rate is a medium predictor\n"
     ]
    }
   ],
   "source": [
    "print('%s is a %s predictor.' % (feat_employment_variation_rate.feature.capitalize(), s.interpret_chi(feat_employment_variation_rate)))\n",
    "print('A feature with effect size = 0.2 is a %s predictor.' % s.interpretation(0.2))\n",
    "print()\n",
    "s.print_chi(feat_employment_variation_rate)\n"
   ]
  },
  {
   "cell_type": "code",
   "execution_count": null,
   "id": "38d7bf01",
   "metadata": {},
   "outputs": [],
   "source": []
  },
  {
   "cell_type": "code",
   "execution_count": null,
   "id": "4ae8d12b",
   "metadata": {},
   "outputs": [],
   "source": []
  },
  {
   "cell_type": "code",
   "execution_count": null,
   "id": "28723b8e",
   "metadata": {},
   "outputs": [],
   "source": []
  },
  {
   "cell_type": "code",
   "execution_count": null,
   "id": "f37acd90",
   "metadata": {},
   "outputs": [],
   "source": []
  },
  {
   "cell_type": "markdown",
   "id": "3d5cd3b3",
   "metadata": {},
   "source": [
    "## One Hot Encoding "
   ]
  },
  {
   "cell_type": "code",
   "execution_count": 85,
   "id": "6f8c812f",
   "metadata": {},
   "outputs": [],
   "source": [
    "continuous, categorical = [], []\n",
    "\n",
    "for col in [c for c in bank_data.columns if c != 'target']:\n",
    "    if is_numeric_dtype(bank_data[col]):\n",
    "        continuous.append(col)\n",
    "    else:\n",
    "        categorical.append(col)"
   ]
  },
  {
   "cell_type": "code",
   "execution_count": 86,
   "id": "b6def02b",
   "metadata": {},
   "outputs": [
    {
     "data": {
      "text/plain": [
       "['job',\n",
       " 'marital',\n",
       " 'education',\n",
       " 'default',\n",
       " 'housing',\n",
       " 'loan',\n",
       " 'contact',\n",
       " 'month',\n",
       " 'day_of_week',\n",
       " 'poutcome',\n",
       " 'bin']"
      ]
     },
     "execution_count": 86,
     "metadata": {},
     "output_type": "execute_result"
    }
   ],
   "source": [
    "categorical"
   ]
  },
  {
   "cell_type": "code",
   "execution_count": 87,
   "id": "4d8708f2",
   "metadata": {},
   "outputs": [
    {
     "data": {
      "text/plain": [
       "['age',\n",
       " 'duration',\n",
       " 'campaign',\n",
       " 'pdays',\n",
       " 'previous',\n",
       " 'employment_variation_rate',\n",
       " 'consumer_price_index',\n",
       " 'cons.conf.idx',\n",
       " 'euribor_3_month_rate',\n",
       " 'number_of_employees']"
      ]
     },
     "execution_count": 87,
     "metadata": {},
     "output_type": "execute_result"
    }
   ],
   "source": [
    "continuous"
   ]
  },
  {
   "cell_type": "code",
   "execution_count": 88,
   "id": "385f71c5",
   "metadata": {},
   "outputs": [],
   "source": [
    "bank_data = pd.get_dummies(bank_data, columns=[\"job\", 'marital', 'education', 'default', 'housing', 'loan', 'contact', 'month', 'day_of_week', 'poutcome'])\n"
   ]
  },
  {
   "cell_type": "code",
   "execution_count": 89,
   "id": "4137436c",
   "metadata": {},
   "outputs": [
    {
     "data": {
      "text/html": [
       "<div>\n",
       "<style scoped>\n",
       "    .dataframe tbody tr th:only-of-type {\n",
       "        vertical-align: middle;\n",
       "    }\n",
       "\n",
       "    .dataframe tbody tr th {\n",
       "        vertical-align: top;\n",
       "    }\n",
       "\n",
       "    .dataframe thead th {\n",
       "        text-align: right;\n",
       "    }\n",
       "</style>\n",
       "<table border=\"1\" class=\"dataframe\">\n",
       "  <thead>\n",
       "    <tr style=\"text-align: right;\">\n",
       "      <th></th>\n",
       "      <th>age</th>\n",
       "      <th>duration</th>\n",
       "      <th>campaign</th>\n",
       "      <th>pdays</th>\n",
       "      <th>previous</th>\n",
       "      <th>employment_variation_rate</th>\n",
       "      <th>consumer_price_index</th>\n",
       "      <th>cons.conf.idx</th>\n",
       "      <th>euribor_3_month_rate</th>\n",
       "      <th>number_of_employees</th>\n",
       "      <th>target</th>\n",
       "      <th>bin</th>\n",
       "      <th>job_admin.</th>\n",
       "      <th>job_blue-collar</th>\n",
       "      <th>job_entrepreneur</th>\n",
       "      <th>job_housemaid</th>\n",
       "      <th>job_management</th>\n",
       "      <th>job_retired</th>\n",
       "      <th>job_self-employed</th>\n",
       "      <th>job_services</th>\n",
       "      <th>job_student</th>\n",
       "      <th>job_technician</th>\n",
       "      <th>job_unemployed</th>\n",
       "      <th>job_unknown</th>\n",
       "      <th>marital_divorced</th>\n",
       "      <th>marital_married</th>\n",
       "      <th>marital_single</th>\n",
       "      <th>marital_unknown</th>\n",
       "      <th>education_basic.4y</th>\n",
       "      <th>education_basic.6y</th>\n",
       "      <th>education_basic.9y</th>\n",
       "      <th>education_high.school</th>\n",
       "      <th>education_illiterate</th>\n",
       "      <th>education_professional.course</th>\n",
       "      <th>education_university.degree</th>\n",
       "      <th>education_unknown</th>\n",
       "      <th>default_no</th>\n",
       "      <th>default_unknown</th>\n",
       "      <th>default_yes</th>\n",
       "      <th>housing_no</th>\n",
       "      <th>housing_unknown</th>\n",
       "      <th>housing_yes</th>\n",
       "      <th>loan_no</th>\n",
       "      <th>loan_unknown</th>\n",
       "      <th>loan_yes</th>\n",
       "      <th>contact_cellular</th>\n",
       "      <th>contact_telephone</th>\n",
       "      <th>month_jan</th>\n",
       "      <th>month_feb</th>\n",
       "      <th>month_mar</th>\n",
       "      <th>month_apr</th>\n",
       "      <th>month_may</th>\n",
       "      <th>month_jun</th>\n",
       "      <th>month_jul</th>\n",
       "      <th>month_aug</th>\n",
       "      <th>month_sep</th>\n",
       "      <th>month_oct</th>\n",
       "      <th>month_nov</th>\n",
       "      <th>month_dec</th>\n",
       "      <th>day_of_week_mon</th>\n",
       "      <th>day_of_week_tue</th>\n",
       "      <th>day_of_week_wed</th>\n",
       "      <th>day_of_week_thu</th>\n",
       "      <th>day_of_week_fri</th>\n",
       "      <th>day_of_week_sat</th>\n",
       "      <th>day_of_week_sun</th>\n",
       "      <th>poutcome_failure</th>\n",
       "      <th>poutcome_nonexistent</th>\n",
       "      <th>poutcome_success</th>\n",
       "    </tr>\n",
       "  </thead>\n",
       "  <tbody>\n",
       "    <tr>\n",
       "      <th>0</th>\n",
       "      <td>56</td>\n",
       "      <td>261</td>\n",
       "      <td>1</td>\n",
       "      <td>999</td>\n",
       "      <td>0</td>\n",
       "      <td>1.1</td>\n",
       "      <td>93.994</td>\n",
       "      <td>-36.4</td>\n",
       "      <td>4.857</td>\n",
       "      <td>5191.0</td>\n",
       "      <td>0</td>\n",
       "      <td>housemaid</td>\n",
       "      <td>0</td>\n",
       "      <td>0</td>\n",
       "      <td>0</td>\n",
       "      <td>1</td>\n",
       "      <td>0</td>\n",
       "      <td>0</td>\n",
       "      <td>0</td>\n",
       "      <td>0</td>\n",
       "      <td>0</td>\n",
       "      <td>0</td>\n",
       "      <td>0</td>\n",
       "      <td>0</td>\n",
       "      <td>0</td>\n",
       "      <td>1</td>\n",
       "      <td>0</td>\n",
       "      <td>0</td>\n",
       "      <td>1</td>\n",
       "      <td>0</td>\n",
       "      <td>0</td>\n",
       "      <td>0</td>\n",
       "      <td>0</td>\n",
       "      <td>0</td>\n",
       "      <td>0</td>\n",
       "      <td>0</td>\n",
       "      <td>1</td>\n",
       "      <td>0</td>\n",
       "      <td>0</td>\n",
       "      <td>1</td>\n",
       "      <td>0</td>\n",
       "      <td>0</td>\n",
       "      <td>1</td>\n",
       "      <td>0</td>\n",
       "      <td>0</td>\n",
       "      <td>0</td>\n",
       "      <td>1</td>\n",
       "      <td>0</td>\n",
       "      <td>0</td>\n",
       "      <td>0</td>\n",
       "      <td>0</td>\n",
       "      <td>1</td>\n",
       "      <td>0</td>\n",
       "      <td>0</td>\n",
       "      <td>0</td>\n",
       "      <td>0</td>\n",
       "      <td>0</td>\n",
       "      <td>0</td>\n",
       "      <td>0</td>\n",
       "      <td>1</td>\n",
       "      <td>0</td>\n",
       "      <td>0</td>\n",
       "      <td>0</td>\n",
       "      <td>0</td>\n",
       "      <td>0</td>\n",
       "      <td>0</td>\n",
       "      <td>0</td>\n",
       "      <td>1</td>\n",
       "      <td>0</td>\n",
       "    </tr>\n",
       "    <tr>\n",
       "      <th>1</th>\n",
       "      <td>57</td>\n",
       "      <td>149</td>\n",
       "      <td>1</td>\n",
       "      <td>999</td>\n",
       "      <td>0</td>\n",
       "      <td>1.1</td>\n",
       "      <td>93.994</td>\n",
       "      <td>-36.4</td>\n",
       "      <td>4.857</td>\n",
       "      <td>5191.0</td>\n",
       "      <td>0</td>\n",
       "      <td>services</td>\n",
       "      <td>0</td>\n",
       "      <td>0</td>\n",
       "      <td>0</td>\n",
       "      <td>0</td>\n",
       "      <td>0</td>\n",
       "      <td>0</td>\n",
       "      <td>0</td>\n",
       "      <td>1</td>\n",
       "      <td>0</td>\n",
       "      <td>0</td>\n",
       "      <td>0</td>\n",
       "      <td>0</td>\n",
       "      <td>0</td>\n",
       "      <td>1</td>\n",
       "      <td>0</td>\n",
       "      <td>0</td>\n",
       "      <td>0</td>\n",
       "      <td>0</td>\n",
       "      <td>0</td>\n",
       "      <td>1</td>\n",
       "      <td>0</td>\n",
       "      <td>0</td>\n",
       "      <td>0</td>\n",
       "      <td>0</td>\n",
       "      <td>0</td>\n",
       "      <td>1</td>\n",
       "      <td>0</td>\n",
       "      <td>1</td>\n",
       "      <td>0</td>\n",
       "      <td>0</td>\n",
       "      <td>1</td>\n",
       "      <td>0</td>\n",
       "      <td>0</td>\n",
       "      <td>0</td>\n",
       "      <td>1</td>\n",
       "      <td>0</td>\n",
       "      <td>0</td>\n",
       "      <td>0</td>\n",
       "      <td>0</td>\n",
       "      <td>1</td>\n",
       "      <td>0</td>\n",
       "      <td>0</td>\n",
       "      <td>0</td>\n",
       "      <td>0</td>\n",
       "      <td>0</td>\n",
       "      <td>0</td>\n",
       "      <td>0</td>\n",
       "      <td>1</td>\n",
       "      <td>0</td>\n",
       "      <td>0</td>\n",
       "      <td>0</td>\n",
       "      <td>0</td>\n",
       "      <td>0</td>\n",
       "      <td>0</td>\n",
       "      <td>0</td>\n",
       "      <td>1</td>\n",
       "      <td>0</td>\n",
       "    </tr>\n",
       "    <tr>\n",
       "      <th>2</th>\n",
       "      <td>37</td>\n",
       "      <td>226</td>\n",
       "      <td>1</td>\n",
       "      <td>999</td>\n",
       "      <td>0</td>\n",
       "      <td>1.1</td>\n",
       "      <td>93.994</td>\n",
       "      <td>-36.4</td>\n",
       "      <td>4.857</td>\n",
       "      <td>5191.0</td>\n",
       "      <td>0</td>\n",
       "      <td>services</td>\n",
       "      <td>0</td>\n",
       "      <td>0</td>\n",
       "      <td>0</td>\n",
       "      <td>0</td>\n",
       "      <td>0</td>\n",
       "      <td>0</td>\n",
       "      <td>0</td>\n",
       "      <td>1</td>\n",
       "      <td>0</td>\n",
       "      <td>0</td>\n",
       "      <td>0</td>\n",
       "      <td>0</td>\n",
       "      <td>0</td>\n",
       "      <td>1</td>\n",
       "      <td>0</td>\n",
       "      <td>0</td>\n",
       "      <td>0</td>\n",
       "      <td>0</td>\n",
       "      <td>0</td>\n",
       "      <td>1</td>\n",
       "      <td>0</td>\n",
       "      <td>0</td>\n",
       "      <td>0</td>\n",
       "      <td>0</td>\n",
       "      <td>1</td>\n",
       "      <td>0</td>\n",
       "      <td>0</td>\n",
       "      <td>0</td>\n",
       "      <td>0</td>\n",
       "      <td>1</td>\n",
       "      <td>1</td>\n",
       "      <td>0</td>\n",
       "      <td>0</td>\n",
       "      <td>0</td>\n",
       "      <td>1</td>\n",
       "      <td>0</td>\n",
       "      <td>0</td>\n",
       "      <td>0</td>\n",
       "      <td>0</td>\n",
       "      <td>1</td>\n",
       "      <td>0</td>\n",
       "      <td>0</td>\n",
       "      <td>0</td>\n",
       "      <td>0</td>\n",
       "      <td>0</td>\n",
       "      <td>0</td>\n",
       "      <td>0</td>\n",
       "      <td>1</td>\n",
       "      <td>0</td>\n",
       "      <td>0</td>\n",
       "      <td>0</td>\n",
       "      <td>0</td>\n",
       "      <td>0</td>\n",
       "      <td>0</td>\n",
       "      <td>0</td>\n",
       "      <td>1</td>\n",
       "      <td>0</td>\n",
       "    </tr>\n",
       "    <tr>\n",
       "      <th>3</th>\n",
       "      <td>40</td>\n",
       "      <td>151</td>\n",
       "      <td>1</td>\n",
       "      <td>999</td>\n",
       "      <td>0</td>\n",
       "      <td>1.1</td>\n",
       "      <td>93.994</td>\n",
       "      <td>-36.4</td>\n",
       "      <td>4.857</td>\n",
       "      <td>5191.0</td>\n",
       "      <td>0</td>\n",
       "      <td>admin.</td>\n",
       "      <td>1</td>\n",
       "      <td>0</td>\n",
       "      <td>0</td>\n",
       "      <td>0</td>\n",
       "      <td>0</td>\n",
       "      <td>0</td>\n",
       "      <td>0</td>\n",
       "      <td>0</td>\n",
       "      <td>0</td>\n",
       "      <td>0</td>\n",
       "      <td>0</td>\n",
       "      <td>0</td>\n",
       "      <td>0</td>\n",
       "      <td>1</td>\n",
       "      <td>0</td>\n",
       "      <td>0</td>\n",
       "      <td>0</td>\n",
       "      <td>1</td>\n",
       "      <td>0</td>\n",
       "      <td>0</td>\n",
       "      <td>0</td>\n",
       "      <td>0</td>\n",
       "      <td>0</td>\n",
       "      <td>0</td>\n",
       "      <td>1</td>\n",
       "      <td>0</td>\n",
       "      <td>0</td>\n",
       "      <td>1</td>\n",
       "      <td>0</td>\n",
       "      <td>0</td>\n",
       "      <td>1</td>\n",
       "      <td>0</td>\n",
       "      <td>0</td>\n",
       "      <td>0</td>\n",
       "      <td>1</td>\n",
       "      <td>0</td>\n",
       "      <td>0</td>\n",
       "      <td>0</td>\n",
       "      <td>0</td>\n",
       "      <td>1</td>\n",
       "      <td>0</td>\n",
       "      <td>0</td>\n",
       "      <td>0</td>\n",
       "      <td>0</td>\n",
       "      <td>0</td>\n",
       "      <td>0</td>\n",
       "      <td>0</td>\n",
       "      <td>1</td>\n",
       "      <td>0</td>\n",
       "      <td>0</td>\n",
       "      <td>0</td>\n",
       "      <td>0</td>\n",
       "      <td>0</td>\n",
       "      <td>0</td>\n",
       "      <td>0</td>\n",
       "      <td>1</td>\n",
       "      <td>0</td>\n",
       "    </tr>\n",
       "    <tr>\n",
       "      <th>4</th>\n",
       "      <td>56</td>\n",
       "      <td>307</td>\n",
       "      <td>1</td>\n",
       "      <td>999</td>\n",
       "      <td>0</td>\n",
       "      <td>1.1</td>\n",
       "      <td>93.994</td>\n",
       "      <td>-36.4</td>\n",
       "      <td>4.857</td>\n",
       "      <td>5191.0</td>\n",
       "      <td>0</td>\n",
       "      <td>services</td>\n",
       "      <td>0</td>\n",
       "      <td>0</td>\n",
       "      <td>0</td>\n",
       "      <td>0</td>\n",
       "      <td>0</td>\n",
       "      <td>0</td>\n",
       "      <td>0</td>\n",
       "      <td>1</td>\n",
       "      <td>0</td>\n",
       "      <td>0</td>\n",
       "      <td>0</td>\n",
       "      <td>0</td>\n",
       "      <td>0</td>\n",
       "      <td>1</td>\n",
       "      <td>0</td>\n",
       "      <td>0</td>\n",
       "      <td>0</td>\n",
       "      <td>0</td>\n",
       "      <td>0</td>\n",
       "      <td>1</td>\n",
       "      <td>0</td>\n",
       "      <td>0</td>\n",
       "      <td>0</td>\n",
       "      <td>0</td>\n",
       "      <td>1</td>\n",
       "      <td>0</td>\n",
       "      <td>0</td>\n",
       "      <td>1</td>\n",
       "      <td>0</td>\n",
       "      <td>0</td>\n",
       "      <td>0</td>\n",
       "      <td>0</td>\n",
       "      <td>1</td>\n",
       "      <td>0</td>\n",
       "      <td>1</td>\n",
       "      <td>0</td>\n",
       "      <td>0</td>\n",
       "      <td>0</td>\n",
       "      <td>0</td>\n",
       "      <td>1</td>\n",
       "      <td>0</td>\n",
       "      <td>0</td>\n",
       "      <td>0</td>\n",
       "      <td>0</td>\n",
       "      <td>0</td>\n",
       "      <td>0</td>\n",
       "      <td>0</td>\n",
       "      <td>1</td>\n",
       "      <td>0</td>\n",
       "      <td>0</td>\n",
       "      <td>0</td>\n",
       "      <td>0</td>\n",
       "      <td>0</td>\n",
       "      <td>0</td>\n",
       "      <td>0</td>\n",
       "      <td>1</td>\n",
       "      <td>0</td>\n",
       "    </tr>\n",
       "  </tbody>\n",
       "</table>\n",
       "</div>"
      ],
      "text/plain": [
       "   age  duration  campaign  pdays  previous  employment_variation_rate  \\\n",
       "0   56       261         1    999         0                        1.1   \n",
       "1   57       149         1    999         0                        1.1   \n",
       "2   37       226         1    999         0                        1.1   \n",
       "3   40       151         1    999         0                        1.1   \n",
       "4   56       307         1    999         0                        1.1   \n",
       "\n",
       "   consumer_price_index  cons.conf.idx  euribor_3_month_rate  \\\n",
       "0                93.994          -36.4                 4.857   \n",
       "1                93.994          -36.4                 4.857   \n",
       "2                93.994          -36.4                 4.857   \n",
       "3                93.994          -36.4                 4.857   \n",
       "4                93.994          -36.4                 4.857   \n",
       "\n",
       "   number_of_employees  target        bin  job_admin.  job_blue-collar  \\\n",
       "0               5191.0       0  housemaid           0                0   \n",
       "1               5191.0       0   services           0                0   \n",
       "2               5191.0       0   services           0                0   \n",
       "3               5191.0       0     admin.           1                0   \n",
       "4               5191.0       0   services           0                0   \n",
       "\n",
       "   job_entrepreneur  job_housemaid  job_management  job_retired  \\\n",
       "0                 0              1               0            0   \n",
       "1                 0              0               0            0   \n",
       "2                 0              0               0            0   \n",
       "3                 0              0               0            0   \n",
       "4                 0              0               0            0   \n",
       "\n",
       "   job_self-employed  job_services  job_student  job_technician  \\\n",
       "0                  0             0            0               0   \n",
       "1                  0             1            0               0   \n",
       "2                  0             1            0               0   \n",
       "3                  0             0            0               0   \n",
       "4                  0             1            0               0   \n",
       "\n",
       "   job_unemployed  job_unknown  marital_divorced  marital_married  \\\n",
       "0               0            0                 0                1   \n",
       "1               0            0                 0                1   \n",
       "2               0            0                 0                1   \n",
       "3               0            0                 0                1   \n",
       "4               0            0                 0                1   \n",
       "\n",
       "   marital_single  marital_unknown  education_basic.4y  education_basic.6y  \\\n",
       "0               0                0                   1                   0   \n",
       "1               0                0                   0                   0   \n",
       "2               0                0                   0                   0   \n",
       "3               0                0                   0                   1   \n",
       "4               0                0                   0                   0   \n",
       "\n",
       "   education_basic.9y  education_high.school  education_illiterate  \\\n",
       "0                   0                      0                     0   \n",
       "1                   0                      1                     0   \n",
       "2                   0                      1                     0   \n",
       "3                   0                      0                     0   \n",
       "4                   0                      1                     0   \n",
       "\n",
       "   education_professional.course  education_university.degree  \\\n",
       "0                              0                            0   \n",
       "1                              0                            0   \n",
       "2                              0                            0   \n",
       "3                              0                            0   \n",
       "4                              0                            0   \n",
       "\n",
       "   education_unknown  default_no  default_unknown  default_yes  housing_no  \\\n",
       "0                  0           1                0            0           1   \n",
       "1                  0           0                1            0           1   \n",
       "2                  0           1                0            0           0   \n",
       "3                  0           1                0            0           1   \n",
       "4                  0           1                0            0           1   \n",
       "\n",
       "   housing_unknown  housing_yes  loan_no  loan_unknown  loan_yes  \\\n",
       "0                0            0        1             0         0   \n",
       "1                0            0        1             0         0   \n",
       "2                0            1        1             0         0   \n",
       "3                0            0        1             0         0   \n",
       "4                0            0        0             0         1   \n",
       "\n",
       "   contact_cellular  contact_telephone  month_jan  month_feb  month_mar  \\\n",
       "0                 0                  1          0          0          0   \n",
       "1                 0                  1          0          0          0   \n",
       "2                 0                  1          0          0          0   \n",
       "3                 0                  1          0          0          0   \n",
       "4                 0                  1          0          0          0   \n",
       "\n",
       "   month_apr  month_may  month_jun  month_jul  month_aug  month_sep  \\\n",
       "0          0          1          0          0          0          0   \n",
       "1          0          1          0          0          0          0   \n",
       "2          0          1          0          0          0          0   \n",
       "3          0          1          0          0          0          0   \n",
       "4          0          1          0          0          0          0   \n",
       "\n",
       "   month_oct  month_nov  month_dec  day_of_week_mon  day_of_week_tue  \\\n",
       "0          0          0          0                1                0   \n",
       "1          0          0          0                1                0   \n",
       "2          0          0          0                1                0   \n",
       "3          0          0          0                1                0   \n",
       "4          0          0          0                1                0   \n",
       "\n",
       "   day_of_week_wed  day_of_week_thu  day_of_week_fri  day_of_week_sat  \\\n",
       "0                0                0                0                0   \n",
       "1                0                0                0                0   \n",
       "2                0                0                0                0   \n",
       "3                0                0                0                0   \n",
       "4                0                0                0                0   \n",
       "\n",
       "   day_of_week_sun  poutcome_failure  poutcome_nonexistent  poutcome_success  \n",
       "0                0                 0                     1                 0  \n",
       "1                0                 0                     1                 0  \n",
       "2                0                 0                     1                 0  \n",
       "3                0                 0                     1                 0  \n",
       "4                0                 0                     1                 0  "
      ]
     },
     "execution_count": 89,
     "metadata": {},
     "output_type": "execute_result"
    }
   ],
   "source": [
    "bank_data.head()\n"
   ]
  },
  {
   "cell_type": "code",
   "execution_count": 90,
   "id": "64d64592",
   "metadata": {},
   "outputs": [
    {
     "data": {
      "text/plain": [
       "(41176, 69)"
      ]
     },
     "execution_count": 90,
     "metadata": {},
     "output_type": "execute_result"
    }
   ],
   "source": [
    "bank_data.shape\n"
   ]
  },
  {
   "cell_type": "code",
   "execution_count": null,
   "id": "a9abded6",
   "metadata": {},
   "outputs": [],
   "source": []
  },
  {
   "cell_type": "code",
   "execution_count": null,
   "id": "025b5078",
   "metadata": {},
   "outputs": [],
   "source": []
  }
 ],
 "metadata": {
  "kernelspec": {
   "display_name": "Python 3 (ipykernel)",
   "language": "python",
   "name": "python3"
  },
  "language_info": {
   "codemirror_mode": {
    "name": "ipython",
    "version": 3
   },
   "file_extension": ".py",
   "mimetype": "text/x-python",
   "name": "python",
   "nbconvert_exporter": "python",
   "pygments_lexer": "ipython3",
   "version": "3.9.12"
  }
 },
 "nbformat": 4,
 "nbformat_minor": 5
}
